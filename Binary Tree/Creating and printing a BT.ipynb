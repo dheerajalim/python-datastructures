{
 "cells": [
  {
   "cell_type": "markdown",
   "metadata": {},
   "source": [
    "### Creating a binary tree and Printing a Binary Tree"
   ]
  },
  {
   "cell_type": "markdown",
   "metadata": {},
   "source": [
    "A binary tree is a tree which allows atmost 2 nodes (0,1,2) i.e if x is the root the it can have maximum of two nodes or no node (0 node). Or either a left node or right node"
   ]
  },
  {
   "cell_type": "code",
   "execution_count": 21,
   "metadata": {},
   "outputs": [],
   "source": [
    "class BinaryTree():\n",
    "    \n",
    "    def __init__(self,data):\n",
    "        self.data = data\n",
    "        self.left = None\n",
    "        self.right = None\n",
    "        \n",
    "    def printBT(self,root):\n",
    "        \n",
    "        if root is None:\n",
    "            return\n",
    "        \n",
    "        print(root.data, end=\":\")\n",
    "        \n",
    "        if root.left is not None:\n",
    "            print(\"L\", root.left.data, end=\",\")\n",
    "        \n",
    "        if root.right is not None:\n",
    "            print(\"R\", root.right.data,end=\" \")\n",
    "        \n",
    "        print()\n",
    "        self.printBT(root.left)\n",
    "        self.printBT(root.right)\n",
    "        \n",
    "        \n",
    "        "
   ]
  },
  {
   "cell_type": "code",
   "execution_count": 22,
   "metadata": {},
   "outputs": [
    {
     "name": "stdout",
     "output_type": "stream",
     "text": [
      "10:L 20,R 30 \n",
      "20:L 60,\n",
      "60:\n",
      "30:R 70 \n",
      "70:\n"
     ]
    }
   ],
   "source": [
    "b1 = BinaryTree(10)\n",
    "b2 = BinaryTree(20)\n",
    "b3 = BinaryTree(30)\n",
    "\n",
    "b1.left = b2\n",
    "b1.right = b3\n",
    "\n",
    "b4 = BinaryTree(60)\n",
    "b5 = BinaryTree(70)\n",
    "\n",
    "b2.left = b4\n",
    "b3.right = b5\n",
    "\n",
    "root.printBT(b1)"
   ]
  },
  {
   "cell_type": "markdown",
   "metadata": {},
   "source": []
  },
  {
   "cell_type": "code",
   "execution_count": null,
   "metadata": {},
   "outputs": [],
   "source": []
  }
 ],
 "metadata": {
  "kernelspec": {
   "display_name": "Python 3",
   "language": "python",
   "name": "python3"
  },
  "language_info": {
   "codemirror_mode": {
    "name": "ipython",
    "version": 3
   },
   "file_extension": ".py",
   "mimetype": "text/x-python",
   "name": "python",
   "nbconvert_exporter": "python",
   "pygments_lexer": "ipython3",
   "version": "3.8.5"
  }
 },
 "nbformat": 4,
 "nbformat_minor": 4
}
