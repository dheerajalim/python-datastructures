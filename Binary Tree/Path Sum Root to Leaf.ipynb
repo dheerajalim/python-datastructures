{
 "cells": [
  {
   "cell_type": "markdown",
   "metadata": {},
   "source": [
    "### Path Sum Root to Leaf\n",
    "\n",
    "\n",
    "For a given Binary Tree of type integer and a number K, print out all root-to-leaf paths where the sum of all the node data along the path is equal to K.\n",
    "\n",
    "![title](image/c.png)\n",
    "\n",
    "\n",
    "If you see in the above-depicted picture of Binary Tree, we see that there are a total of two paths, starting from the root and ending at the leaves which sum up to a value of K = 13.\n",
    "\n",
    "The paths are:\n",
    "\n",
    "a. 2 3 4 4\n",
    "\n",
    "b. 2 3 8\n",
    "\n",
    "One thing to note here is, there is another path in the right sub-tree in reference to the root, which sums up to 13 but since it doesn't end at the leaf, we discard it.\n",
    "\n",
    "The path is: 2 9 2(not a leaf)"
   ]
  },
  {
   "cell_type": "code",
   "execution_count": 2,
   "metadata": {},
   "outputs": [],
   "source": [
    "class BinaryTree(object):\n",
    "    \n",
    "    def __init__(self,data):\n",
    "        self.data = data\n",
    "        self.left = None\n",
    "        self.right = None\n",
    "\n",
    "def inserttree():\n",
    "    \n",
    "    rootdata = int(input())\n",
    "    \n",
    "    if rootdata == -1:\n",
    "        return\n",
    "    \n",
    "    root = BinaryTree(rootdata)\n",
    "    \n",
    "    root.left = inserttree()\n",
    "    root.right = inserttree()\n",
    "    \n",
    "    return root\n",
    "\n",
    "def printtree(root):\n",
    "    \n",
    "    if root is None:\n",
    "        return None\n",
    "    \n",
    "    print(root.data , end=\": \")\n",
    "    if root.left is not None:\n",
    "        print(\"L \", root.left.data, end = \",\")\n",
    "    \n",
    "    if root.right is not None:\n",
    "        print(\"R \", root.right.data, end=\"\")\n",
    "    \n",
    "    print()\n",
    "    \n",
    "    printtree(root.left)\n",
    "    printtree(root.right)"
   ]
  },
  {
   "cell_type": "code",
   "execution_count": 47,
   "metadata": {},
   "outputs": [],
   "source": [
    "def rootToLeafPathsSumToKprint(root,k,stack):\n",
    "    \n",
    "    if root is None:\n",
    "        return None\n",
    "    stack.append(root.data)\n",
    "    rootToLeafPathsSumToKprint(root.left,k-root.data,stack)\n",
    "    rootToLeafPathsSumToKprint(root.right, k-root.data,stack)\n",
    "    \n",
    "    \n",
    "    if root.data - k == 0 and root.left is None and root.right is None:\n",
    "        print(*stack)\n",
    "        \n",
    "    stack.pop()\n",
    "    "
   ]
  },
  {
   "cell_type": "code",
   "execution_count": 44,
   "metadata": {},
   "outputs": [],
   "source": [
    "def rootToLeafPathsSumToK(root, k):\n",
    "    \n",
    "    stack = [] # to store the path\n",
    "    \n",
    "    rootToLeafPathsSumToKprint(root, k ,stack)\n",
    "\n"
   ]
  },
  {
   "cell_type": "code",
   "execution_count": 4,
   "metadata": {},
   "outputs": [
    {
     "name": "stdin",
     "output_type": "stream",
     "text": [
      " 2\n",
      " 3\n",
      " 4\n",
      " 4\n",
      " -1\n",
      " -1\n",
      " -1\n",
      " 8\n",
      " -1\n",
      " -1\n",
      " 9\n",
      " -1\n",
      " 2\n",
      " 6\n",
      " -1\n",
      " -1\n",
      " -1\n"
     ]
    },
    {
     "name": "stdout",
     "output_type": "stream",
     "text": [
      "2: L  3,R  9\n",
      "3: L  4,R  8\n",
      "4: L  4,\n",
      "4: \n",
      "8: \n",
      "9: R  2\n",
      "2: L  6,\n",
      "6: \n"
     ]
    }
   ],
   "source": [
    "root = inserttree()\n",
    "printtree(root)"
   ]
  },
  {
   "cell_type": "code",
   "execution_count": 48,
   "metadata": {},
   "outputs": [
    {
     "name": "stdout",
     "output_type": "stream",
     "text": [
      "2 3 4 4\n",
      "2 3 8\n"
     ]
    }
   ],
   "source": [
    "rootToLeafPathsSumToKprint(root,13,[])"
   ]
  },
  {
   "cell_type": "code",
   "execution_count": 35,
   "metadata": {},
   "outputs": [
    {
     "name": "stdin",
     "output_type": "stream",
     "text": [
      " 5\n",
      " 6\n",
      " 2\n",
      " -1\n",
      " -1\n",
      " 3\n",
      " -1\n",
      " 9\n",
      " -1\n",
      " -1\n",
      " 7\n",
      " -1\n",
      " 1\n",
      " -1\n",
      " -1\n"
     ]
    },
    {
     "name": "stdout",
     "output_type": "stream",
     "text": [
      "5: L  6,R  7\n",
      "6: L  2,R  3\n",
      "2: \n",
      "3: R  9\n",
      "9: \n",
      "7: R  1\n",
      "1: \n"
     ]
    }
   ],
   "source": [
    "root1 = inserttree()\n",
    "printtree(root1)"
   ]
  },
  {
   "cell_type": "code",
   "execution_count": 50,
   "metadata": {},
   "outputs": [
    {
     "name": "stdout",
     "output_type": "stream",
     "text": [
      "5 6 2\n",
      "5 7 1\n"
     ]
    }
   ],
   "source": [
    "rootToLeafPathsSumToKprint(root1,13,[])"
   ]
  },
  {
   "cell_type": "markdown",
   "metadata": {},
   "source": [
    "### Ninja Way"
   ]
  },
  {
   "cell_type": "code",
   "execution_count": 51,
   "metadata": {},
   "outputs": [],
   "source": [
    "def rootToLeafPathsSumToKprintNinja(root,k,path,currsum):\n",
    "    \n",
    "    if root is None:\n",
    "        return None\n",
    "    \n",
    "    if root.left is None and root.right is None:\n",
    "        currsum += root.data\n",
    "        \n",
    "        if  k == currsum:\n",
    "            print(path + str(root.data))\n",
    "        \n",
    "    \n",
    "    rootToLeafPathsSumToKprintNinja(root.left,k,str(path + str(root.data) + \" \"), currsum + root.data )\n",
    "    rootToLeafPathsSumToKprintNinja(root.right,k,str(path + str(root.data) + \" \"), currsum + root.data )"
   ]
  },
  {
   "cell_type": "code",
   "execution_count": 53,
   "metadata": {},
   "outputs": [
    {
     "name": "stdout",
     "output_type": "stream",
     "text": [
      "2 3 4 4\n",
      "2 3 8\n"
     ]
    }
   ],
   "source": [
    "rootToLeafPathsSumToKprintNinja(root,13,\"\",0)"
   ]
  },
  {
   "cell_type": "code",
   "execution_count": null,
   "metadata": {},
   "outputs": [],
   "source": []
  }
 ],
 "metadata": {
  "kernelspec": {
   "display_name": "Python 3",
   "language": "python",
   "name": "python3"
  },
  "language_info": {
   "codemirror_mode": {
    "name": "ipython",
    "version": 3
   },
   "file_extension": ".py",
   "mimetype": "text/x-python",
   "name": "python",
   "nbconvert_exporter": "python",
   "pygments_lexer": "ipython3",
   "version": "3.8.5"
  }
 },
 "nbformat": 4,
 "nbformat_minor": 4
}
