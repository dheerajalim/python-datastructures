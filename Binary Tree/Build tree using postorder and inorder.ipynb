{
 "cells": [
  {
   "cell_type": "markdown",
   "metadata": {},
   "source": [
    "### Building a Tree using Postorder and Inorder"
   ]
  },
  {
   "cell_type": "markdown",
   "metadata": {},
   "source": [
    "Time Complexity : O(n^2)\n",
    "\n",
    "Space Complexity : O(H) ; H is the height of the tree"
   ]
  },
  {
   "cell_type": "code",
   "execution_count": 1,
   "metadata": {},
   "outputs": [],
   "source": [
    "class BinaryTree(object):\n",
    "    \n",
    "    def __init__(self,data):\n",
    "        self.data = data\n",
    "        self.left = None\n",
    "        self.right = None\n",
    "\n",
    "def printtree(root):\n",
    "    \n",
    "    if root is None:\n",
    "        return None\n",
    "    \n",
    "    print(root.data , end=\": \")\n",
    "    if root.left is not None:\n",
    "        print(\"L \", root.left.data, end = \",\")\n",
    "    \n",
    "    if root.right is not None:\n",
    "        print(\"R \", root.right.data, end=\"\")\n",
    "    \n",
    "    print()\n",
    "    \n",
    "    printtree(root.left)\n",
    "    printtree(root.right)"
   ]
  },
  {
   "cell_type": "code",
   "execution_count": 90,
   "metadata": {},
   "outputs": [],
   "source": [
    "def buidltree(postorder,inorder,n):\n",
    "    \n",
    "    if n == 0:\n",
    "        return None\n",
    "    if n==1:\n",
    "        return BinaryTree(postorder[-1])\n",
    "    \n",
    "    rootdata = postorder[-1]\n",
    "    root = BinaryTree(rootdata)\n",
    "    \n",
    "    rootindex = -1\n",
    "    for i in range(len(inorder)):\n",
    "        if inorder[i] == rootdata:\n",
    "            rootindex = i\n",
    "            break\n",
    "            \n",
    "    inorderleft = inorder[:rootindex]\n",
    "    inorderright = inorder[rootindex+1:]\n",
    "\n",
    "    n = len(inorderleft)\n",
    "    postorderleft = postorder[:n]\n",
    "    postorderright = postorder[n:len(postorder)-1]\n",
    "\n",
    "    leftdata = buidltree(postorderleft,inorderleft, len(postorderleft))\n",
    "    rightdata = buidltree(postorderright,inorderright,len(postorderright))\n",
    "\n",
    "    root.left = leftdata\n",
    "    root.right = rightdata\n",
    "    \n",
    "    return root"
   ]
  },
  {
   "cell_type": "code",
   "execution_count": 91,
   "metadata": {},
   "outputs": [
    {
     "name": "stdout",
     "output_type": "stream",
     "text": [
      "5: L  6,R  10\n",
      "6: L  2,R  3\n",
      "2: \n",
      "3: R  9\n",
      "9: \n",
      "10: \n"
     ]
    }
   ],
   "source": [
    "postorder = [2, 9, 3, 6, 10, 5]\n",
    "inorder =[2, 6, 3, 9, 5, 10]\n",
    "root = buidltree(postorder,inorder,len(postorder))\n",
    "printtree(root)"
   ]
  },
  {
   "cell_type": "code",
   "execution_count": 92,
   "metadata": {},
   "outputs": [
    {
     "name": "stdout",
     "output_type": "stream",
     "text": [
      "8: L  3,R  10\n",
      "3: L  1,R  6\n",
      "1: \n",
      "6: L  4,R  7\n",
      "4: \n",
      "7: \n",
      "10: R  14\n",
      "14: L  13,\n",
      "13: \n"
     ]
    }
   ],
   "source": [
    "postorder = [1, 4, 7, 6, 3, 13, 14, 10, 8]\n",
    "inorder =[1, 3, 4, 6, 7, 8, 10, 13, 14]\n",
    "root = buidltree(postorder,inorder,len(postorder))\n",
    "printtree(root)"
   ]
  },
  {
   "cell_type": "code",
   "execution_count": null,
   "metadata": {},
   "outputs": [],
   "source": [
    "\n"
   ]
  },
  {
   "cell_type": "code",
   "execution_count": null,
   "metadata": {},
   "outputs": [],
   "source": []
  }
 ],
 "metadata": {
  "kernelspec": {
   "display_name": "Python 3",
   "language": "python",
   "name": "python3"
  },
  "language_info": {
   "codemirror_mode": {
    "name": "ipython",
    "version": 3
   },
   "file_extension": ".py",
   "mimetype": "text/x-python",
   "name": "python",
   "nbconvert_exporter": "python",
   "pygments_lexer": "ipython3",
   "version": "3.8.5"
  }
 },
 "nbformat": 4,
 "nbformat_minor": 4
}
