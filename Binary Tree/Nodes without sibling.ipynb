{
 "cells": [
  {
   "cell_type": "markdown",
   "metadata": {},
   "source": [
    "### Nodes without sibling\n",
    "\n",
    "\n",
    "For a given Binary Tree of type integer, print all the nodes without any siblings."
   ]
  },
  {
   "cell_type": "code",
   "execution_count": 1,
   "metadata": {},
   "outputs": [],
   "source": [
    "class BinaryTree(object):\n",
    "    \n",
    "    def __init__(self,data):\n",
    "        \n",
    "        self.data = data\n",
    "        self.left = None\n",
    "        self.right = None\n",
    "\n",
    "def inserttree():\n",
    "    \n",
    "    rootdata = int(input())\n",
    "    root = BinaryTree(rootdata)\n",
    "    \n",
    "    if root.data == -1:\n",
    "        return None\n",
    "    \n",
    "    leftdata = inserttree()\n",
    "    rightdata = inserttree()\n",
    "    \n",
    "    root.left = leftdata\n",
    "    root.right = rightdata\n",
    "    \n",
    "    return root\n",
    "\n",
    "def printtree(root):\n",
    "    \n",
    "    if root is None:\n",
    "        return\n",
    "    \n",
    "    print(root.data, end=\": \")\n",
    "    \n",
    "    if root.left is not None:\n",
    "        print(\"L\", root.left.data,end = \",\")\n",
    "    \n",
    "    if root.right is not None:\n",
    "        print(\"R\", root.right.data,end = \" \")\n",
    "        \n",
    "    print()\n",
    "    \n",
    "    printtree(root.left)\n",
    "    printtree(root.right)"
   ]
  },
  {
   "cell_type": "code",
   "execution_count": 21,
   "metadata": {},
   "outputs": [],
   "source": [
    "def printNodesWithoutSibling(root):\n",
    "    \n",
    "    if root is None:\n",
    "        return\n",
    "    \n",
    "    if root.left is None and root.right is None:\n",
    "        return\n",
    "    if root.left is None:\n",
    "        print(root.right.data, end =\" \")\n",
    "    if root.right is None:\n",
    "        print(root.left.data, end =\" \")\n",
    "        \n",
    "    printNodesWithoutSibling(root.left)\n",
    "    printNodesWithoutSibling(root.right)"
   ]
  },
  {
   "cell_type": "code",
   "execution_count": 6,
   "metadata": {},
   "outputs": [
    {
     "name": "stdin",
     "output_type": "stream",
     "text": [
      " 2\n",
      " 4\n",
      " 6\n",
      " 20\n",
      " -1\n",
      " 8\n",
      " -1\n",
      " -1\n",
      " 30\n",
      " 9\n",
      " -1\n",
      " -1\n",
      " -1\n",
      " -1\n",
      " 5\n",
      " -1\n",
      " 7\n",
      " 80\n",
      " -1\n",
      " -1\n",
      " 90\n",
      " -1\n",
      " -1\n"
     ]
    },
    {
     "name": "stdout",
     "output_type": "stream",
     "text": [
      "2: L 4,R 5 \n",
      "4: L 6,\n",
      "6: L 20,R 30 \n",
      "20: R 8 \n",
      "8: \n",
      "30: L 9,\n",
      "9: \n",
      "5: R 7 \n",
      "7: L 80,R 90 \n",
      "80: \n",
      "90: \n"
     ]
    }
   ],
   "source": [
    "root = inserttree()\n",
    "printtree(root)"
   ]
  },
  {
   "cell_type": "code",
   "execution_count": 22,
   "metadata": {},
   "outputs": [
    {
     "name": "stdout",
     "output_type": "stream",
     "text": [
      "6 8 9 7 "
     ]
    }
   ],
   "source": [
    "printNodesWithoutSibling(root)"
   ]
  },
  {
   "cell_type": "code",
   "execution_count": null,
   "metadata": {},
   "outputs": [],
   "source": []
  }
 ],
 "metadata": {
  "kernelspec": {
   "display_name": "Python 3",
   "language": "python",
   "name": "python3"
  },
  "language_info": {
   "codemirror_mode": {
    "name": "ipython",
    "version": 3
   },
   "file_extension": ".py",
   "mimetype": "text/x-python",
   "name": "python",
   "nbconvert_exporter": "python",
   "pygments_lexer": "ipython3",
   "version": "3.8.5"
  }
 },
 "nbformat": 4,
 "nbformat_minor": 4
}
