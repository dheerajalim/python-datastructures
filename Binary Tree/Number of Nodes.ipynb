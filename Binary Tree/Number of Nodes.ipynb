{
 "cells": [
  {
   "cell_type": "markdown",
   "metadata": {},
   "source": [
    "### Calculating the total number of nodes inside the binary tree"
   ]
  },
  {
   "cell_type": "code",
   "execution_count": 1,
   "metadata": {},
   "outputs": [],
   "source": [
    "class BinaryTree(object):\n",
    "    \n",
    "    def __init__(self,data):\n",
    "        self.data = data\n",
    "        self.left = None\n",
    "        self.right = None\n",
    "        "
   ]
  },
  {
   "cell_type": "code",
   "execution_count": 2,
   "metadata": {},
   "outputs": [],
   "source": [
    "def printtree(root):\n",
    "    \n",
    "    if root is None:\n",
    "        return\n",
    "    \n",
    "    print(root.data,end =\": \")\n",
    "    if root.left is not None:\n",
    "        print(\"L \", root.left.data, end = \",\")\n",
    "    if root.right is not None:\n",
    "        print(\"R \", root.right.data, end =\" \")\n",
    "    \n",
    "    print()\n",
    "    \n",
    "    printtree(root.left)\n",
    "    printtree(root.right)"
   ]
  },
  {
   "cell_type": "code",
   "execution_count": 3,
   "metadata": {},
   "outputs": [],
   "source": [
    "def takeinput():\n",
    "    \n",
    "    rootdata = int(input())\n",
    "    \n",
    "    if rootdata == -1:\n",
    "        return None\n",
    "    \n",
    "    root = BinaryTree(rootdata)\n",
    "    \n",
    "    leftdata = takeinput()\n",
    "    rightdata = takeinput()\n",
    "    \n",
    "    root.left = leftdata\n",
    "    root.right = rightdata\n",
    "    \n",
    "    return root"
   ]
  },
  {
   "cell_type": "code",
   "execution_count": 4,
   "metadata": {},
   "outputs": [],
   "source": [
    "def countNode(root):\n",
    "    \n",
    "    if root is None:\n",
    "        return 0\n",
    "    \n",
    "    leftNodecount = countNode(root.left)\n",
    "    rightNodecount = countNode(root.right)\n",
    "    \n",
    "    return 1 + leftNodecount + rightNodecount\n",
    "    \n",
    "    "
   ]
  },
  {
   "cell_type": "code",
   "execution_count": 9,
   "metadata": {},
   "outputs": [],
   "source": [
    "def sumNode(root):\n",
    "    \n",
    "    if root is None:\n",
    "        return 0\n",
    "    \n",
    "    leftNodecount = sumNode(root.left)\n",
    "    rightNodecount = sumNode(root.right)\n",
    "    print(root.data)\n",
    "    return root.data + leftNodecount + rightNodecount\n",
    "    \n",
    "    "
   ]
  },
  {
   "cell_type": "code",
   "execution_count": 12,
   "metadata": {},
   "outputs": [
    {
     "name": "stdin",
     "output_type": "stream",
     "text": [
      " 1\n",
      " 2\n",
      " 4\n",
      " -1\n",
      " -1\n",
      " -1\n",
      " 3\n",
      " -1\n",
      " -1\n"
     ]
    },
    {
     "name": "stdout",
     "output_type": "stream",
     "text": [
      "1: L  2,R  3 \n",
      "2: L  4,\n",
      "4: \n",
      "3: \n",
      "4\n",
      "2\n",
      "3\n",
      "1\n"
     ]
    },
    {
     "data": {
      "text/plain": [
       "10"
      ]
     },
     "execution_count": 12,
     "metadata": {},
     "output_type": "execute_result"
    }
   ],
   "source": [
    "root = takeinput()\n",
    "printtree(root)\n",
    "countNode(root)\n",
    "sumNode(root)"
   ]
  },
  {
   "cell_type": "code",
   "execution_count": 11,
   "metadata": {},
   "outputs": [
    {
     "name": "stdout",
     "output_type": "stream",
     "text": [
      "2\n",
      "3\n",
      "1\n"
     ]
    },
    {
     "data": {
      "text/plain": [
       "6"
      ]
     },
     "execution_count": 11,
     "metadata": {},
     "output_type": "execute_result"
    }
   ],
   "source": [
    "sumNode(root)"
   ]
  },
  {
   "cell_type": "code",
   "execution_count": null,
   "metadata": {},
   "outputs": [],
   "source": []
  }
 ],
 "metadata": {
  "kernelspec": {
   "display_name": "Python 3",
   "language": "python",
   "name": "python3"
  },
  "language_info": {
   "codemirror_mode": {
    "name": "ipython",
    "version": 3
   },
   "file_extension": ".py",
   "mimetype": "text/x-python",
   "name": "python",
   "nbconvert_exporter": "python",
   "pygments_lexer": "ipython3",
   "version": "3.8.5"
  }
 },
 "nbformat": 4,
 "nbformat_minor": 4
}
