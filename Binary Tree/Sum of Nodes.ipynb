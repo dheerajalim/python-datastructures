{
 "cells": [
  {
   "cell_type": "markdown",
   "metadata": {},
   "source": [
    "#### Getting the sum of all the nodes in the Binart tree"
   ]
  },
  {
   "cell_type": "code",
   "execution_count": 3,
   "metadata": {},
   "outputs": [],
   "source": [
    "class BinaryTree(object):\n",
    "    \n",
    "    def __init__(self,data):\n",
    "        self.data = data\n",
    "        self.left = None\n",
    "        self.right =  None"
   ]
  },
  {
   "cell_type": "code",
   "execution_count": 8,
   "metadata": {},
   "outputs": [],
   "source": [
    "def inserttree():\n",
    "    \n",
    "    rootdata  = int(input())\n",
    "    root = BinaryTree(rootdata)\n",
    "    \n",
    "    if root.data  == -1:\n",
    "        return None\n",
    "    \n",
    "    leftrootdata = inserttree()\n",
    "    rightrootdata = inserttree()\n",
    "    \n",
    "    root.left = leftrootdata\n",
    "    root.right = rightrootdata\n",
    "    \n",
    "    return root"
   ]
  },
  {
   "cell_type": "code",
   "execution_count": 11,
   "metadata": {},
   "outputs": [],
   "source": [
    "def printtree(root):\n",
    "    \n",
    "    if root is None:\n",
    "        return\n",
    "    \n",
    "    print(root.data, end=\": \")\n",
    "    \n",
    "    if root.left is not None:\n",
    "        print(\"L\", root.left.data,end = \",\")\n",
    "    \n",
    "    if root.right is not None:\n",
    "        print(\"R\", root.right.data,end = \" \")\n",
    "        \n",
    "    print()\n",
    "    \n",
    "    printtree(root.left)\n",
    "    printtree(root.right)\n",
    "    "
   ]
  },
  {
   "cell_type": "code",
   "execution_count": 15,
   "metadata": {},
   "outputs": [],
   "source": [
    "def sumNodes(root):\n",
    "    \n",
    "    if root is None:\n",
    "        return 0\n",
    "    \n",
    "    leftrootsum = sumNodes(root.left)\n",
    "    rightrootsum = sumNodes(root.right)\n",
    "    \n",
    "    return root.data + leftrootsum + rightrootsum\n"
   ]
  },
  {
   "cell_type": "code",
   "execution_count": 17,
   "metadata": {},
   "outputs": [
    {
     "name": "stdin",
     "output_type": "stream",
     "text": [
      " 1\n",
      " 2\n",
      " 3\n",
      " -1\n",
      " -1\n",
      " -1\n",
      " 1\n",
      " -1\n",
      " -1\n"
     ]
    },
    {
     "name": "stdout",
     "output_type": "stream",
     "text": [
      "1: L 2,R 1 \n",
      "2: L 3,\n",
      "3: \n",
      "1: \n"
     ]
    }
   ],
   "source": [
    "root = inserttree()\n",
    "printtree(root)"
   ]
  },
  {
   "cell_type": "code",
   "execution_count": 18,
   "metadata": {},
   "outputs": [
    {
     "name": "stdout",
     "output_type": "stream",
     "text": [
      "Sum of Binary Tree Nodes:  7\n"
     ]
    }
   ],
   "source": [
    "print(\"Sum of Binary Tree Nodes: \", sumNodes(root))"
   ]
  },
  {
   "cell_type": "code",
   "execution_count": null,
   "metadata": {},
   "outputs": [],
   "source": []
  }
 ],
 "metadata": {
  "kernelspec": {
   "display_name": "Python 3",
   "language": "python",
   "name": "python3"
  },
  "language_info": {
   "codemirror_mode": {
    "name": "ipython",
    "version": 3
   },
   "file_extension": ".py",
   "mimetype": "text/x-python",
   "name": "python",
   "nbconvert_exporter": "python",
   "pygments_lexer": "ipython3",
   "version": "3.8.5"
  }
 },
 "nbformat": 4,
 "nbformat_minor": 4
}
