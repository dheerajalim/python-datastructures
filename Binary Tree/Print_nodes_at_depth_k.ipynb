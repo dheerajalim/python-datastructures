{
 "cells": [
  {
   "cell_type": "markdown",
   "metadata": {},
   "source": [
    "### Printing all Nodes at Depth K"
   ]
  },
  {
   "cell_type": "code",
   "execution_count": 1,
   "metadata": {},
   "outputs": [],
   "source": [
    "class BinaryTree(object):\n",
    "    \n",
    "    def __init__(self,data):\n",
    "        \n",
    "        self.data = data\n",
    "        self.left = None\n",
    "        self.right = None\n",
    "\n",
    "def inserttree():\n",
    "    \n",
    "    rootdata = int(input())\n",
    "    root = BinaryTree(rootdata)\n",
    "    \n",
    "    if root.data == -1:\n",
    "        return None\n",
    "    \n",
    "    leftdata = inserttree()\n",
    "    rightdata = inserttree()\n",
    "    \n",
    "    root.left = leftdata\n",
    "    root.right = rightdata\n",
    "    \n",
    "    return root\n",
    "\n",
    "def printtree(root):\n",
    "    \n",
    "    if root is None:\n",
    "        return\n",
    "    \n",
    "    print(root.data, end=\": \")\n",
    "    \n",
    "    if root.left is not None:\n",
    "        print(\"L\", root.left.data,end = \",\")\n",
    "    \n",
    "    if root.right is not None:\n",
    "        print(\"R\", root.right.data,end = \" \")\n",
    "        \n",
    "    print()\n",
    "    \n",
    "    printtree(root.left)\n",
    "    printtree(root.right)"
   ]
  },
  {
   "cell_type": "markdown",
   "metadata": {},
   "source": [
    "Here we will keep on reducing K and print the data when K is 0"
   ]
  },
  {
   "cell_type": "code",
   "execution_count": 2,
   "metadata": {},
   "outputs": [],
   "source": [
    "def depthk(root,k):\n",
    "    \n",
    "    if root is None:\n",
    "        return None\n",
    "    \n",
    "    if k == 0:\n",
    "        print(root.data,end = \" \")\n",
    "        return\n",
    "        \n",
    "    depthk(root.left,k-1)\n",
    "    depthk(root.right,k-1)"
   ]
  },
  {
   "cell_type": "markdown",
   "metadata": {},
   "source": [
    "Here we will keep a count of the depth, for each level we go down we increment d, the moment d == k we know that this is the depth we want to reach and\n",
    "then we can print that data"
   ]
  },
  {
   "cell_type": "code",
   "execution_count": 5,
   "metadata": {},
   "outputs": [],
   "source": [
    "def depthk_v2(root, k, d=0):\n",
    "    \n",
    "    if root is None:\n",
    "        return None\n",
    "    \n",
    "    if d == k:\n",
    "        print(root.data, end =\" \")\n",
    "        return\n",
    "    \n",
    "    depthk_v2(root.left,k,d+1)\n",
    "    depthk_v2(root.right,k,d+1)\n",
    "    "
   ]
  },
  {
   "cell_type": "code",
   "execution_count": 3,
   "metadata": {},
   "outputs": [
    {
     "name": "stdin",
     "output_type": "stream",
     "text": [
      " 10\n",
      " 20\n",
      " 40\n",
      " 60\n",
      " -1\n",
      " -1\n",
      " -1\n",
      " 50\n",
      " -1\n",
      " -1\n",
      " 30\n",
      " -1\n",
      " 70\n",
      " -1\n",
      " -1\n"
     ]
    },
    {
     "name": "stdout",
     "output_type": "stream",
     "text": [
      "10: L 20,R 30 \n",
      "20: L 40,R 50 \n",
      "40: L 60,\n",
      "60: \n",
      "50: \n",
      "30: R 70 \n",
      "70: \n"
     ]
    }
   ],
   "source": [
    "root = inserttree()\n",
    "printtree(root)"
   ]
  },
  {
   "cell_type": "code",
   "execution_count": 4,
   "metadata": {},
   "outputs": [
    {
     "name": "stdout",
     "output_type": "stream",
     "text": [
      "40 50 70 "
     ]
    }
   ],
   "source": [
    "depthk(root,2)"
   ]
  },
  {
   "cell_type": "code",
   "execution_count": 8,
   "metadata": {},
   "outputs": [
    {
     "name": "stdout",
     "output_type": "stream",
     "text": [
      "40 50 70 "
     ]
    }
   ],
   "source": [
    "depthk_v2(root,2)"
   ]
  },
  {
   "cell_type": "code",
   "execution_count": null,
   "metadata": {},
   "outputs": [],
   "source": []
  }
 ],
 "metadata": {
  "kernelspec": {
   "display_name": "Python 3",
   "language": "python",
   "name": "python3"
  },
  "language_info": {
   "codemirror_mode": {
    "name": "ipython",
    "version": 3
   },
   "file_extension": ".py",
   "mimetype": "text/x-python",
   "name": "python",
   "nbconvert_exporter": "python",
   "pygments_lexer": "ipython3",
   "version": "3.8.5"
  }
 },
 "nbformat": 4,
 "nbformat_minor": 4
}
