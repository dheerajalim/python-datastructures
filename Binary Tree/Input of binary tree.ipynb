{
 "cells": [
  {
   "cell_type": "markdown",
   "metadata": {},
   "source": [
    "### Input for Binary Tree\n",
    "\n",
    "Here we will be working on creating the function that will allow us to enter the data for the binary tree.\n",
    "\n",
    "The function will run recursively takin the details of the left tree and right tree.\n",
    "\n",
    "Since the function written here takes data recursively, we will have a specific format for the way we give input i.e\n",
    "first giving all the left tree details and then going ahead to give the right tree details"
   ]
  },
  {
   "cell_type": "code",
   "execution_count": 9,
   "metadata": {},
   "outputs": [],
   "source": [
    "class BinaryTree(object):\n",
    "    \n",
    "    def __init__(self,data):\n",
    "        self.data = data\n",
    "        self.left = None\n",
    "        self.right = None"
   ]
  },
  {
   "cell_type": "code",
   "execution_count": 16,
   "metadata": {},
   "outputs": [],
   "source": [
    "def printBT(root):\n",
    "    \n",
    "    if root is None:\n",
    "        return\n",
    "    \n",
    "    print(root.data, end=\": \")\n",
    "    if root.left is not None:\n",
    "        print(\"L\", root.left.data, end = \",\")\n",
    "    if root.right is not None:\n",
    "        print(\"R\", root.right.data, end = \" \")\n",
    "\n",
    "    print()\n",
    "    \n",
    "    printBT(root.left)\n",
    "    printBT(root.right)\n",
    "    "
   ]
  },
  {
   "cell_type": "code",
   "execution_count": 17,
   "metadata": {},
   "outputs": [],
   "source": [
    "def inputBT():\n",
    "    \n",
    "    rootdata = int(input())\n",
    "    \n",
    "    if rootdata == -1:\n",
    "        return None\n",
    "    \n",
    "    root  = BinaryTree(rootdata)\n",
    "    leftdata = inputBT()\n",
    "    rightdata = inputBT()\n",
    "    \n",
    "    root.left = leftdata\n",
    "    root.right = rightdata\n",
    "    \n",
    "    return root"
   ]
  },
  {
   "cell_type": "code",
   "execution_count": 25,
   "metadata": {},
   "outputs": [
    {
     "name": "stdin",
     "output_type": "stream",
     "text": [
      " 10\n",
      " 20\n",
      " 40\n",
      " 70\n",
      " -1\n",
      " -1\n",
      " -1\n",
      " 50\n",
      " -1\n",
      " -1\n",
      " 30\n",
      " 60\n",
      " -1\n",
      " 80\n",
      " -1\n",
      " -1\n",
      " -1\n"
     ]
    },
    {
     "name": "stdout",
     "output_type": "stream",
     "text": [
      "10: L 20,R 30 \n",
      "20: L 40,R 50 \n",
      "40: L 70,\n",
      "70: \n",
      "50: \n",
      "30: L 60,\n",
      "60: R 80 \n",
      "80: \n"
     ]
    }
   ],
   "source": [
    "root = inputBT()\n",
    "printBT(root)"
   ]
  },
  {
   "cell_type": "code",
   "execution_count": null,
   "metadata": {},
   "outputs": [],
   "source": []
  }
 ],
 "metadata": {
  "kernelspec": {
   "display_name": "Python 3",
   "language": "python",
   "name": "python3"
  },
  "language_info": {
   "codemirror_mode": {
    "name": "ipython",
    "version": 3
   },
   "file_extension": ".py",
   "mimetype": "text/x-python",
   "name": "python",
   "nbconvert_exporter": "python",
   "pygments_lexer": "ipython3",
   "version": "3.8.5"
  }
 },
 "nbformat": 4,
 "nbformat_minor": 4
}
