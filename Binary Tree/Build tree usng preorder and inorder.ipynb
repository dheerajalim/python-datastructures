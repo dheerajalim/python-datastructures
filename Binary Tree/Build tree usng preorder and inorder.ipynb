{
 "cells": [
  {
   "cell_type": "markdown",
   "metadata": {},
   "source": [
    "### Building a tree using Preorder and Inorder"
   ]
  },
  {
   "cell_type": "markdown",
   "metadata": {},
   "source": [
    "Time Complexity : O(n^2)\n",
    "\n",
    "Space Complexity : O(H) ; H is the height of the tree"
   ]
  },
  {
   "cell_type": "code",
   "execution_count": 1,
   "metadata": {},
   "outputs": [],
   "source": [
    "class BinaryTree(object):\n",
    "    \n",
    "    def __init__(self,data):\n",
    "        self.data = data\n",
    "        self.left = None\n",
    "        self.right = None\n",
    "\n",
    "def printtree(root):\n",
    "    \n",
    "    if root is None:\n",
    "        return None\n",
    "    \n",
    "    print(root.data , end=\": \")\n",
    "    if root.left is not None:\n",
    "        print(\"L \", root.left.data, end = \",\")\n",
    "    \n",
    "    if root.right is not None:\n",
    "        print(\"R \", root.right.data, end=\"\")\n",
    "    \n",
    "    print()\n",
    "    \n",
    "    printtree(root.left)\n",
    "    printtree(root.right)"
   ]
  },
  {
   "cell_type": "code",
   "execution_count": 17,
   "metadata": {},
   "outputs": [],
   "source": [
    "def buildTree(preorder, inorder):\n",
    "    n = len(preorder)\n",
    "    if n == 0:\n",
    "        return None\n",
    "    if n == 1:\n",
    "        return BinaryTree(preorder[0]) # this will be the root\n",
    "    \n",
    "    rootdata = preorder[0]\n",
    "    root = BinaryTree(rootdata)\n",
    "    \n",
    "    for i in range(len(inorder)):\n",
    "        if inorder[i] == rootdata:\n",
    "            inorderleft = inorder[:i]\n",
    "            break\n",
    "    \n",
    "    inorderright = inorder[i+1:]\n",
    "    \n",
    "    n = len(inorderleft)\n",
    "    preorderleft = preorder[1:n+1]\n",
    "    preorderright = preorder[n+1:]\n",
    "    \n",
    "    leftdata = buildTree(preorderleft,inorderleft)\n",
    "    rightdata = buildTree(preorderright,inorderright)\n",
    "    root.left = leftdata\n",
    "    root.right = rightdata\n",
    "    return root"
   ]
  },
  {
   "cell_type": "code",
   "execution_count": 18,
   "metadata": {},
   "outputs": [],
   "source": [
    "preorder = [1,2,4,5,3,6,7]\n",
    "inorder = [4,2,5,1,6,3,7]\n",
    "root = buildTree(preorder,inorder)"
   ]
  },
  {
   "cell_type": "code",
   "execution_count": 19,
   "metadata": {},
   "outputs": [
    {
     "name": "stdout",
     "output_type": "stream",
     "text": [
      "1: L  2,R  3\n",
      "2: L  4,R  5\n",
      "4: \n",
      "5: \n",
      "3: L  6,R  7\n",
      "6: \n",
      "7: \n"
     ]
    }
   ],
   "source": [
    "printtree(root)"
   ]
  },
  {
   "cell_type": "code",
   "execution_count": 20,
   "metadata": {},
   "outputs": [
    {
     "name": "stdout",
     "output_type": "stream",
     "text": [
      "5: L  6,R  10\n",
      "6: L  2,R  3\n",
      "2: \n",
      "3: R  9\n",
      "9: \n",
      "10: \n"
     ]
    }
   ],
   "source": [
    "a = [5, 6, 2, 3, 9, 10]\n",
    "b = [2, 6, 3, 9, 5, 10]\n",
    "root1 = buildTree(a,b)\n",
    "printtree(root1)"
   ]
  },
  {
   "cell_type": "code",
   "execution_count": 21,
   "metadata": {},
   "outputs": [
    {
     "name": "stdout",
     "output_type": "stream",
     "text": [
      "1: \n"
     ]
    }
   ],
   "source": [
    "x = [1]\n",
    "y = [1]\n",
    "root2 = buildTree(x,y)\n",
    "printtree(root2)"
   ]
  },
  {
   "cell_type": "markdown",
   "metadata": {},
   "source": [
    "### Solution on Ninja"
   ]
  },
  {
   "cell_type": "code",
   "execution_count": 7,
   "metadata": {},
   "outputs": [],
   "source": [
    "def buildTreehelper(preorder,prestart,preend, inorder, instart,inend):\n",
    "    \n",
    "    if prestart > preend or instart > inend:\n",
    "        return None\n",
    "    \n",
    "    rootdata = prorder[0]\n",
    "    root = BinaryTree(rootdata)\n",
    "    \n",
    "    #finding the root in inorder\n",
    "    k = 0\n",
    "    for i in range(instart, inend+1):\n",
    "        if inorder[i] == rootdata:\n",
    "            k = i\n",
    "            break\n",
    "    \n",
    "    root.left = buildTreehelper(preorder,prestart+1, prestart +(k-instart), inorder, instart,k-1 )\n",
    "    root.right = buildTreehelper(preorder,prestart +(k-instart)+1, preend, inorder,k+1,inend )\n",
    "    \n",
    "    return root\n",
    "\n",
    "def buildTreev2(preorder,inorder,n):\n",
    "    prestart = 0\n",
    "    preend = n-1\n",
    "    instart = 0\n",
    "    inend = n-1\n",
    "    root = buildTreehelper(preorder,prestart,preend, inorder, instart,inend)\n",
    "    \n",
    "    return root\n",
    " "
   ]
  },
  {
   "cell_type": "code",
   "execution_count": 8,
   "metadata": {},
   "outputs": [
    {
     "name": "stdout",
     "output_type": "stream",
     "text": [
      "1: L  2,R  3\n",
      "2: L  4,R  5\n",
      "4: \n",
      "5: \n",
      "3: L  6,R  7\n",
      "6: \n",
      "7: \n"
     ]
    }
   ],
   "source": [
    "preorderv2 = [1,2,4,5,3,6,7]\n",
    "inorderv2 = [4,2,5,1,6,3,7]\n",
    "rootv2 = buildTree(preorderv2,inorderv2,len(preorderv2))\n",
    "printtree(rootv2)"
   ]
  }
 ],
 "metadata": {
  "kernelspec": {
   "display_name": "Python 3",
   "language": "python",
   "name": "python3"
  },
  "language_info": {
   "codemirror_mode": {
    "name": "ipython",
    "version": 3
   },
   "file_extension": ".py",
   "mimetype": "text/x-python",
   "name": "python",
   "nbconvert_exporter": "python",
   "pygments_lexer": "ipython3",
   "version": "3.8.5"
  }
 },
 "nbformat": 4,
 "nbformat_minor": 4
}
