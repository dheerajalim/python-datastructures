{
 "cells": [
  {
   "cell_type": "markdown",
   "metadata": {},
   "source": [
    "### Node To Root Path In Binary Tree\n",
    "\n",
    "\n",
    "Algorithm\n",
    "\n",
    "1. Base case will be if root is None return None\n",
    "2. We will check if the root is equal to the node, if yes we will append the root data to list and return list\n",
    "3. Otherwise we call on the left side. If the left side finds the node, we get the node appended to the list from the conditon in step2. The since leftside returned not None value we append every node to the returned list\n",
    "4. In case the entire left side returned None, that means node was not found on left side and then we call on right side, and if we find the node based on step 2, we append evey node to the returned list\n",
    "5. If both left and right side give None we will return None; otherwise we have returned the list of path already"
   ]
  },
  {
   "cell_type": "code",
   "execution_count": 1,
   "metadata": {},
   "outputs": [],
   "source": [
    "class BinaryTree(object):\n",
    "    \n",
    "    def __init__(self,data):\n",
    "        self.data = data\n",
    "        self.left = None\n",
    "        self.right = None\n",
    "\n",
    "def inserttree():\n",
    "    \n",
    "    rootdata = int(input())\n",
    "    \n",
    "    if rootdata == -1:\n",
    "        return\n",
    "    \n",
    "    root = BinaryTree(rootdata)\n",
    "    \n",
    "    root.left = inserttree()\n",
    "    root.right = inserttree()\n",
    "    \n",
    "    return root\n",
    "\n",
    "def printtree(root):\n",
    "    \n",
    "    if root is None:\n",
    "        return None\n",
    "    \n",
    "    print(root.data , end=\": \")\n",
    "    if root.left is not None:\n",
    "        print(\"L \", root.left.data, end = \",\")\n",
    "    \n",
    "    if root.right is not None:\n",
    "        print(\"R \", root.right.data, end=\"\")\n",
    "    \n",
    "    print()\n",
    "    \n",
    "    printtree(root.left)\n",
    "    printtree(root.right)"
   ]
  },
  {
   "cell_type": "code",
   "execution_count": 10,
   "metadata": {},
   "outputs": [],
   "source": [
    "def nodetorootpath(root, node):\n",
    "    \n",
    "    if root is None:\n",
    "        return None\n",
    "    \n",
    "    if root.data == node:\n",
    "        path = []\n",
    "        path.append(root.data)\n",
    "        return path\n",
    "    \n",
    "    leftside = nodetorootpath(root.left,node)\n",
    "    if leftside is not None:\n",
    "        leftside.append(root.data)\n",
    "        return leftside\n",
    "    \n",
    "    rightside = nodetorootpath(root.right,node)\n",
    "    if rightside is not None:\n",
    "        rightside.append(root.data)\n",
    "        return rightside\n",
    "    \n",
    "    return None"
   ]
  },
  {
   "cell_type": "code",
   "execution_count": 3,
   "metadata": {},
   "outputs": [
    {
     "name": "stdin",
     "output_type": "stream",
     "text": [
      " 1\n",
      " 2\n",
      " -1\n",
      " -1\n",
      " 3\n",
      " 4\n",
      " -1\n",
      " -1\n",
      " 6\n",
      " 5\n",
      " 7\n",
      " -1\n",
      " -1\n",
      " 8\n",
      " -1\n",
      " -1\n",
      " 9\n",
      " -1\n",
      " -1\n"
     ]
    },
    {
     "name": "stdout",
     "output_type": "stream",
     "text": [
      "1: L  2,R  3\n",
      "2: \n",
      "3: L  4,R  6\n",
      "4: \n",
      "6: L  5,R  9\n",
      "5: L  7,R  8\n",
      "7: \n",
      "8: \n",
      "9: \n"
     ]
    }
   ],
   "source": [
    "root = inserttree()\n",
    "printtree(root)"
   ]
  },
  {
   "cell_type": "code",
   "execution_count": 11,
   "metadata": {},
   "outputs": [
    {
     "data": {
      "text/plain": [
       "[5, 6, 3, 1]"
      ]
     },
     "execution_count": 11,
     "metadata": {},
     "output_type": "execute_result"
    }
   ],
   "source": [
    "nodetorootpath(root,5)"
   ]
  },
  {
   "cell_type": "code",
   "execution_count": 12,
   "metadata": {},
   "outputs": [
    {
     "data": {
      "text/plain": [
       "[8, 5, 6, 3, 1]"
      ]
     },
     "execution_count": 12,
     "metadata": {},
     "output_type": "execute_result"
    }
   ],
   "source": [
    "nodetorootpath(root,8)"
   ]
  },
  {
   "cell_type": "code",
   "execution_count": 13,
   "metadata": {},
   "outputs": [],
   "source": [
    "nodetorootpath(root,18)"
   ]
  },
  {
   "cell_type": "code",
   "execution_count": null,
   "metadata": {},
   "outputs": [],
   "source": []
  }
 ],
 "metadata": {
  "kernelspec": {
   "display_name": "Python 3",
   "language": "python",
   "name": "python3"
  },
  "language_info": {
   "codemirror_mode": {
    "name": "ipython",
    "version": 3
   },
   "file_extension": ".py",
   "mimetype": "text/x-python",
   "name": "python",
   "nbconvert_exporter": "python",
   "pygments_lexer": "ipython3",
   "version": "3.8.5"
  }
 },
 "nbformat": 4,
 "nbformat_minor": 4
}
