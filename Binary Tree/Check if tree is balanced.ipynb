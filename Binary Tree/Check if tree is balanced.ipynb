{
 "cells": [
  {
   "cell_type": "markdown",
   "metadata": {},
   "source": [
    "### Check if the Binary Tree is Balanced Tree\n",
    "\n",
    "A balance tree is a tree in whihc for each node in a tree, that node's left and reight subtree should not have height difference of more than 1.\n",
    "\n",
    "If left subtree height is 5 , the right subtree height can be 4,5,6 and nothing else. This has to hold for ever subtree."
   ]
  },
  {
   "cell_type": "markdown",
   "metadata": {},
   "source": [
    "### Time Complexity\n",
    "\n",
    "The time complexity to check if the binary tree is balanced is basically O(nH) , where H is the time taken to find the height.\n",
    "\n",
    "In case of tree given is a balanced tree, we can find the height in O(logn) time, hence the complexity for Balance tree check is O(nlogn)\n",
    "\n",
    "In case of tree given is an unbalanced tree, we can find the height in O(n) time , hence the complexity for Balance tree check is O(n^2)"
   ]
  },
  {
   "cell_type": "code",
   "execution_count": 1,
   "metadata": {},
   "outputs": [],
   "source": [
    "class BinaryTree(object):\n",
    "    \n",
    "    def __init__(self,data):\n",
    "        self.data = data\n",
    "        self.left = None\n",
    "        self.right = None\n",
    "\n",
    "def inserttree():\n",
    "    \n",
    "    rootdata = int(input())\n",
    "    \n",
    "    if rootdata == -1:\n",
    "        return\n",
    "    \n",
    "    root = BinaryTree(rootdata)\n",
    "    \n",
    "    root.left = inserttree()\n",
    "    root.right = inserttree()\n",
    "    \n",
    "    return root\n",
    "\n",
    "def printtree(root):\n",
    "    \n",
    "    if root is None:\n",
    "        return None\n",
    "    \n",
    "    print(root.data , end=\": \")\n",
    "    if root.left is not None:\n",
    "        print(\"L \", root.left.data, end = \",\")\n",
    "    \n",
    "    if root.right is not None:\n",
    "        print(\"R \", root.right.data, end=\"\")\n",
    "    \n",
    "    print()\n",
    "    \n",
    "    printtree(root.left)\n",
    "    printtree(root.right)"
   ]
  },
  {
   "cell_type": "code",
   "execution_count": 10,
   "metadata": {},
   "outputs": [],
   "source": [
    "def height(root):\n",
    "    \n",
    "    if root is None:\n",
    "        return 0\n",
    "    \n",
    "    leftheight = height(root.left)\n",
    "    rightheight = height(root.right)\n",
    "    \n",
    "    return 1 + max(leftheight,rightheight)"
   ]
  },
  {
   "cell_type": "code",
   "execution_count": 6,
   "metadata": {},
   "outputs": [],
   "source": [
    "def balanced(root):\n",
    "    \n",
    "    if root is None:\n",
    "        return True\n",
    "    \n",
    "    leftheight = height(root.left)\n",
    "    rightheight = height(root.right)\n",
    "    \n",
    "    if abs(leftheight - rightheight) > 1:\n",
    "        return False\n",
    "    \n",
    "    leftbalance = balanced(root.left)\n",
    "    rightbalance = balanced(root.right)\n",
    "    \n",
    "    if leftbalance and rightbalance:\n",
    "        return True\n",
    "    else:\n",
    "        return False       "
   ]
  },
  {
   "cell_type": "code",
   "execution_count": 3,
   "metadata": {},
   "outputs": [
    {
     "name": "stdin",
     "output_type": "stream",
     "text": [
      " 1\n",
      " 2\n",
      " -1\n",
      " -1\n",
      " 3\n",
      " -1\n",
      " -1\n"
     ]
    },
    {
     "name": "stdout",
     "output_type": "stream",
     "text": [
      "1: L  2,R  3\n",
      "2: \n",
      "3: \n"
     ]
    }
   ],
   "source": [
    "root = inserttree()\n",
    "printtree(root)"
   ]
  },
  {
   "cell_type": "code",
   "execution_count": 11,
   "metadata": {},
   "outputs": [
    {
     "data": {
      "text/plain": [
       "True"
      ]
     },
     "execution_count": 11,
     "metadata": {},
     "output_type": "execute_result"
    }
   ],
   "source": [
    "balanced(root)"
   ]
  },
  {
   "cell_type": "code",
   "execution_count": 12,
   "metadata": {},
   "outputs": [
    {
     "name": "stdin",
     "output_type": "stream",
     "text": [
      " 1\n",
      " 2\n",
      " 4\n",
      " 6\n",
      " -1\n",
      " -1\n",
      " -1\n",
      " -1\n",
      " 3\n",
      " -1\n",
      " 5\n",
      " -1\n",
      " -1\n"
     ]
    },
    {
     "name": "stdout",
     "output_type": "stream",
     "text": [
      "1: L  2,R  3\n",
      "2: L  4,\n",
      "4: L  6,\n",
      "6: \n",
      "3: R  5\n",
      "5: \n"
     ]
    }
   ],
   "source": [
    "root1 = inserttree()\n",
    "printtree(root1)"
   ]
  },
  {
   "cell_type": "code",
   "execution_count": 13,
   "metadata": {},
   "outputs": [
    {
     "data": {
      "text/plain": [
       "False"
      ]
     },
     "execution_count": 13,
     "metadata": {},
     "output_type": "execute_result"
    }
   ],
   "source": [
    "balanced(root1)"
   ]
  },
  {
   "cell_type": "code",
   "execution_count": null,
   "metadata": {},
   "outputs": [],
   "source": []
  }
 ],
 "metadata": {
  "kernelspec": {
   "display_name": "Python 3",
   "language": "python",
   "name": "python3"
  },
  "language_info": {
   "codemirror_mode": {
    "name": "ipython",
    "version": 3
   },
   "file_extension": ".py",
   "mimetype": "text/x-python",
   "name": "python",
   "nbconvert_exporter": "python",
   "pygments_lexer": "ipython3",
   "version": "3.8.5"
  }
 },
 "nbformat": 4,
 "nbformat_minor": 4
}
