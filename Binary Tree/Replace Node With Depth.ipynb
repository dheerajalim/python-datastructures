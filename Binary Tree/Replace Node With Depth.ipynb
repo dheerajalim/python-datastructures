{
 "cells": [
  {
   "cell_type": "markdown",
   "metadata": {},
   "source": [
    "### Replace Node With Depth\n",
    "\n",
    "Here we will replace each node data with the depth it is at.\n",
    "\n",
    "For a given a Binary Tree of integers, replace each of its data with the depth of the tree.\n",
    "Root is at depth 0, hence the root data is updated with 0. Replicate the same further going down the in the depth of the given tree."
   ]
  },
  {
   "cell_type": "code",
   "execution_count": 1,
   "metadata": {},
   "outputs": [],
   "source": [
    "class BinaryTree(object):\n",
    "    \n",
    "    def __init__(self,data):\n",
    "        \n",
    "        self.data = data\n",
    "        self.left = None\n",
    "        self.right = None\n",
    "\n",
    "def inserttree():\n",
    "    \n",
    "    rootdata = int(input())\n",
    "    root = BinaryTree(rootdata)\n",
    "    \n",
    "    if root.data == -1:\n",
    "        return None\n",
    "    \n",
    "    leftdata = inserttree()\n",
    "    rightdata = inserttree()\n",
    "    \n",
    "    root.left = leftdata\n",
    "    root.right = rightdata\n",
    "    \n",
    "    return root\n",
    "\n",
    "def printtree(root):\n",
    "    \n",
    "    if root is None:\n",
    "        return\n",
    "    \n",
    "    print(root.data, end=\": \")\n",
    "    \n",
    "    if root.left is not None:\n",
    "        print(\"L\", root.left.data,end = \",\")\n",
    "    \n",
    "    if root.right is not None:\n",
    "        print(\"R\", root.right.data,end = \" \")\n",
    "        \n",
    "    print()\n",
    "    \n",
    "    printtree(root.left)\n",
    "    printtree(root.right)"
   ]
  },
  {
   "cell_type": "code",
   "execution_count": 2,
   "metadata": {},
   "outputs": [],
   "source": [
    "def changeToDepthTree(root, d=0):\n",
    "    \n",
    "    if root is None:\n",
    "        return\n",
    "    \n",
    "    root.data = d\n",
    "    \n",
    "    changeToDepthTree(root.left,d+1)\n",
    "    changeToDepthTree(root.right,d+1)"
   ]
  },
  {
   "cell_type": "code",
   "execution_count": 3,
   "metadata": {},
   "outputs": [
    {
     "name": "stdin",
     "output_type": "stream",
     "text": [
      " 1\n",
      " 2\n",
      " 4\n",
      " -1\n",
      " -1\n",
      " 5\n",
      " -1\n",
      " -1\n",
      " 3\n",
      " 6\n",
      " -1\n",
      " -1\n",
      " 7\n",
      " -1\n",
      " -1\n"
     ]
    },
    {
     "name": "stdout",
     "output_type": "stream",
     "text": [
      "1: L 2,R 3 \n",
      "2: L 4,R 5 \n",
      "4: \n",
      "5: \n",
      "3: L 6,R 7 \n",
      "6: \n",
      "7: \n"
     ]
    }
   ],
   "source": [
    "root = inserttree()\n",
    "printtree(root)"
   ]
  },
  {
   "cell_type": "code",
   "execution_count": 4,
   "metadata": {},
   "outputs": [],
   "source": [
    "changeToDepthTree(root)"
   ]
  },
  {
   "cell_type": "code",
   "execution_count": 5,
   "metadata": {},
   "outputs": [
    {
     "name": "stdout",
     "output_type": "stream",
     "text": [
      "0: L 1,R 1 \n",
      "1: L 2,R 2 \n",
      "2: \n",
      "2: \n",
      "1: L 2,R 2 \n",
      "2: \n",
      "2: \n"
     ]
    }
   ],
   "source": [
    "printtree(root)"
   ]
  },
  {
   "cell_type": "code",
   "execution_count": null,
   "metadata": {},
   "outputs": [],
   "source": []
  }
 ],
 "metadata": {
  "kernelspec": {
   "display_name": "Python 3",
   "language": "python",
   "name": "python3"
  },
  "language_info": {
   "codemirror_mode": {
    "name": "ipython",
    "version": 3
   },
   "file_extension": ".py",
   "mimetype": "text/x-python",
   "name": "python",
   "nbconvert_exporter": "python",
   "pygments_lexer": "ipython3",
   "version": "3.8.5"
  }
 },
 "nbformat": 4,
 "nbformat_minor": 4
}
