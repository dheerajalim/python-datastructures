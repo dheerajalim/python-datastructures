{
 "cells": [
  {
   "cell_type": "markdown",
   "metadata": {},
   "source": [
    "### Diameter of a Binary Tree\n",
    "\n",
    "It is the distance between two farthest nodes. In other words, the diameter of a binary tree is the maximum number of edges that we cover between two nodes. These nodes can be present anywhere that is one on left side and other on right side or both on left side or both in right side."
   ]
  },
  {
   "cell_type": "code",
   "execution_count": 1,
   "metadata": {},
   "outputs": [],
   "source": [
    "class BinaryTree(object):\n",
    "    \n",
    "    def __init__(self,data):\n",
    "        self.data = data\n",
    "        self.left = None\n",
    "        self.right = None\n",
    "\n",
    "def inserttree():\n",
    "    \n",
    "    rootdata = int(input())\n",
    "    \n",
    "    if rootdata == -1:\n",
    "        return\n",
    "    \n",
    "    root = BinaryTree(rootdata)\n",
    "    \n",
    "    root.left = inserttree()\n",
    "    root.right = inserttree()\n",
    "    \n",
    "    return root\n",
    "\n",
    "def printtree(root):\n",
    "    \n",
    "    if root is None:\n",
    "        return None\n",
    "    \n",
    "    print(root.data , end=\": \")\n",
    "    if root.left is not None:\n",
    "        print(\"L \", root.left.data, end = \",\")\n",
    "    \n",
    "    if root.right is not None:\n",
    "        print(\"R \", root.right.data, end=\"\")\n",
    "    \n",
    "    print()\n",
    "    \n",
    "    printtree(root.left)\n",
    "    printtree(root.right)"
   ]
  },
  {
   "cell_type": "code",
   "execution_count": 46,
   "metadata": {},
   "outputs": [],
   "source": [
    "def heightanddiameter(root):\n",
    "    if root is None:\n",
    "        return 0,0\n",
    "    \n",
    "    leftheight,leftdiameter = heightanddiameter(root.left)\n",
    "    rightheight,rightdiameter = heightanddiameter(root.right)\n",
    "\n",
    "    h = 1 + max(leftheight,rightheight)\n",
    "    diameterfromroot = 1+ leftheight + rightheight\n",
    "    diameter = max(diameterfromroot,leftdiameter,rightdiameter)\n",
    "    return h,diameter"
   ]
  },
  {
   "cell_type": "code",
   "execution_count": 47,
   "metadata": {},
   "outputs": [],
   "source": [
    "def diameter(root):\n",
    "    h,d = heightanddiameter(root)\n",
    "    return d"
   ]
  },
  {
   "cell_type": "code",
   "execution_count": 3,
   "metadata": {},
   "outputs": [
    {
     "name": "stdin",
     "output_type": "stream",
     "text": [
      " 1\n",
      " 2\n",
      " 3\n",
      " 4\n",
      " 5\n",
      " -1\n",
      " -1\n",
      " -1\n",
      " -1\n",
      " 6\n",
      " -1\n",
      " 7\n",
      " -1\n",
      " 8\n",
      " -1\n",
      " -1\n",
      " 9\n",
      " -1\n",
      " -1\n"
     ]
    },
    {
     "name": "stdout",
     "output_type": "stream",
     "text": [
      "1: L  2,R  9\n",
      "2: L  3,R  6\n",
      "3: L  4,\n",
      "4: L  5,\n",
      "5: \n",
      "6: R  7\n",
      "7: R  8\n",
      "8: \n",
      "9: \n"
     ]
    }
   ],
   "source": [
    "root = inserttree()\n",
    "printtree(root)"
   ]
  },
  {
   "cell_type": "code",
   "execution_count": 48,
   "metadata": {},
   "outputs": [
    {
     "data": {
      "text/plain": [
       "7"
      ]
     },
     "execution_count": 48,
     "metadata": {},
     "output_type": "execute_result"
    }
   ],
   "source": [
    "diameter(root)"
   ]
  },
  {
   "cell_type": "code",
   "execution_count": 30,
   "metadata": {},
   "outputs": [
    {
     "name": "stdin",
     "output_type": "stream",
     "text": [
      " 2\n",
      " 4\n",
      " 6\n",
      " 20\n",
      " -1\n",
      " -1\n",
      " 30\n",
      " 8\n",
      " -1\n",
      " -1\n",
      " -1\n",
      " -1\n",
      " 5\n",
      " -1\n",
      " 7\n",
      " 80\n",
      " -1\n",
      " 9\n",
      " -1\n",
      " -1\n",
      " 90\n",
      " -1\n",
      " -1\n"
     ]
    },
    {
     "name": "stdout",
     "output_type": "stream",
     "text": [
      "2: L  4,R  5\n",
      "4: L  6,\n",
      "6: L  20,R  30\n",
      "20: \n",
      "30: L  8,\n",
      "8: \n",
      "5: R  7\n",
      "7: L  80,R  90\n",
      "80: R  9\n",
      "9: \n",
      "90: \n"
     ]
    }
   ],
   "source": [
    "root1 = inserttree()\n",
    "printtree(root1)"
   ]
  },
  {
   "cell_type": "code",
   "execution_count": 49,
   "metadata": {},
   "outputs": [
    {
     "data": {
      "text/plain": [
       "9"
      ]
     },
     "execution_count": 49,
     "metadata": {},
     "output_type": "execute_result"
    }
   ],
   "source": [
    "diameter(root1)"
   ]
  },
  {
   "cell_type": "code",
   "execution_count": 36,
   "metadata": {},
   "outputs": [
    {
     "name": "stdin",
     "output_type": "stream",
     "text": [
      " 5\n",
      " 6\n",
      " 2\n",
      " -1\n",
      " -1\n",
      " 3\n",
      " -1\n",
      " 9\n",
      " -1\n",
      " -1\n",
      " 10\n",
      " -1\n",
      " -1\n"
     ]
    },
    {
     "name": "stdout",
     "output_type": "stream",
     "text": [
      "5: L  6,R  10\n",
      "6: L  2,R  3\n",
      "2: \n",
      "3: R  9\n",
      "9: \n",
      "10: \n"
     ]
    }
   ],
   "source": [
    "root2 = inserttree()\n",
    "printtree(root2)"
   ]
  },
  {
   "cell_type": "code",
   "execution_count": 50,
   "metadata": {},
   "outputs": [
    {
     "data": {
      "text/plain": [
       "5"
      ]
     },
     "execution_count": 50,
     "metadata": {},
     "output_type": "execute_result"
    }
   ],
   "source": [
    "diameter(root2)"
   ]
  },
  {
   "cell_type": "code",
   "execution_count": null,
   "metadata": {},
   "outputs": [],
   "source": []
  }
 ],
 "metadata": {
  "kernelspec": {
   "display_name": "Python 3",
   "language": "python",
   "name": "python3"
  },
  "language_info": {
   "codemirror_mode": {
    "name": "ipython",
    "version": 3
   },
   "file_extension": ".py",
   "mimetype": "text/x-python",
   "name": "python",
   "nbconvert_exporter": "python",
   "pygments_lexer": "ipython3",
   "version": "3.8.5"
  }
 },
 "nbformat": 4,
 "nbformat_minor": 4
}
