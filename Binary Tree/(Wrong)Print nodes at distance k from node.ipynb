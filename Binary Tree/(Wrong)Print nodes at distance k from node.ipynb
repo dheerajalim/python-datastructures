{
 "cells": [
  {
   "cell_type": "markdown",
   "metadata": {},
   "source": [
    "### Print nodes at distance k from node"
   ]
  },
  {
   "cell_type": "code",
   "execution_count": 351,
   "metadata": {},
   "outputs": [],
   "source": [
    "class BinaryTree(object):\n",
    "    \n",
    "    def __init__(self,data):\n",
    "        self.data = data\n",
    "        self.left = None\n",
    "        self.right = None\n",
    "\n",
    "def inserttree():\n",
    "    \n",
    "    rootdata = int(input())\n",
    "    \n",
    "    if rootdata == -1:\n",
    "        return\n",
    "    \n",
    "    root = BinaryTree(rootdata)\n",
    "    \n",
    "    root.left = inserttree()\n",
    "    root.right = inserttree()\n",
    "    \n",
    "    return root\n",
    "\n",
    "def printtree(root):\n",
    "    \n",
    "    if root is None:\n",
    "        return None\n",
    "    \n",
    "    print(root.data , end=\": \")\n",
    "    if root.left is not None:\n",
    "        print(\"L \", root.left.data, end = \",\")\n",
    "    \n",
    "    if root.right is not None:\n",
    "        print(\"R \", root.right.data, end=\"\")\n",
    "    \n",
    "    print()\n",
    "    \n",
    "    printtree(root.left)\n",
    "    printtree(root.right)"
   ]
  },
  {
   "cell_type": "code",
   "execution_count": 364,
   "metadata": {},
   "outputs": [],
   "source": [
    "def findingtargetnode(root,node,stack,loc):\n",
    "    \n",
    "    if root is None:\n",
    "        return False\n",
    "    \n",
    "    stack.append([root,loc])\n",
    "    \n",
    "    if root.data == node:\n",
    "        stack[0][1] = loc\n",
    "        return True\n",
    "    \n",
    "    if findingtargetnode(root.left,node,stack,\"R\") or findingtargetnode(root.right,node,stack,\"L\"):        \n",
    "        return True\n",
    "    \n",
    "    stack.pop()\n",
    "    return False"
   ]
  },
  {
   "cell_type": "code",
   "execution_count": 365,
   "metadata": {},
   "outputs": [],
   "source": [
    "def findinnodesatdepth(root,k,search):\n",
    "    \n",
    "    if root is None:\n",
    "        return None\n",
    "    if k == 0:\n",
    "        print(root.data)\n",
    "    \n",
    "    findinnodesatdepth(root.left,k-1,search)\n",
    "    findinnodesatdepth(root.right,k-1,search)\n"
   ]
  },
  {
   "cell_type": "code",
   "execution_count": 382,
   "metadata": {},
   "outputs": [],
   "source": [
    "def nodesAtDistanceK(root, node, k):\n",
    "    \n",
    "    #finding the targetnode in the tree\n",
    "    s = []\n",
    "    findingtargetnode(root,node,s,\"R\")\n",
    "    \n",
    "#     for item in s:\n",
    "#         print(item[0].data,item[1])\n",
    "    \n",
    "    targetroot = s[-1][0]\n",
    "    findinnodesatdepth(targetroot,k,\"all\")\n",
    "    targetdist = len(s)-1\n",
    "    s.pop()\n",
    "#     for item in s:\n",
    "#         print(item[0].data,item[1])\n",
    "    \n",
    "    for i in range(len(s)):\n",
    "        tosend = k - (targetdist-i)\n",
    "#         print(tosend)\n",
    "        if tosend == 0:\n",
    "            print(s[i][0].data)\n",
    "        if s[i][1] == \"R\":\n",
    "            findinnodesatdepth(s[i][0].right,tosend-1,s[i][1])\n",
    "        if s[i][1] == \"L\":\n",
    "            findinnodesatdepth(s[i][0].left,tosend-1,s[i][1])"
   ]
  },
  {
   "cell_type": "code",
   "execution_count": 295,
   "metadata": {},
   "outputs": [
    {
     "name": "stdin",
     "output_type": "stream",
     "text": [
      " 1\n",
      " 2\n",
      " 4\n",
      " -1\n",
      " -1\n",
      " 5\n",
      " -1\n",
      " -1\n",
      " 3\n",
      " 6\n",
      " -1\n",
      " -1\n",
      " 7\n",
      " -1\n",
      " -1\n"
     ]
    },
    {
     "name": "stdout",
     "output_type": "stream",
     "text": [
      "1: L  2,R  3\n",
      "2: L  4,R  5\n",
      "4: \n",
      "5: \n",
      "3: L  6,R  7\n",
      "6: \n",
      "7: \n"
     ]
    }
   ],
   "source": [
    "root2 = inserttree()\n",
    "printtree(root2)"
   ]
  },
  {
   "cell_type": "code",
   "execution_count": 384,
   "metadata": {},
   "outputs": [
    {
     "name": "stdout",
     "output_type": "stream",
     "text": [
      "6\n",
      "7\n",
      "1\n"
     ]
    }
   ],
   "source": [
    "nodesAtDistanceK(root2,3,1)"
   ]
  }
 ],
 "metadata": {
  "kernelspec": {
   "display_name": "Python 3",
   "language": "python",
   "name": "python3"
  },
  "language_info": {
   "codemirror_mode": {
    "name": "ipython",
    "version": 3
   },
   "file_extension": ".py",
   "mimetype": "text/x-python",
   "name": "python",
   "nbconvert_exporter": "python",
   "pygments_lexer": "ipython3",
   "version": "3.8.5"
  }
 },
 "nbformat": 4,
 "nbformat_minor": 4
}
