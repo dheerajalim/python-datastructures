{
 "cells": [
  {
   "cell_type": "markdown",
   "metadata": {},
   "source": [
    "### Height Of Tree"
   ]
  },
  {
   "cell_type": "code",
   "execution_count": 3,
   "metadata": {},
   "outputs": [],
   "source": [
    "class BinaryTree(object):\n",
    "    \n",
    "    def __init__(self,data):\n",
    "        self.data = data\n",
    "        self.left = None\n",
    "        self.right =  None\n",
    "        \n",
    "def inserttree():\n",
    "    \n",
    "    rootdata  = int(input())\n",
    "    root = BinaryTree(rootdata)\n",
    "    \n",
    "    if root.data  == -1:\n",
    "        return None\n",
    "    \n",
    "    leftrootdata = inserttree()\n",
    "    rightrootdata = inserttree()\n",
    "    \n",
    "    root.left = leftrootdata\n",
    "    root.right = rightrootdata\n",
    "    \n",
    "    return root\n",
    "\n",
    "def printtree(root):\n",
    "    \n",
    "    if root is None:\n",
    "        return\n",
    "    \n",
    "    print(root.data, end=\": \")\n",
    "    \n",
    "    if root.left is not None:\n",
    "        print(\"L\", root.left.data,end = \",\")\n",
    "    \n",
    "    if root.right is not None:\n",
    "        print(\"R\", root.right.data,end = \" \")\n",
    "        \n",
    "    print()\n",
    "    \n",
    "    printtree(root.left)\n",
    "    printtree(root.right)\n",
    "    "
   ]
  },
  {
   "cell_type": "code",
   "execution_count": 20,
   "metadata": {},
   "outputs": [],
   "source": [
    "def height(root):\n",
    "    \n",
    "    if root is None:\n",
    "        return 0\n",
    "    \n",
    "    leftside = height(root.left)\n",
    "    rightside = height(root.right)\n",
    "    \n",
    "    return 1 + max(leftside,rightside)\n",
    "        "
   ]
  },
  {
   "cell_type": "code",
   "execution_count": 22,
   "metadata": {},
   "outputs": [
    {
     "name": "stdin",
     "output_type": "stream",
     "text": [
      " 10\n",
      " 20\n",
      " 40\n",
      " 60\n",
      " -1\n",
      " -1\n",
      " -1\n",
      " 50\n",
      " -1\n",
      " -1\n",
      " 30\n",
      " -1\n",
      " -1\n"
     ]
    },
    {
     "name": "stdout",
     "output_type": "stream",
     "text": [
      "10: L 20,R 30 \n",
      "20: L 40,R 50 \n",
      "40: L 60,\n",
      "60: \n",
      "50: \n",
      "30: \n"
     ]
    }
   ],
   "source": [
    "root = inserttree()\n",
    "printtree(root)"
   ]
  },
  {
   "cell_type": "code",
   "execution_count": 23,
   "metadata": {},
   "outputs": [
    {
     "data": {
      "text/plain": [
       "4"
      ]
     },
     "execution_count": 23,
     "metadata": {},
     "output_type": "execute_result"
    }
   ],
   "source": [
    "height(root)"
   ]
  },
  {
   "cell_type": "code",
   "execution_count": null,
   "metadata": {},
   "outputs": [],
   "source": []
  }
 ],
 "metadata": {
  "kernelspec": {
   "display_name": "Python 3",
   "language": "python",
   "name": "python3"
  },
  "language_info": {
   "codemirror_mode": {
    "name": "ipython",
    "version": 3
   },
   "file_extension": ".py",
   "mimetype": "text/x-python",
   "name": "python",
   "nbconvert_exporter": "python",
   "pygments_lexer": "ipython3",
   "version": "3.8.5"
  }
 },
 "nbformat": 4,
 "nbformat_minor": 4
}
