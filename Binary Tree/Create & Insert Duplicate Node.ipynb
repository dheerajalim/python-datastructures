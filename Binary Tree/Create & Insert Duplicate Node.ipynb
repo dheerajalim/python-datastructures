{
 "cells": [
  {
   "cell_type": "markdown",
   "metadata": {},
   "source": [
    "### Create & Insert Duplicate Node\n",
    "\n",
    "\n",
    "For a given a Binary Tree of type integer, duplicate every node of the tree and attach it to the left of itself.\n",
    "The root will remain the same. So you just need to insert nodes in the given Binary Tree.\n",
    "\n",
    "Example:\n",
    "\n",
    "\n",
    "![title](image/a.png)\n",
    "\n",
    "\n",
    "After making the changes to the above-depicted tree, the updated tree will look like this.\n",
    "\n",
    "![title](image/b.png)\n",
    "\n"
   ]
  },
  {
   "cell_type": "markdown",
   "metadata": {},
   "source": [
    "#### Time Complexity : O(n)\n",
    "#### Space Complexity : O(h)"
   ]
  },
  {
   "cell_type": "code",
   "execution_count": 28,
   "metadata": {},
   "outputs": [],
   "source": [
    "class BinaryTree(object):\n",
    "    \n",
    "    def __init__(self,data):\n",
    "        \n",
    "        self.data = data\n",
    "        self.left = None\n",
    "        self.right = None\n",
    "\n",
    "def inserttree():\n",
    "    \n",
    "    rootdata = int(input())\n",
    "    root = BinaryTree(rootdata)\n",
    "    \n",
    "    if root.data == -1:\n",
    "        return None\n",
    "    \n",
    "    leftdata = inserttree()\n",
    "    rightdata = inserttree()\n",
    "    \n",
    "    root.left = leftdata\n",
    "    root.right = rightdata\n",
    "    \n",
    "    return root\n",
    "\n",
    "def printtree(root):\n",
    "    \n",
    "    if root is None:\n",
    "        return\n",
    "    \n",
    "    print(root.data, end=\": \")\n",
    "    \n",
    "    if root.left is not None:\n",
    "        print(\"L\", root.left.data,end = \",\")\n",
    "    \n",
    "    if root.right is not None:\n",
    "        print(\"R\", root.right.data,end = \" \")\n",
    "        \n",
    "    print()\n",
    "    \n",
    "    printtree(root.left)\n",
    "    printtree(root.right)"
   ]
  },
  {
   "cell_type": "markdown",
   "metadata": {},
   "source": [
    "We are here trying to create a duplicate node of in left of each node.\n",
    "We are saving the actual left node of the root in a variable. The creating the new node which is copy of root.\n",
    "\n",
    "Insert the new node in left of root and node saved in variable to the left of new node\n",
    "\n",
    "In recursion we need to pass the new node's left as this is the actual node on whihc we want to work now\n",
    "and since we are not creating any duplicates on right side of the root, hence we can pass the right of the actual root only"
   ]
  },
  {
   "cell_type": "code",
   "execution_count": 80,
   "metadata": {},
   "outputs": [],
   "source": [
    "def insertDuplicateNode(root):\n",
    "\n",
    "    if root is None:\n",
    "        return None\n",
    "    new_node = BinaryTree(root.data)\n",
    "    left_node = root.left\n",
    "\n",
    "    root.left = new_node\n",
    "    new_node.left = left_node\n",
    "\n",
    "    insertDuplicateNode(new_node.left)\n",
    "    insertDuplicateNode(root.right)\n"
   ]
  },
  {
   "cell_type": "code",
   "execution_count": 82,
   "metadata": {},
   "outputs": [
    {
     "name": "stdin",
     "output_type": "stream",
     "text": [
      " 10\n",
      " 20\n",
      " 40\n",
      " -1\n",
      " -1\n",
      " 60\n",
      " -1\n",
      " -1\n",
      " 30\n",
      " -1\n",
      " 50\n",
      " -1\n",
      " -1\n"
     ]
    },
    {
     "name": "stdout",
     "output_type": "stream",
     "text": [
      "10: L 20,R 30 \n",
      "20: L 40,R 60 \n",
      "40: \n",
      "60: \n",
      "30: R 50 \n",
      "50: \n"
     ]
    }
   ],
   "source": [
    "root = inserttree()\n",
    "printtree(root)"
   ]
  },
  {
   "cell_type": "code",
   "execution_count": 83,
   "metadata": {},
   "outputs": [],
   "source": [
    "insertDuplicateNode(root)"
   ]
  },
  {
   "cell_type": "code",
   "execution_count": 84,
   "metadata": {},
   "outputs": [
    {
     "name": "stdout",
     "output_type": "stream",
     "text": [
      "10: L 10,R 30 \n",
      "10: L 20,\n",
      "20: L 20,R 60 \n",
      "20: L 40,\n",
      "40: L 40,\n",
      "40: \n",
      "60: L 60,\n",
      "60: \n",
      "30: L 30,R 50 \n",
      "30: \n",
      "50: L 50,\n",
      "50: \n"
     ]
    }
   ],
   "source": [
    "printtree(root)"
   ]
  },
  {
   "cell_type": "code",
   "execution_count": null,
   "metadata": {},
   "outputs": [],
   "source": []
  }
 ],
 "metadata": {
  "kernelspec": {
   "display_name": "Python 3",
   "language": "python",
   "name": "python3"
  },
  "language_info": {
   "codemirror_mode": {
    "name": "ipython",
    "version": 3
   },
   "file_extension": ".py",
   "mimetype": "text/x-python",
   "name": "python",
   "nbconvert_exporter": "python",
   "pygments_lexer": "ipython3",
   "version": "3.8.5"
  }
 },
 "nbformat": 4,
 "nbformat_minor": 4
}
