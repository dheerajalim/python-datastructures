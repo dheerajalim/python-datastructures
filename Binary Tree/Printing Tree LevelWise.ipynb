{
 "cells": [
  {
   "cell_type": "markdown",
   "metadata": {},
   "source": [
    "### Taking input as Level Wise and printing the tree levelwise "
   ]
  },
  {
   "cell_type": "code",
   "execution_count": 1,
   "metadata": {},
   "outputs": [],
   "source": [
    "import queue\n",
    "\n",
    "class BinaryTree(object):\n",
    "    \n",
    "    def __init__(self,data):\n",
    "        self.data = data\n",
    "        self.left = None\n",
    "        self.right = None\n",
    "\n",
    "def inserttree():\n",
    "    \n",
    "    rootdata = int(input(\"Enter the root\"))\n",
    "    if rootdata == -1:\n",
    "        return None\n",
    "    \n",
    "    q = queue.Queue()\n",
    "    root = BinaryTree(rootdata)\n",
    "    q.put(root)\n",
    "    \n",
    "    while not q.empty():\n",
    "        \n",
    "        current_node = q.get()\n",
    "        \n",
    "        left_child_data = int(input(f'Enter the left child of {current_node.data}'))\n",
    "        if left_child_data != -1:\n",
    "            left_child = BinaryTree(left_child_data)\n",
    "            current_node.left = left_child\n",
    "            q.put(left_child)\n",
    "            \n",
    "        right_child_data = int(input(f'Enter the right child of {current_node.data}'))\n",
    "        if right_child_data != -1:\n",
    "            right_child = BinaryTree(right_child_data)\n",
    "            current_node.right = right_child\n",
    "            q.put(right_child)\n",
    "        \n",
    "    \n",
    "    return root\n",
    "\n",
    "# printing tree levelwise\n",
    "def printtree(root):\n",
    "    \n",
    "    q = queue.Queue()\n",
    "    \n",
    "    if root is None:\n",
    "        return None\n",
    "    \n",
    "    q.put(root)\n",
    "        \n",
    "    while not q.empty():\n",
    "        \n",
    "        current_node = q.get()\n",
    "        print(current_node.data, end=\": \")\n",
    "        if current_node.left is not None:\n",
    "            print(\"L\",current_node.left.data, end =\",\")\n",
    "            q.put(current_node.left)\n",
    "        else:\n",
    "            print(\"L\", -1, end =\",\")\n",
    "    \n",
    "        if current_node.right is not None:\n",
    "            print(\"R \", current_node.right.data, end=\"\")\n",
    "            q.put(current_node.right)\n",
    "        else:\n",
    "            print(\"R\", -1, end =\"\")\n",
    "        print()"
   ]
  },
  {
   "cell_type": "code",
   "execution_count": 2,
   "metadata": {},
   "outputs": [
    {
     "name": "stdin",
     "output_type": "stream",
     "text": [
      "Enter the root 1\n",
      "Enter the left child of 1 2\n",
      "Enter the right child of 1 3\n",
      "Enter the left child of 2 4\n",
      "Enter the right child of 2 5\n",
      "Enter the left child of 3 6\n",
      "Enter the right child of 3 7\n",
      "Enter the left child of 4 -1\n",
      "Enter the right child of 4 -1\n",
      "Enter the left child of 5 -1\n",
      "Enter the right child of 5 -1\n",
      "Enter the left child of 6 -1\n",
      "Enter the right child of 6 -1\n",
      "Enter the left child of 7 -1\n",
      "Enter the right child of 7 -1\n"
     ]
    }
   ],
   "source": [
    "root = inserttree()"
   ]
  },
  {
   "cell_type": "code",
   "execution_count": 26,
   "metadata": {},
   "outputs": [
    {
     "name": "stdout",
     "output_type": "stream",
     "text": [
      "1: L 2,R  3\n",
      "2: L 4,R  5\n",
      "3: L 6,R  7\n",
      "4: L -1,R -1\n",
      "5: L -1,R -1\n",
      "6: L -1,R -1\n",
      "7: L -1,R -1\n"
     ]
    }
   ],
   "source": [
    "printtree(root)"
   ]
  },
  {
   "cell_type": "code",
   "execution_count": 27,
   "metadata": {},
   "outputs": [
    {
     "name": "stdin",
     "output_type": "stream",
     "text": [
      "Enter the root 5\n",
      "Enter the left child of 5 6\n",
      "Enter the right child of 5 10\n",
      "Enter the left child of 6 2\n",
      "Enter the right child of 6 3\n",
      "Enter the left child of 10 -1\n",
      "Enter the right child of 10 -1\n",
      "Enter the left child of 2 -1\n",
      "Enter the right child of 2 -1\n",
      "Enter the left child of 3 -1\n",
      "Enter the right child of 3 9\n",
      "Enter the left child of 9 -1\n",
      "Enter the right child of 9 -1\n"
     ]
    },
    {
     "name": "stdout",
     "output_type": "stream",
     "text": [
      "5: L 6,R  10\n",
      "6: L 2,R  3\n",
      "10: L -1,R -1\n",
      "2: L -1,R -1\n",
      "3: L -1,R  9\n",
      "9: L -1,R -1\n"
     ]
    }
   ],
   "source": [
    "root1 = inserttree()\n",
    "printtree(root1)"
   ]
  },
  {
   "cell_type": "markdown",
   "metadata": {},
   "source": [
    "### Prnting LevelWise in A different way\n",
    "\n",
    "\n",
    "For a given a Binary Tree of type integer, print it in a level order fashion where each level will be printed on a new line. Elements on every level will be printed in a linear fashion and a single space will separate them\n",
    "\n",
    "10\n",
    "\n",
    "20 30 \n",
    "\n",
    "40 50 60\n",
    "\n",
    "\n",
    "SOLUTION :\n",
    "\n",
    "The idea here is to print the current node and not the next level node data (left or right) and also mark the level ending with None"
   ]
  },
  {
   "cell_type": "code",
   "execution_count": 42,
   "metadata": {},
   "outputs": [],
   "source": [
    "def printlevelwise(root):\n",
    "    \n",
    "    if root is None:\n",
    "        return None\n",
    "    \n",
    "    q = queue.Queue()\n",
    "    q.put(root)\n",
    "    q.put(None)\n",
    "    \n",
    "    while not q.empty():\n",
    "        \n",
    "        current = q.get()\n",
    "        if q.empty():\n",
    "            break\n",
    "        if current is None:\n",
    "            print()\n",
    "            q.put(None)\n",
    "        else:\n",
    "            print(current.data, end=\" \")\n",
    "            \n",
    "            if current.left is not None:\n",
    "                q.put(current.left)\n",
    "            if current.right is not None:\n",
    "                q.put(current.right)\n",
    " \n",
    "      "
   ]
  },
  {
   "cell_type": "code",
   "execution_count": 22,
   "metadata": {},
   "outputs": [
    {
     "name": "stdin",
     "output_type": "stream",
     "text": [
      "Enter the root 10\n",
      "Enter the left child of 10 20\n",
      "Enter the right child of 10 30\n",
      "Enter the left child of 20 40\n",
      "Enter the right child of 20 50\n",
      "Enter the left child of 30 -1\n",
      "Enter the right child of 30 60\n",
      "Enter the left child of 40 -1\n",
      "Enter the right child of 40 -1\n",
      "Enter the left child of 50 -1\n",
      "Enter the right child of 50 -1\n",
      "Enter the left child of 60 -1\n",
      "Enter the right child of 60 -1\n"
     ]
    },
    {
     "name": "stdout",
     "output_type": "stream",
     "text": [
      "10: L 20,R  30\n",
      "20: L 40,R  50\n",
      "30: L -1,R  60\n",
      "40: L -1,R -1\n",
      "50: L -1,R -1\n",
      "60: L -1,R -1\n"
     ]
    }
   ],
   "source": [
    "root2 = inserttree()\n",
    "printtree(root2)"
   ]
  },
  {
   "cell_type": "code",
   "execution_count": 43,
   "metadata": {},
   "outputs": [
    {
     "name": "stdout",
     "output_type": "stream",
     "text": [
      "10 \n",
      "20 30 \n",
      "40 50 60 "
     ]
    }
   ],
   "source": [
    "printlevelwise(root2)"
   ]
  }
 ],
 "metadata": {
  "kernelspec": {
   "display_name": "Python 3",
   "language": "python",
   "name": "python3"
  },
  "language_info": {
   "codemirror_mode": {
    "name": "ipython",
    "version": 3
   },
   "file_extension": ".py",
   "mimetype": "text/x-python",
   "name": "python",
   "nbconvert_exporter": "python",
   "pygments_lexer": "ipython3",
   "version": "3.8.5"
  }
 },
 "nbformat": 4,
 "nbformat_minor": 4
}
