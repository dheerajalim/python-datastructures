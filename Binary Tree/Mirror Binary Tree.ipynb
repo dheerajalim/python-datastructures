{
 "cells": [
  {
   "cell_type": "markdown",
   "metadata": {},
   "source": [
    "### Mirror Binary Tree\n",
    "\n",
    "For a given Binary Tree of type integer, update it with its corresponding mirror image."
   ]
  },
  {
   "cell_type": "code",
   "execution_count": 1,
   "metadata": {},
   "outputs": [],
   "source": [
    "class BinaryTree(object):\n",
    "    \n",
    "    def __init__(self,data):\n",
    "        self.data = data\n",
    "        self.left = None\n",
    "        self.right = None\n",
    "\n",
    "def inserttree():\n",
    "    \n",
    "    rootdata = int(input())\n",
    "    \n",
    "    if rootdata == -1:\n",
    "        return\n",
    "    \n",
    "    root = BinaryTree(rootdata)\n",
    "    \n",
    "    root.left = inserttree()\n",
    "    root.right = inserttree()\n",
    "    \n",
    "    return root\n",
    "\n",
    "def printtree(root):\n",
    "    \n",
    "    if root is None:\n",
    "        return None\n",
    "    \n",
    "    print(root.data , end=\": \")\n",
    "    if root.left is not None:\n",
    "        print(\"L \", root.left.data, end = \",\")\n",
    "    \n",
    "    if root.right is not None:\n",
    "        print(\"R \", root.right.data, end=\"\")\n",
    "    \n",
    "    print()\n",
    "    \n",
    "    printtree(root.left)\n",
    "    printtree(root.right)"
   ]
  },
  {
   "cell_type": "code",
   "execution_count": 2,
   "metadata": {},
   "outputs": [],
   "source": [
    "def mirrortree(root):\n",
    "    \n",
    "    if root is None:\n",
    "        return \n",
    "    \n",
    "    if root.left is not None and root.right is not None:\n",
    "        root.left, root.right = root.right, root.left\n",
    "        \n",
    "    mirrortree(root.left)\n",
    "    mirrortree(root.right)"
   ]
  },
  {
   "cell_type": "code",
   "execution_count": 3,
   "metadata": {},
   "outputs": [
    {
     "name": "stdin",
     "output_type": "stream",
     "text": [
      " 1\n",
      " 2\n",
      " 4\n",
      " -1\n",
      " -1\n",
      " 5\n",
      " -1\n",
      " -1\n",
      " 3\n",
      " 6\n",
      " -1\n",
      " -1\n",
      " 7\n",
      " -1\n",
      " -1\n"
     ]
    },
    {
     "name": "stdout",
     "output_type": "stream",
     "text": [
      "1: L  2,R  3\n",
      "2: L  4,R  5\n",
      "4: \n",
      "5: \n",
      "3: L  6,R  7\n",
      "6: \n",
      "7: \n"
     ]
    }
   ],
   "source": [
    "root = inserttree()\n",
    "printtree(root)"
   ]
  },
  {
   "cell_type": "code",
   "execution_count": 4,
   "metadata": {},
   "outputs": [
    {
     "name": "stdout",
     "output_type": "stream",
     "text": [
      "1: L  3,R  2\n",
      "3: L  7,R  6\n",
      "7: \n",
      "6: \n",
      "2: L  5,R  4\n",
      "5: \n",
      "4: \n"
     ]
    }
   ],
   "source": [
    "mirrortree(root)\n",
    "printtree(root)"
   ]
  },
  {
   "cell_type": "code",
   "execution_count": 11,
   "metadata": {},
   "outputs": [],
   "source": [
    "def mirrortreev2(root):\n",
    "    \n",
    "    if root is None:\n",
    "        return None\n",
    "    \n",
    "    leftdata = mirrortree(root.left)\n",
    "    rightdata = mirrortree(root.right)\n",
    "    \n",
    "#     if root.left is not None and root.right is not None:\n",
    "    root.left, root.right = root.right, root.left\n",
    "        \n",
    "#     return root"
   ]
  },
  {
   "cell_type": "code",
   "execution_count": 12,
   "metadata": {},
   "outputs": [
    {
     "name": "stdin",
     "output_type": "stream",
     "text": [
      " 1\n",
      " 2\n",
      " 4\n",
      " -1\n",
      " -1\n",
      " 5\n",
      " -1\n",
      " -1\n",
      " 3\n",
      " 6\n",
      " -1\n",
      " -1\n",
      " 7\n",
      " -1\n",
      " -1\n"
     ]
    },
    {
     "name": "stdout",
     "output_type": "stream",
     "text": [
      "1: L  2,R  3\n",
      "2: L  4,R  5\n",
      "4: \n",
      "5: \n",
      "3: L  6,R  7\n",
      "6: \n",
      "7: \n"
     ]
    }
   ],
   "source": [
    "root1 = inserttree()\n",
    "printtree(root1)"
   ]
  },
  {
   "cell_type": "code",
   "execution_count": 13,
   "metadata": {},
   "outputs": [
    {
     "name": "stdout",
     "output_type": "stream",
     "text": [
      "1: L  3,R  2\n",
      "3: L  7,R  6\n",
      "7: \n",
      "6: \n",
      "2: L  5,R  4\n",
      "5: \n",
      "4: \n"
     ]
    }
   ],
   "source": [
    "mirrortreev2(root1)\n",
    "printtree(root1)"
   ]
  },
  {
   "cell_type": "code",
   "execution_count": null,
   "metadata": {},
   "outputs": [],
   "source": []
  }
 ],
 "metadata": {
  "kernelspec": {
   "display_name": "Python 3",
   "language": "python",
   "name": "python3"
  },
  "language_info": {
   "codemirror_mode": {
    "name": "ipython",
    "version": 3
   },
   "file_extension": ".py",
   "mimetype": "text/x-python",
   "name": "python",
   "nbconvert_exporter": "python",
   "pygments_lexer": "ipython3",
   "version": "3.8.5"
  }
 },
 "nbformat": 4,
 "nbformat_minor": 4
}
