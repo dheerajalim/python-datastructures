{
 "cells": [
  {
   "cell_type": "markdown",
   "metadata": {},
   "source": [
    "### Taking Level Wise input of Binary Tree"
   ]
  },
  {
   "cell_type": "code",
   "execution_count": 1,
   "metadata": {},
   "outputs": [],
   "source": [
    "class BinaryTree(object):\n",
    "    \n",
    "    def __init__(self,data):\n",
    "        self.data = data\n",
    "        self.left = None\n",
    "        self.right = None\n",
    "\n",
    "def inserttree():\n",
    "    \n",
    "    rootdata = int(input())\n",
    "    \n",
    "    if rootdata == -1:\n",
    "        return\n",
    "    \n",
    "    root = BinaryTree(rootdata)\n",
    "    \n",
    "    root.left = inserttree()\n",
    "    root.right = inserttree()\n",
    "    \n",
    "    return root\n",
    "\n",
    "def printtree(root):\n",
    "    \n",
    "    if root is None:\n",
    "        return None\n",
    "    \n",
    "    print(root.data , end=\": \")\n",
    "    if root.left is not None:\n",
    "        print(\"L \", root.left.data, end = \",\")\n",
    "    \n",
    "    if root.right is not None:\n",
    "        print(\"R \", root.right.data, end=\"\")\n",
    "    \n",
    "    print()\n",
    "    \n",
    "    printtree(root.left)\n",
    "    printtree(root.right)"
   ]
  },
  {
   "cell_type": "code",
   "execution_count": 9,
   "metadata": {},
   "outputs": [],
   "source": [
    "import queue\n",
    "\n",
    "def levelwiseinput():\n",
    "    \n",
    "    rootdata = int(input(\"Enter the root\"))\n",
    "    if rootdata  == -1:\n",
    "        return None\n",
    "    \n",
    "    root = BinaryTree(rootdata)\n",
    "    \n",
    "    q = queue.Queue()\n",
    "    q.put(root)\n",
    "    \n",
    "    while not q.empty():\n",
    "        current_node = q.get()\n",
    "        left_child_data = int(input(f'Enter the left child of {current_node.data}'))\n",
    "        if left_child_data != -1:\n",
    "            left_child = BinaryTree(left_child_data)\n",
    "            current_node.left = left_child\n",
    "            q.put(left_child)\n",
    "            \n",
    "        right_child_data = int(input(f'Enter the right child of {current_node.data}'))\n",
    "        if right_child_data != -1:\n",
    "            right_child = BinaryTree(right_child_data)\n",
    "            current_node.right = right_child\n",
    "            q.put(right_child)\n",
    "            \n",
    "    \n",
    "    return root"
   ]
  },
  {
   "cell_type": "code",
   "execution_count": 11,
   "metadata": {},
   "outputs": [
    {
     "name": "stdin",
     "output_type": "stream",
     "text": [
      "Enter the root 1\n",
      "Enter the left child of 1 2\n",
      "Enter the right child of 1 3\n",
      "Enter the left child of 2 4\n",
      "Enter the right child of 2 5\n",
      "Enter the left child of 3 6\n",
      "Enter the right child of 3 7\n",
      "Enter the left child of 4 -1\n",
      "Enter the right child of 4 -1\n",
      "Enter the left child of 5 -1\n",
      "Enter the right child of 5 -1\n",
      "Enter the left child of 6 -1\n",
      "Enter the right child of 6 -1\n",
      "Enter the left child of 7 -1\n",
      "Enter the right child of 7 -1\n"
     ]
    },
    {
     "name": "stdout",
     "output_type": "stream",
     "text": [
      "1: L  2,R  3\n",
      "2: L  4,R  5\n",
      "4: \n",
      "5: \n",
      "3: L  6,R  7\n",
      "6: \n",
      "7: \n"
     ]
    }
   ],
   "source": [
    "root = levelwiseinput()\n",
    "printtree(root)"
   ]
  },
  {
   "cell_type": "code",
   "execution_count": 12,
   "metadata": {},
   "outputs": [
    {
     "name": "stdin",
     "output_type": "stream",
     "text": [
      "Enter the root -1\n"
     ]
    }
   ],
   "source": [
    "root1 = levelwiseinput()\n",
    "printtree(root1)"
   ]
  },
  {
   "cell_type": "code",
   "execution_count": null,
   "metadata": {},
   "outputs": [],
   "source": []
  }
 ],
 "metadata": {
  "kernelspec": {
   "display_name": "Python 3",
   "language": "python",
   "name": "python3"
  },
  "language_info": {
   "codemirror_mode": {
    "name": "ipython",
    "version": 3
   },
   "file_extension": ".py",
   "mimetype": "text/x-python",
   "name": "python",
   "nbconvert_exporter": "python",
   "pygments_lexer": "ipython3",
   "version": "3.8.5"
  }
 },
 "nbformat": 4,
 "nbformat_minor": 4
}
