{
 "cells": [
  {
   "cell_type": "markdown",
   "metadata": {},
   "source": [
    "You have been given a head to a singly linked list of integers. Write a function check to whether the list given is a 'Palindrome' or not."
   ]
  },
  {
   "cell_type": "code",
   "execution_count": 44,
   "metadata": {},
   "outputs": [
    {
     "name": "stdin",
     "output_type": "stream",
     "text": [
      " 2 3 5 3 2\n"
     ]
    },
    {
     "name": "stdout",
     "output_type": "stream",
     "text": [
      "2->3->5->3->2->None\n",
      "5\n",
      "true\n"
     ]
    }
   ],
   "source": [
    "class Node():\n",
    "    \n",
    "    def __init__(self,data):\n",
    "        self.data = data\n",
    "        self.next = None\n",
    "\n",
    "\n",
    "class LinkedList():\n",
    "    \n",
    "    def __init__(self):\n",
    "        self.head = None\n",
    "        self.length = 0\n",
    "        \n",
    "    def createLL(self,arr):\n",
    "        \n",
    "        for data in arr:\n",
    "\n",
    "            new_node = Node(data)\n",
    "            if self.head == None:\n",
    "                self.head = new_node\n",
    "                current_node = new_node\n",
    "            \n",
    "            else:\n",
    "                current_node.next = new_node\n",
    "                current_node = new_node\n",
    "                \n",
    "    \n",
    "    def reverse_ll(self,head):\n",
    "        prev = None\n",
    "        current = head\n",
    "        \n",
    "        while current is not None:\n",
    "            next_node = current.next\n",
    "            current.next = prev\n",
    "            prev = current\n",
    "            current = next_node\n",
    "        \n",
    "        head = prev\n",
    "        return head\n",
    "        \n",
    "\n",
    "        \n",
    "    def mid_ll(self):\n",
    "        fast = self.head\n",
    "        slow = self.head\n",
    "        \n",
    "        while fast.next is not None and fast.next.next is not None:\n",
    "            fast = fast.next.next\n",
    "            slow = slow.next\n",
    "        \n",
    "        return slow\n",
    "        \n",
    "    def ispalindrome(self):\n",
    "        \n",
    "        if self.head is None:\n",
    "            return 'true'\n",
    "        middle = self.mid_ll()\n",
    "        print(middle.data)\n",
    "        second_head = middle.next\n",
    "        second_head = self.reverse_ll(second_head)\n",
    "        \n",
    "        temp = self.head\n",
    "#         while temp is not middle.next:\n",
    "#             temp = temp.next\n",
    "        \n",
    "#         temp.next = None\n",
    "            \n",
    "        while second_head is not None:\n",
    "            if temp.data == second_head.data:\n",
    "                temp = temp.next\n",
    "                second_head = second_head.next\n",
    "            else:\n",
    "                return 'false'\n",
    "        \n",
    "        return 'true'\n",
    "    def lengthLL(self):\n",
    "        temp = self.head\n",
    "        \n",
    "        while temp is not None:\n",
    "            self.length = self.length +1\n",
    "            temp = temp.next\n",
    "        \n",
    "        return self.length\n",
    "        \n",
    "    def printLL(self):\n",
    "        temp = self.head\n",
    "        while temp is not None:\n",
    "            print(temp.data, end = \"->\")\n",
    "            temp = temp.next\n",
    "        print(\"None\")\n",
    "\n",
    "if __name__ == \"__main__\":\n",
    "    \n",
    "    user_input = list(map(int,input().split()))\n",
    "    \n",
    "    linkedlist = LinkedList()\n",
    "    linkedlist.createLL(user_input)\n",
    "    linkedlist.printLL()\n",
    "    print(linkedlist.ispalindrome())"
   ]
  },
  {
   "cell_type": "code",
   "execution_count": null,
   "metadata": {},
   "outputs": [],
   "source": []
  }
 ],
 "metadata": {
  "kernelspec": {
   "display_name": "Python 3",
   "language": "python",
   "name": "python3"
  },
  "language_info": {
   "codemirror_mode": {
    "name": "ipython",
    "version": 3
   },
   "file_extension": ".py",
   "mimetype": "text/x-python",
   "name": "python",
   "nbconvert_exporter": "python",
   "pygments_lexer": "ipython3",
   "version": "3.8.5"
  }
 },
 "nbformat": 4,
 "nbformat_minor": 4
}
