{
 "cells": [
  {
   "cell_type": "markdown",
   "metadata": {},
   "source": [
    "### Iterative Approach"
   ]
  },
  {
   "cell_type": "code",
   "execution_count": 5,
   "metadata": {},
   "outputs": [],
   "source": [
    "class Node(object):\n",
    "    \n",
    "    def __init__(self,data):\n",
    "        self.data = data\n",
    "        self.next = None\n",
    "        \n",
    "class LinkedList(object):\n",
    "    \n",
    "    def __init__(self):\n",
    "        self.head = None\n",
    "        \n",
    "    def createLL(self,arr):\n",
    "        \n",
    "        for item in arr:\n",
    "            new_node = Node(item)\n",
    "            if self.head == None:\n",
    "                self.head = new_node\n",
    "                \n",
    "            else:\n",
    "                current_node = self.head\n",
    "                while current_node.next is not None:\n",
    "                    current_node = current_node.next\n",
    "                    \n",
    "                current_node.next = new_node\n",
    "    \n",
    "    def find_index(self,n):\n",
    "        \n",
    "        index = 0\n",
    "        current = self.head\n",
    "        \n",
    "        while current is not None:\n",
    "            if current.data == n:\n",
    "                return index\n",
    "            current = current.next\n",
    "            index = index+1\n",
    "        \n",
    "        return -1\n",
    "        \n",
    "    def printLL(self):\n",
    "        \n",
    "        temp = self.head\n",
    "        while temp is not None:\n",
    "            print(temp.data,end=\"->\")\n",
    "            temp = temp.next\n",
    "        print(None,end=\"\")"
   ]
  },
  {
   "cell_type": "code",
   "execution_count": 9,
   "metadata": {},
   "outputs": [
    {
     "name": "stdout",
     "output_type": "stream",
     "text": [
      "1->2->3->4->5->6->None\n",
      "-1\n"
     ]
    }
   ],
   "source": [
    "a = [1,2,3,4,5,6]\n",
    "linkedlist = LinkedList()\n",
    "linkedlist.createLL(a)\n",
    "linkedlist.printLL()\n",
    "print()\n",
    "print(linkedlist.find_index())\n"
   ]
  },
  {
   "cell_type": "markdown",
   "metadata": {},
   "source": [
    "### Recursive Approach"
   ]
  },
  {
   "cell_type": "code",
   "execution_count": 35,
   "metadata": {},
   "outputs": [],
   "source": [
    "class Node(object):\n",
    "    \n",
    "    def __init__(self,data):\n",
    "        self.data = data\n",
    "        self.next = None\n",
    "        \n",
    "class LinkedList(object):\n",
    "    \n",
    "    def __init__(self):\n",
    "        self.head = None\n",
    "        \n",
    "    def createLL(self,arr):\n",
    "        \n",
    "        for item in arr:\n",
    "            new_node = Node(item)\n",
    "            if self.head == None:\n",
    "                self.head = new_node\n",
    "                \n",
    "            else:\n",
    "                current_node = self.head\n",
    "                while current_node.next is not None:\n",
    "                    current_node = current_node.next\n",
    "                    \n",
    "                current_node.next = new_node\n",
    "    \n",
    "    def find_index(self,head,index,n):\n",
    "        \n",
    "        if head is None:\n",
    "            return -1\n",
    "        \n",
    "        if head.data == n:\n",
    "            return index\n",
    "        index = index+1\n",
    "        index = self.find_index(head.next,index, n)\n",
    "        return index\n",
    "    \n",
    "    def find_index_1(self,head,n):\n",
    "\n",
    "        if head is None:\n",
    "            return -1\n",
    "        \n",
    "        if head.data == n:\n",
    "            return 0\n",
    "\n",
    "        smallAns = self.find_index_1(head.next, n)\n",
    "        \n",
    "        if smallAns == -1:\n",
    "            return -1\n",
    "        \n",
    "        return smallAns+1\n",
    "  \n",
    "      \n",
    "    def printLL(self):\n",
    "        \n",
    "        temp = self.head\n",
    "        while temp is not None:\n",
    "            print(temp.data,end=\"->\")\n",
    "            temp = temp.next\n",
    "        print(None,end=\"\")"
   ]
  },
  {
   "cell_type": "code",
   "execution_count": 36,
   "metadata": {},
   "outputs": [
    {
     "name": "stdout",
     "output_type": "stream",
     "text": [
      "1->2->3->4->5->6->None\n",
      "-1\n",
      "3\n"
     ]
    }
   ],
   "source": [
    "a = [1,2,3,4,5,6]\n",
    "linkedlist = LinkedList()\n",
    "linkedlist.createLL(a)\n",
    "linkedlist.printLL()\n",
    "print()\n",
    "print(linkedlist.find_index(linkedlist.head,0,144))\n",
    "print(linkedlist.find_index_1(linkedlist.head,4))"
   ]
  },
  {
   "cell_type": "code",
   "execution_count": null,
   "metadata": {},
   "outputs": [],
   "source": []
  }
 ],
 "metadata": {
  "kernelspec": {
   "display_name": "Python 3",
   "language": "python",
   "name": "python3"
  },
  "language_info": {
   "codemirror_mode": {
    "name": "ipython",
    "version": 3
   },
   "file_extension": ".py",
   "mimetype": "text/x-python",
   "name": "python",
   "nbconvert_exporter": "python",
   "pygments_lexer": "ipython3",
   "version": "3.8.5"
  }
 },
 "nbformat": 4,
 "nbformat_minor": 4
}
