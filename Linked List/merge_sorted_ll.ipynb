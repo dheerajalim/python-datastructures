{
 "cells": [
  {
   "cell_type": "code",
   "execution_count": 24,
   "metadata": {},
   "outputs": [],
   "source": [
    "class Node(object):\n",
    "    \n",
    "    def __init__(self,data):\n",
    "        self.data = data\n",
    "        self.next = None\n",
    "        \n",
    "class LinkedList(object):\n",
    "    \n",
    "    def __init__(self):\n",
    "        self.head = None\n",
    "        \n",
    "    def createLL(self,arr):\n",
    "        \n",
    "        for item in arr:\n",
    "            new_node = Node(item)\n",
    "            if self.head == None:\n",
    "                self.head = new_node\n",
    "                \n",
    "            else:\n",
    "                current_node = self.head\n",
    "                while current_node.next is not None:\n",
    "                    current_node = current_node.next\n",
    "                    \n",
    "                current_node.next = new_node\n",
    "                \n",
    "    def merge_sorted(self,head1,head2):\n",
    "        \n",
    "        head1 = head1\n",
    "        head2 = head2\n",
    "\n",
    "        if head1 is None:\n",
    "            return head2\n",
    "        elif head2 is None:\n",
    "            return head1\n",
    "        if head1 is None and head2 is None:\n",
    "            return None\n",
    "        \n",
    "        final_head = None\n",
    "        final_tail = None\n",
    "        \n",
    "        if head1.data < head2.data:\n",
    "            final_head = head1\n",
    "            final_tail = head1\n",
    "            head1 = head1.next\n",
    "        else:\n",
    "            final_head = head2\n",
    "            final_tail = head2\n",
    "            head2 = head2.next\n",
    "\n",
    "        while head1 is not None and head2 is not None:\n",
    "            \n",
    "            if head1.data < head2.data:\n",
    "                final_tail.next = head1\n",
    "                final_tail = head1\n",
    "                head1 = head1.next\n",
    "            \n",
    "            else:\n",
    "                final_tail.next = head2\n",
    "                final_tail = head2\n",
    "                head2 = head2.next\n",
    "                \n",
    "        if head1 is None:\n",
    "            final_tail.next = head2\n",
    "        elif head2 is None:\n",
    "            final_tail.next = head1\n",
    "            \n",
    "        return final_head\n",
    "\n",
    "    def printLL(self):\n",
    "        \n",
    "        temp = self.head\n",
    "        while temp is not None:\n",
    "            print(temp.data,end=\"->\")\n",
    "            temp = temp.next\n",
    "        print(None,end=\"\")"
   ]
  },
  {
   "cell_type": "code",
   "execution_count": 26,
   "metadata": {},
   "outputs": [
    {
     "name": "stdout",
     "output_type": "stream",
     "text": [
      "1->3->8->9->10->None\n",
      "2->5->6->11->None\n",
      "1->2->3->5->6->8->9->10->11->None"
     ]
    }
   ],
   "source": [
    "a = [1,3,8,9,10]\n",
    "b = [2,5,6,11]\n",
    "linkedlist1 = LinkedList()\n",
    "linkedlist1.createLL(a)\n",
    "linkedlist1.printLL()\n",
    "print()\n",
    "linkedlist2 = LinkedList()\n",
    "linkedlist2.createLL(b)\n",
    "linkedlist2.printLL()\n",
    "print()\n",
    "merged_head = linkedlist1.merge_sorted(linkedlist1.head,linkedlist2.head)\n",
    "linkedlist1.head = merged_head\n",
    "linkedlist1.printLL()\n"
   ]
  }
 ],
 "metadata": {
  "kernelspec": {
   "display_name": "Python 3",
   "language": "python",
   "name": "python3"
  },
  "language_info": {
   "codemirror_mode": {
    "name": "ipython",
    "version": 3
   },
   "file_extension": ".py",
   "mimetype": "text/x-python",
   "name": "python",
   "nbconvert_exporter": "python",
   "pygments_lexer": "ipython3",
   "version": "3.8.5"
  }
 },
 "nbformat": 4,
 "nbformat_minor": 4
}
