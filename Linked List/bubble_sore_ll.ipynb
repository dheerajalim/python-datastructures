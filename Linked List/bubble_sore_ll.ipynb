{
 "cells": [
  {
   "cell_type": "markdown",
   "metadata": {},
   "source": [
    "### Bubble Sort on Linked List"
   ]
  },
  {
   "cell_type": "code",
   "execution_count": 93,
   "metadata": {},
   "outputs": [],
   "source": [
    "class Node():\n",
    "    \n",
    "    def __init__(self,data):\n",
    "        self.data = data\n",
    "        self.next = None\n",
    "\n",
    "\n",
    "class LinkedList():\n",
    "    \n",
    "    def __init__(self):\n",
    "        self.head = None\n",
    "        self.length = 0\n",
    "        \n",
    "    def createLL(self,arr):\n",
    "        \n",
    "        for data in arr:\n",
    "\n",
    "            new_node = Node(data)\n",
    "            if self.head == None:\n",
    "                self.head = new_node\n",
    "                current_node = new_node\n",
    "            \n",
    "            else:\n",
    "                current_node.next = new_node\n",
    "                current_node = new_node\n",
    "    \n",
    "\n",
    "    def bubble_sort(self):\n",
    "        \n",
    "        if self.head is None:\n",
    "            return None\n",
    "        head = self.head\n",
    "        length = self.lengthLL()\n",
    "        \n",
    "        for i in range(length):\n",
    "            prev = None\n",
    "            current = head\n",
    "            swapped = False\n",
    "            for j in range(length-1-i):\n",
    "    \n",
    "                if current.data > current.next.data:\n",
    "                    first = prev\n",
    "                    next_node = current.next\n",
    "                    prev = next_node\n",
    "                    last = prev.next\n",
    "                    prev.next = current\n",
    "                    current.next = last\n",
    "                    \n",
    "                    if  j == 0:\n",
    "                        head = prev\n",
    "                    else:\n",
    "\n",
    "                        first.next = prev\n",
    "                        \n",
    "                    swapped = True\n",
    "                    \n",
    "                else:\n",
    "                    prev = current\n",
    "                    current = current.next\n",
    "            if not swapped:\n",
    "                return head\n",
    "                    \n",
    "        return head\n",
    "                        \n",
    "\n",
    "    def lengthLL(self):\n",
    "        temp = self.head\n",
    "        \n",
    "        while temp is not None:\n",
    "            self.length = self.length +1\n",
    "            temp = temp.next\n",
    "        \n",
    "        return self.length\n",
    "        \n",
    "    def printLL(self):\n",
    "        temp = self.head\n",
    "        while temp is not None:\n",
    "            print(temp.data, end = \"->\")\n",
    "            temp = temp.next\n",
    "        print(\"None\")\n"
   ]
  },
  {
   "cell_type": "code",
   "execution_count": 94,
   "metadata": {},
   "outputs": [
    {
     "name": "stdout",
     "output_type": "stream",
     "text": [
      "9->5->1->8->10->4->6->0->-1->None\n",
      "\n",
      "-1->0->1->4->5->6->8->9->10->None\n"
     ]
    }
   ],
   "source": [
    "a = [9,5,1,8,10,4,6,0,-1]\n",
    "# a = [4, 4, 7, 8, 3, 36, 8, 17, 26, 7, 7]\n",
    "linkedlist = LinkedList()\n",
    "linkedlist.createLL(a)\n",
    "linkedlist.printLL()\n",
    "new_head = linkedlist.bubble_sort()\n",
    "print()\n",
    "linkedlist.head = new_head\n",
    "linkedlist.printLL()"
   ]
  },
  {
   "cell_type": "code",
   "execution_count": null,
   "metadata": {},
   "outputs": [],
   "source": []
  }
 ],
 "metadata": {
  "kernelspec": {
   "display_name": "Python 3",
   "language": "python",
   "name": "python3"
  },
  "language_info": {
   "codemirror_mode": {
    "name": "ipython",
    "version": 3
   },
   "file_extension": ".py",
   "mimetype": "text/x-python",
   "name": "python",
   "nbconvert_exporter": "python",
   "pygments_lexer": "ipython3",
   "version": "3.8.5"
  }
 },
 "nbformat": 4,
 "nbformat_minor": 4
}
