{
 "cells": [
  {
   "cell_type": "markdown",
   "metadata": {},
   "source": [
    "Find a Node in Linked List"
   ]
  },
  {
   "cell_type": "code",
   "execution_count": 10,
   "metadata": {},
   "outputs": [
    {
     "name": "stdin",
     "output_type": "stream",
     "text": [
      " 1 2 3 4 5\n"
     ]
    },
    {
     "name": "stdout",
     "output_type": "stream",
     "text": [
      "1->2->3->4->5->None\n",
      "2\n"
     ]
    }
   ],
   "source": [
    "class Node():\n",
    "    \n",
    "    def __init__(self,data):\n",
    "        self.data = data\n",
    "        self.next = None\n",
    "\n",
    "\n",
    "class LinkedList():\n",
    "    \n",
    "    def __init__(self):\n",
    "        self.head = None\n",
    "        self.length = 0\n",
    "        \n",
    "    def createLL(self,arr):\n",
    "        \n",
    "        for data in arr:\n",
    "\n",
    "            new_node = Node(data)\n",
    "            if self.head == None:\n",
    "                self.head = new_node\n",
    "                current_node = new_node\n",
    "            \n",
    "            else:\n",
    "                current_node.next = new_node\n",
    "                current_node = new_node\n",
    "                       \n",
    "    def find(self, data):\n",
    "        \n",
    "        if self.head is None:\n",
    "            return -1\n",
    "        temp = self.head\n",
    "        index = 0\n",
    "        while temp.data != data:\n",
    "            index = index+1\n",
    "            temp = temp.next\n",
    "            if temp is None:\n",
    "                return -1\n",
    "        return index\n",
    "    \n",
    "    def find_ninja(self,data):\n",
    "        if self.head is None:\n",
    "            return -1\n",
    "        \n",
    "        temp = self.head\n",
    "        index = 0\n",
    "        while temp is not None:\n",
    "            if temp.data == data:\n",
    "                return index\n",
    "            \n",
    "            index = index+1\n",
    "            temp = temp.next\n",
    "\n",
    "        return -1\n",
    "        \n",
    "    def lengthLL(self):\n",
    "        temp = self.head\n",
    "        \n",
    "        while temp is not None:\n",
    "            self.length = self.length +1\n",
    "            temp = temp.next\n",
    "        \n",
    "        return self.length\n",
    "        \n",
    "    def printLL(self):\n",
    "        temp = self.head\n",
    "        \n",
    "        while temp is not None:\n",
    "            print(temp.data, end = \"->\")\n",
    "            temp = temp.next\n",
    "        print(\"None\")\n",
    "\n",
    "if __name__ == \"__main__\":\n",
    "    \n",
    "    user_input = list(map(int,input().split()))\n",
    "    \n",
    "    linkedlist = LinkedList()\n",
    "    linkedlist.createLL(user_input)\n",
    "    linkedlist.printLL()\n",
    "    print(linkedlist.find(3))\n",
    "   \n"
   ]
  },
  {
   "cell_type": "code",
   "execution_count": null,
   "metadata": {},
   "outputs": [],
   "source": []
  }
 ],
 "metadata": {
  "kernelspec": {
   "display_name": "Python 3",
   "language": "python",
   "name": "python3"
  },
  "language_info": {
   "codemirror_mode": {
    "name": "ipython",
    "version": 3
   },
   "file_extension": ".py",
   "mimetype": "text/x-python",
   "name": "python",
   "nbconvert_exporter": "python",
   "pygments_lexer": "ipython3",
   "version": "3.8.5"
  }
 },
 "nbformat": 4,
 "nbformat_minor": 4
}
