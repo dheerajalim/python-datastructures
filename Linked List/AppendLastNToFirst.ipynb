{
 "cells": [
  {
   "cell_type": "markdown",
   "metadata": {},
   "source": [
    "You have been given a singly linked list of integers along with an integer 'N'. Write a function to append the last 'N' nodes towards the front of the singly linked list and returns the new head to the lis"
   ]
  },
  {
   "cell_type": "code",
   "execution_count": 10,
   "metadata": {},
   "outputs": [
    {
     "name": "stdin",
     "output_type": "stream",
     "text": [
      " 1 2 3 4 5\n"
     ]
    },
    {
     "name": "stdout",
     "output_type": "stream",
     "text": [
      "5->1->2->3->4->None\n"
     ]
    }
   ],
   "source": [
    "class Node():\n",
    "    \n",
    "    def __init__(self,data):\n",
    "        self.data = data\n",
    "        self.next = None\n",
    "\n",
    "\n",
    "class LinkedList():\n",
    "    \n",
    "    def __init__(self):\n",
    "        self.head = None\n",
    "        self.length = 0\n",
    "        \n",
    "    def createLL(self,arr):\n",
    "        \n",
    "        for data in arr:\n",
    "\n",
    "            new_node = Node(data)\n",
    "            if self.head == None:\n",
    "                self.head = new_node\n",
    "                current_node = new_node\n",
    "            \n",
    "            else:\n",
    "                current_node.next = new_node\n",
    "                current_node = new_node\n",
    "                \n",
    "    \n",
    "    def appendlast_n_first(self, n):\n",
    "        length = self.lengthLL()\n",
    "        if n == 0 or n >= length:\n",
    "            return\n",
    "       \n",
    "        location =  length - n\n",
    "        head = self.head\n",
    "        temp = self.head\n",
    "        i = 0\n",
    "        while i < location-1:\n",
    "            i = i +1\n",
    "            temp = temp.next\n",
    "        \n",
    "        self.head = temp.next\n",
    "        temp.next = None\n",
    "        \n",
    "        temp = self.head\n",
    "        while temp.next is not None:\n",
    "            temp = temp.next\n",
    "        \n",
    "        temp.next = head\n",
    "    \n",
    "    def lengthLL(self):\n",
    "        temp = self.head\n",
    "        \n",
    "        while temp is not None:\n",
    "            self.length = self.length +1\n",
    "            temp = temp.next\n",
    "        \n",
    "        return self.length\n",
    "        \n",
    "    def printLL(self):\n",
    "        temp = self.head\n",
    "        while temp is not None:\n",
    "            print(temp.data, end = \"->\")\n",
    "            temp = temp.next\n",
    "        print(\"None\")\n",
    "\n",
    "if __name__ == \"__main__\":\n",
    "    \n",
    "    user_input = list(map(int,input().split()))\n",
    "    \n",
    "    linkedlist = LinkedList()\n",
    "    linkedlist.createLL(user_input)\n",
    "    linkedlist.appendlast_n_first(1)\n",
    "    linkedlist.printLL()"
   ]
  },
  {
   "cell_type": "markdown",
   "metadata": {},
   "source": [
    "### Better Solution\n",
    "\n",
    "Using fast and slow"
   ]
  },
  {
   "cell_type": "code",
   "execution_count": 20,
   "metadata": {},
   "outputs": [
    {
     "name": "stdin",
     "output_type": "stream",
     "text": [
      " 1 2 3 4 5 6\n"
     ]
    },
    {
     "name": "stdout",
     "output_type": "stream",
     "text": [
      "1->2->3->4->5->6->None\n"
     ]
    }
   ],
   "source": [
    "class Node():\n",
    "    \n",
    "    def __init__(self,data):\n",
    "        self.data = data\n",
    "        self.next = None\n",
    "\n",
    "\n",
    "class LinkedList():\n",
    "    \n",
    "    def __init__(self):\n",
    "        self.head = None\n",
    "        self.length = 0\n",
    "        \n",
    "    def createLL(self,arr):\n",
    "        \n",
    "        for data in arr:\n",
    "\n",
    "            new_node = Node(data)\n",
    "            if self.head == None:\n",
    "                self.head = new_node\n",
    "                current_node = new_node\n",
    "            \n",
    "            else:\n",
    "                current_node.next = new_node\n",
    "                current_node = new_node\n",
    "                \n",
    "    \n",
    "    def appendlast_n_first(self, n):\n",
    "        if  n <= 0 or self.head is None:\n",
    "            return \n",
    "        initialHead = self.head\n",
    "        fast = self.head\n",
    "        slow = self.head\n",
    "        i = 0 \n",
    "        while i < n:\n",
    "            fast = fast.next\n",
    "            i = i+1\n",
    "            \n",
    "        while fast.next is not None:\n",
    "            slow = slow.next\n",
    "            fast = fast.next\n",
    "            \n",
    "        self.head = slow.next\n",
    "        slow.next = None\n",
    "        fast.next = initialHead\n",
    "        \n",
    "    def lengthLL(self):\n",
    "        temp = self.head\n",
    "        \n",
    "        while temp is not None:\n",
    "            self.length = self.length +1\n",
    "            temp = temp.next\n",
    "        \n",
    "        return self.length\n",
    "        \n",
    "    def printLL(self):\n",
    "        temp = self.head\n",
    "        while temp is not None:\n",
    "            print(temp.data, end = \"->\")\n",
    "            temp = temp.next\n",
    "        print(\"None\")\n",
    "\n",
    "if __name__ == \"__main__\":\n",
    "    \n",
    "    user_input = list(map(int,input().split()))\n",
    "    \n",
    "    linkedlist = LinkedList()\n",
    "    linkedlist.createLL(user_input)\n",
    "    linkedlist.appendlast_n_first(-1)\n",
    "    linkedlist.printLL()"
   ]
  },
  {
   "cell_type": "code",
   "execution_count": null,
   "metadata": {},
   "outputs": [],
   "source": []
  }
 ],
 "metadata": {
  "kernelspec": {
   "display_name": "Python 3",
   "language": "python",
   "name": "python3"
  },
  "language_info": {
   "codemirror_mode": {
    "name": "ipython",
    "version": 3
   },
   "file_extension": ".py",
   "mimetype": "text/x-python",
   "name": "python",
   "nbconvert_exporter": "python",
   "pygments_lexer": "ipython3",
   "version": "3.8.5"
  }
 },
 "nbformat": 4,
 "nbformat_minor": 4
}
