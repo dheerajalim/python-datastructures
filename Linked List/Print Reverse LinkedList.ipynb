{
 "cells": [
  {
   "cell_type": "markdown",
   "metadata": {},
   "source": [
    "Print Reverse LinkedList"
   ]
  },
  {
   "cell_type": "code",
   "execution_count": 9,
   "metadata": {},
   "outputs": [
    {
     "name": "stdin",
     "output_type": "stream",
     "text": [
      " 2 46 7 54 32 868 979\n"
     ]
    },
    {
     "name": "stdout",
     "output_type": "stream",
     "text": [
      "2->46->7->54->32->868->979->None\n",
      "979 868 32 54 7 46 2 \n",
      "979 868 32 54 7 46 2 "
     ]
    }
   ],
   "source": [
    "class Node():\n",
    "    \n",
    "    def __init__(self,data):\n",
    "        self.data = data\n",
    "        self.next = None\n",
    "\n",
    "\n",
    "class LinkedList():\n",
    "    \n",
    "    def __init__(self):\n",
    "        self.head = None\n",
    "        self.length = 0\n",
    "        \n",
    "    def createLL(self,arr):\n",
    "        \n",
    "        for data in arr:\n",
    "\n",
    "            new_node = Node(data)\n",
    "            if self.head == None:\n",
    "                self.head = new_node\n",
    "                current_node = new_node\n",
    "            \n",
    "            else:\n",
    "                current_node.next = new_node\n",
    "                current_node = new_node\n",
    "                \n",
    "    \n",
    "    def print_reverse(self):\n",
    "        \n",
    "        data = []\n",
    "        temp = self.head\n",
    "        while temp is not None:\n",
    "            data.append(temp.data)\n",
    "            temp = temp.next\n",
    "        \n",
    "        for i in range(len(data)-1,-1,-1):\n",
    "            print(data[i], end=\" \")\n",
    "    \n",
    "    def print_reverse_ninja(self,head):\n",
    "        \n",
    "        if head is None:\n",
    "            return\n",
    "        \n",
    "        self.print_reverse_ninja(head.next)\n",
    "        print(head.data, end=\" \")\n",
    "        \n",
    "    def lengthLL(self):\n",
    "        temp = self.head\n",
    "        \n",
    "        while temp is not None:\n",
    "            self.length = self.length +1\n",
    "            temp = temp.next\n",
    "        \n",
    "        return self.length\n",
    "        \n",
    "    def printLL(self):\n",
    "        temp = self.head\n",
    "        while temp is not None:\n",
    "            print(temp.data, end = \"->\")\n",
    "            temp = temp.next\n",
    "        print(\"None\")\n",
    "\n",
    "if __name__ == \"__main__\":\n",
    "    \n",
    "    user_input = list(map(int,input().split()))\n",
    "    \n",
    "    linkedlist = LinkedList()\n",
    "    linkedlist.createLL(user_input)\n",
    "    linkedlist.printLL()\n",
    "    linkedlist.print_reverse()\n",
    "    print()\n",
    "    linkedlist.print_reverse_ninja(linkedlist.head)"
   ]
  },
  {
   "cell_type": "code",
   "execution_count": null,
   "metadata": {},
   "outputs": [],
   "source": []
  }
 ],
 "metadata": {
  "kernelspec": {
   "display_name": "Python 3",
   "language": "python",
   "name": "python3"
  },
  "language_info": {
   "codemirror_mode": {
    "name": "ipython",
    "version": 3
   },
   "file_extension": ".py",
   "mimetype": "text/x-python",
   "name": "python",
   "nbconvert_exporter": "python",
   "pygments_lexer": "ipython3",
   "version": "3.8.5"
  }
 },
 "nbformat": 4,
 "nbformat_minor": 4
}
