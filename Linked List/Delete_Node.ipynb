{
 "cells": [
  {
   "cell_type": "code",
   "execution_count": 12,
   "metadata": {},
   "outputs": [
    {
     "name": "stdin",
     "output_type": "stream",
     "text": [
      " 1 2 3 4 5\n"
     ]
    },
    {
     "name": "stdout",
     "output_type": "stream",
     "text": [
      "1->2->3->4->5->None\n"
     ]
    }
   ],
   "source": [
    "class Node():\n",
    "    \n",
    "    def __init__(self,data):\n",
    "        self.data = data\n",
    "        self.next = None\n",
    "\n",
    "\n",
    "class LinkedList():\n",
    "    \n",
    "    def __init__(self):\n",
    "        self.head = None\n",
    "        self.length = 0\n",
    "        \n",
    "    def createLL(self,arr):\n",
    "        \n",
    "        for data in arr:\n",
    "\n",
    "            new_node = Node(data)\n",
    "            if self.head == None:\n",
    "                self.head = new_node\n",
    "                current_node = new_node\n",
    "            \n",
    "            else:\n",
    "                current_node.next = new_node\n",
    "                current_node = new_node\n",
    "                \n",
    "    def delete_ipos(self, i):\n",
    "        \n",
    "        if i >= self.lengthLL() or i < 0:\n",
    "            return\n",
    "        \n",
    "        previous = None\n",
    "        current = self.head\n",
    "        count = 0\n",
    "        \n",
    "        while count < i:\n",
    "            count = count+1\n",
    "            previous = current\n",
    "            current = current.next\n",
    "        \n",
    "        \n",
    "        next_node = current.next\n",
    "        if previous is not None:\n",
    "            previous.next = next_node\n",
    "        else:\n",
    "            self.head = next_node\n",
    "            \n",
    "        del current\n",
    "        \n",
    "    \n",
    "    def delete_iops_rec(self,head,i):\n",
    "        if i < 0:\n",
    "            return head\n",
    "        \n",
    "        if head is None:\n",
    "            return head\n",
    "        \n",
    "        if i==0:\n",
    "            head = head.next\n",
    "            return head\n",
    "            \n",
    "        \n",
    "        small_head = self.delete_iops_rec(head.next, i-1)\n",
    "        head.next = small_head\n",
    "        return head\n",
    "        \n",
    "        \n",
    "        \n",
    "    def lengthLL(self):\n",
    "        temp = self.head\n",
    "        \n",
    "        while temp is not None:\n",
    "            self.length = self.length +1\n",
    "            temp = temp.next\n",
    "        \n",
    "        return self.length\n",
    "        \n",
    "    def printLL(self):\n",
    "        temp = self.head\n",
    "        \n",
    "        while temp is not None:\n",
    "            print(temp.data, end = \"->\")\n",
    "            temp = temp.next\n",
    "        print(\"None\")\n",
    "\n",
    "if __name__ == \"__main__\":\n",
    "    \n",
    "    user_input = list(map(int,input().split()))\n",
    "    \n",
    "    linkedlist = LinkedList()\n",
    "    linkedlist.createLL(user_input)\n",
    "#     linkedlist.delete_ipos(-1)\n",
    "#     linkedlist.printLL()\n",
    "    \n",
    "    #recursively\n",
    "    head = linkedlist.delete_iops_rec(linkedlist.head,-4)\n",
    "    linkedlist.head = head\n",
    "    linkedlist.printLL()\n"
   ]
  },
  {
   "cell_type": "markdown",
   "metadata": {},
   "source": [
    "### Time complexity:\n",
    "\n",
    "\n",
    "1. For iterative approach:\n",
    "The complexity is O(n) , the lengthLL() run n times and while loop runs i times with some constanct work with is O(1), so totla it takes O(n) + O(i) + O(1). Hence the complexity is O(n)\n",
    "\n",
    "\n",
    "2. For recursive approach:\n",
    "The complexity is O(i) as the recursive function runs i times and there is some constant work which is O(1), hence the complexity is O(i)"
   ]
  },
  {
   "cell_type": "code",
   "execution_count": null,
   "metadata": {},
   "outputs": [],
   "source": []
  }
 ],
 "metadata": {
  "kernelspec": {
   "display_name": "Python 3",
   "language": "python",
   "name": "python3"
  },
  "language_info": {
   "codemirror_mode": {
    "name": "ipython",
    "version": 3
   },
   "file_extension": ".py",
   "mimetype": "text/x-python",
   "name": "python",
   "nbconvert_exporter": "python",
   "pygments_lexer": "ipython3",
   "version": "3.8.5"
  }
 },
 "nbformat": 4,
 "nbformat_minor": 4
}
