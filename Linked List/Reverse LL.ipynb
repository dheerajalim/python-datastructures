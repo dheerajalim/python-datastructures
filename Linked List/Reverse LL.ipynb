{
 "cells": [
  {
   "cell_type": "markdown",
   "metadata": {},
   "source": [
    "### Reversing a Linked List Recursively"
   ]
  },
  {
   "cell_type": "code",
   "execution_count": 1,
   "metadata": {},
   "outputs": [],
   "source": [
    "class Node(object):\n",
    "    \n",
    "    def __init__(self,data):\n",
    "        self.data = data\n",
    "        self.next = None"
   ]
  },
  {
   "cell_type": "code",
   "execution_count": 22,
   "metadata": {},
   "outputs": [],
   "source": [
    "class LinkedList(object):\n",
    "    \n",
    "    def __init__(self):\n",
    "        self.head = None\n",
    "        \n",
    "    def createLL(self,arr):\n",
    "        \n",
    "        for item in arr:\n",
    "            new_node = Node(item)\n",
    "            if self.head == None:\n",
    "                self.head = new_node\n",
    "                \n",
    "            else:\n",
    "                current_node = self.head\n",
    "                while current_node.next is not None:\n",
    "                    current_node = current_node.next\n",
    "                    \n",
    "                current_node.next = new_node\n",
    "                \n",
    "    def reverse(self,head):\n",
    "        \n",
    "        if head is None or head.next is None:\n",
    "            return head\n",
    "        \n",
    "        smallHead = self.reverse(head.next)\n",
    "        \n",
    "        tail = head.next\n",
    "        tail.next = head\n",
    "        head.next = None\n",
    "        \n",
    "        return smallHead\n",
    "\n",
    "    def printLL(self):\n",
    "        \n",
    "        temp = self.head\n",
    "        while temp is not None:\n",
    "            print(temp.data,end=\"->\")\n",
    "            temp = temp.next\n",
    "        print(None,end=\"\")"
   ]
  },
  {
   "cell_type": "code",
   "execution_count": 25,
   "metadata": {},
   "outputs": [
    {
     "name": "stdout",
     "output_type": "stream",
     "text": [
      "1->2->3->4->5->6->None\n",
      "6->5->4->3->2->1->None"
     ]
    }
   ],
   "source": [
    "a = [1,2,3,4,5,6]\n",
    "linkedlist = LinkedList()\n",
    "linkedlist.createLL(a)\n",
    "linkedlist.printLL()\n",
    "reverse_head = linkedlist.reverse(linkedlist.head)\n",
    "print()\n",
    "linkedlist.head = reverse_head\n",
    "linkedlist.printLL()"
   ]
  },
  {
   "cell_type": "markdown",
   "metadata": {},
   "source": [
    "#### Explanation:\n",
    "\n",
    "The reverse function here is made to have a recursive call. Every time we make a recursive call to reverse function we pass the head.next, in this way we reach the last element of the linked list whihc is handeled by the base case where we check if the value is None then we return. The returned value is stored in smallHead. \n",
    "\n",
    "Let's take the example of 1,2,3,4,5. \n",
    "\n",
    "When the recursive function will run we will get 5 in small head and head value will be 4. Since 4.next is 5 which means this can be taken as tail , so with every recursive call we can update head as head.next.\n",
    "\n",
    "The smallHead will alwas have 5 whihc will be working as the head of the reverse linked list whihc when we return and print out linked list will be reversed\n",
    "We know that the head which we have \n"
   ]
  },
  {
   "cell_type": "markdown",
   "metadata": {},
   "source": [
    "### Time Complexity\n",
    "\n",
    "The recursive function will run N time where N is the length of the linked list. The next operations where we assign the tail and update the next to None takes constant K time.\n",
    "\n",
    "Hence this approach is <b>O(n)</b>"
   ]
  },
  {
   "cell_type": "markdown",
   "metadata": {},
   "source": [
    "### Reversing a Linked List Iteratively"
   ]
  },
  {
   "cell_type": "code",
   "execution_count": 41,
   "metadata": {},
   "outputs": [],
   "source": [
    "class LinkedList(object):\n",
    "    \n",
    "    def __init__(self):\n",
    "        self.head = None\n",
    "        \n",
    "    def createLL(self,arr):\n",
    "        \n",
    "        for item in arr:\n",
    "            new_node = Node(item)\n",
    "            if self.head == None:\n",
    "                self.head = new_node\n",
    "                \n",
    "            else:\n",
    "                current_node = self.head\n",
    "                while current_node.next is not None:\n",
    "                    current_node = current_node.next\n",
    "                    \n",
    "                current_node.next = new_node\n",
    "                \n",
    "    def reverse(self):\n",
    "        \n",
    "        if self.head is None:\n",
    "            return self.head\n",
    "        \n",
    "        prev = None\n",
    "        current = self.head\n",
    "        \n",
    "        while current is not None:\n",
    "            next_node = current.next\n",
    "            current.next = prev\n",
    "            prev = current\n",
    "            current = next_node\n",
    "        \n",
    "        return prev\n",
    "\n",
    "\n",
    "    def printLL(self):\n",
    "        \n",
    "        temp = self.head\n",
    "        while temp is not None:\n",
    "            print(temp.data,end=\"->\")\n",
    "            temp = temp.next\n",
    "        print(None,end=\"\")"
   ]
  },
  {
   "cell_type": "code",
   "execution_count": 45,
   "metadata": {},
   "outputs": [
    {
     "name": "stdout",
     "output_type": "stream",
     "text": [
      "1->2->3->4->5->6->None\n",
      "6->5->4->3->2->1->None"
     ]
    }
   ],
   "source": [
    "a = [1,2,3,4,5,6]\n",
    "linkedlist = LinkedList()\n",
    "linkedlist.createLL(a)\n",
    "linkedlist.printLL()\n",
    "head = linkedlist.reverse()\n",
    "print()\n",
    "linkedlist.head = head\n",
    "linkedlist.printLL()"
   ]
  },
  {
   "cell_type": "code",
   "execution_count": null,
   "metadata": {},
   "outputs": [],
   "source": []
  }
 ],
 "metadata": {
  "kernelspec": {
   "display_name": "Python 3",
   "language": "python",
   "name": "python3"
  },
  "language_info": {
   "codemirror_mode": {
    "name": "ipython",
    "version": 3
   },
   "file_extension": ".py",
   "mimetype": "text/x-python",
   "name": "python",
   "nbconvert_exporter": "python",
   "pygments_lexer": "ipython3",
   "version": "3.8.5"
  }
 },
 "nbformat": 4,
 "nbformat_minor": 4
}
