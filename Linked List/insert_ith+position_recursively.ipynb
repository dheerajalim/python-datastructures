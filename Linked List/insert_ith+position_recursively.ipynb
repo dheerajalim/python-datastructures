{
 "cells": [
  {
   "cell_type": "code",
   "execution_count": null,
   "metadata": {},
   "outputs": [],
   "source": []
  },
  {
   "cell_type": "code",
   "execution_count": 30,
   "metadata": {},
   "outputs": [
    {
     "name": "stdin",
     "output_type": "stream",
     "text": [
      " 1 2 3 4 5\n"
     ]
    },
    {
     "name": "stdout",
     "output_type": "stream",
     "text": [
      "1->2->3->4->5->6->None\n",
      "9->1->2->3->4->5->6->None\n",
      "f\n",
      "9\n",
      "9->1->2->3->4->5->6->None\n"
     ]
    }
   ],
   "source": [
    "class Node():\n",
    "    \n",
    "    def __init__(self,data):\n",
    "        self.data = data\n",
    "        self.next = None\n",
    "\n",
    "\n",
    "class LinkedList():\n",
    "    \n",
    "    def __init__(self):\n",
    "        self.head = None\n",
    "        self.length = 0\n",
    "        \n",
    "    def createLL(self,arr):\n",
    "        \n",
    "        for data in arr:\n",
    "\n",
    "            new_node = Node(data)\n",
    "            if self.head == None:\n",
    "                self.head = new_node\n",
    "                current_node = new_node\n",
    "            \n",
    "            else:\n",
    "                current_node.next = new_node\n",
    "                current_node = new_node\n",
    "                \n",
    "    def insert_ipos(self, head, i, data):\n",
    "        \n",
    "        if i < 0:\n",
    "            return head\n",
    "        \n",
    "        if i == 0:\n",
    "            newnode = Node(data)\n",
    "            newnode.next = head\n",
    "            return newnode\n",
    "        \n",
    "        if head is None:\n",
    "            return None\n",
    "        \n",
    "        small_head = self.insert_ipos(head.next, i-1,data)\n",
    "        head.next = small_head\n",
    "        return head\n",
    "        \n",
    "    def lengthLL(self):\n",
    "        temp = self.head\n",
    "        \n",
    "        while temp is not None:\n",
    "            self.length = self.length +1\n",
    "            temp = temp.next\n",
    "        \n",
    "        return self.length\n",
    "        \n",
    "    def printLL(self):\n",
    "        temp = self.head\n",
    "        while temp is not None:\n",
    "            print(temp.data, end = \"->\")\n",
    "            temp = temp.next\n",
    "        print(\"None\")\n",
    "\n",
    "if __name__ == \"__main__\":\n",
    "    \n",
    "    user_input = list(map(int,input().split()))\n",
    "    \n",
    "    linkedlist = LinkedList()\n",
    "    linkedlist.createLL(user_input)\n",
    "    head = linkedlist.insert_ipos(linkedlist.head, 5,6)\n",
    "    linkedlist.head = head\n",
    "    linkedlist.printLL()\n",
    "    \n",
    "    head = linkedlist.insert_ipos(linkedlist.head,0,9)\n",
    "    linkedlist.head = head\n",
    "    linkedlist.printLL()\n",
    "    head = linkedlist.insert_ipos(linkedlist.head,47,10)\n",
    "    linkedlist.head = head\n",
    "    print(head.data)\n",
    "    linkedlist.printLL()"
   ]
  },
  {
   "cell_type": "code",
   "execution_count": null,
   "metadata": {},
   "outputs": [],
   "source": []
  }
 ],
 "metadata": {
  "kernelspec": {
   "display_name": "Python 3",
   "language": "python",
   "name": "python3"
  },
  "language_info": {
   "codemirror_mode": {
    "name": "ipython",
    "version": 3
   },
   "file_extension": ".py",
   "mimetype": "text/x-python",
   "name": "python",
   "nbconvert_exporter": "python",
   "pygments_lexer": "ipython3",
   "version": "3.8.5"
  }
 },
 "nbformat": 4,
 "nbformat_minor": 4
}
