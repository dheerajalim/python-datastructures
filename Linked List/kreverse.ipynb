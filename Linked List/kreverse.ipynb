{
 "cells": [
  {
   "cell_type": "markdown",
   "metadata": {},
   "source": [
    "#### kReverse\n",
    "\n",
    "Given a singly linked list of integers, reverse the nodes of the linked list 'k' at a time and return its modified list.\n",
    " 'k' is a positive integer and is less than or equal to the length of the linked list. If the number of nodes is not a multiple of 'k,' then left-out nodes, in the end, should be reversed as well."
   ]
  },
  {
   "cell_type": "code",
   "execution_count": 68,
   "metadata": {},
   "outputs": [],
   "source": [
    "class Node(object):\n",
    "    \n",
    "    def __init__(self,data):\n",
    "        self.data = data\n",
    "        self.next = None\n",
    "        \n",
    "        \n",
    "class LinkedList(object):\n",
    "    \n",
    "    def __init__(self):\n",
    "        self.head = None\n",
    "        \n",
    "    def createLL(self,arr):\n",
    "        \n",
    "        for item in arr:\n",
    "            new_node = Node(item)\n",
    "            if self.head == None:\n",
    "                self.head = new_node\n",
    "                \n",
    "            else:\n",
    "                current_node = self.head\n",
    "                while current_node.next is not None:\n",
    "                    current_node = current_node.next\n",
    "                    \n",
    "                current_node.next = new_node\n",
    "                \n",
    "    def reverse(self,head,k):\n",
    "\n",
    "        if head.next is None:\n",
    "            return head,head.next,head\n",
    "        \n",
    "        if k == 1:\n",
    "            return head, head.next,None\n",
    " \n",
    "        smallHead,nextHead,tail = self.reverse(head.next,k-1)\n",
    "        \n",
    "        tail = head.next\n",
    "        tail.next = head\n",
    "        head.next = None\n",
    "        return smallHead,nextHead,head\n",
    "    \n",
    "    \n",
    "    def kReverse(self,head,k):\n",
    "        \n",
    "        if head is None:\n",
    "            return None\n",
    "        \n",
    "        if k == 1 or k == 0:\n",
    "            return self.head\n",
    "        \n",
    "        head1,head2,tail1 = self.reverse(head,k)\n",
    "        tail1.next = self.kReverse(head2,k)\n",
    "        \n",
    "        return head1\n",
    "        \n",
    "    def printLL(self):\n",
    "        \n",
    "        temp = self.head\n",
    "        while temp is not None:\n",
    "            print(temp.data,end=\"->\")\n",
    "            temp = temp.next\n",
    "        print(None,end=\"\")"
   ]
  },
  {
   "cell_type": "code",
   "execution_count": 72,
   "metadata": {},
   "outputs": [
    {
     "name": "stdout",
     "output_type": "stream",
     "text": [
      "4->5->7->8->3->36->None\n",
      "36->3->8->7->5->4->None"
     ]
    }
   ],
   "source": [
    "a = [4, 5, 7, 8, 3, 36]\n",
    "linkedlist = LinkedList()\n",
    "linkedlist.createLL(a)\n",
    "linkedlist.printLL()\n",
    "reverse_head = linkedlist.kReverse(linkedlist.head,7)\n",
    "print()\n",
    "\n",
    "linkedlist.head = reverse_head\n",
    "linkedlist.printLL()"
   ]
  },
  {
   "cell_type": "code",
   "execution_count": null,
   "metadata": {},
   "outputs": [],
   "source": []
  },
  {
   "cell_type": "code",
   "execution_count": null,
   "metadata": {},
   "outputs": [],
   "source": []
  }
 ],
 "metadata": {
  "kernelspec": {
   "display_name": "Python 3",
   "language": "python",
   "name": "python3"
  },
  "language_info": {
   "codemirror_mode": {
    "name": "ipython",
    "version": 3
   },
   "file_extension": ".py",
   "mimetype": "text/x-python",
   "name": "python",
   "nbconvert_exporter": "python",
   "pygments_lexer": "ipython3",
   "version": "3.8.5"
  }
 },
 "nbformat": 4,
 "nbformat_minor": 4
}
