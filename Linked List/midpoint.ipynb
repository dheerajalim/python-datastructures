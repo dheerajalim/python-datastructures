{
 "cells": [
  {
   "cell_type": "markdown",
   "metadata": {},
   "source": [
    "### Mid Point of Linked List"
   ]
  },
  {
   "cell_type": "code",
   "execution_count": 32,
   "metadata": {},
   "outputs": [],
   "source": [
    "class Node(object):\n",
    "    \n",
    "    def __init__(self,data):\n",
    "        self.data = data\n",
    "        self.next = None\n",
    "        \n",
    "class LinkedList(object):\n",
    "    \n",
    "    def __init__(self):\n",
    "        self.head = None\n",
    "        \n",
    "    def createLL(self,arr):\n",
    "        \n",
    "        for item in arr:\n",
    "            new_node = Node(item)\n",
    "            if self.head == None:\n",
    "                self.head = new_node\n",
    "                \n",
    "            else:\n",
    "                current_node = self.head\n",
    "                while current_node.next is not None:\n",
    "                    current_node = current_node.next\n",
    "                    \n",
    "                current_node.next = new_node\n",
    "                \n",
    "    def midpoint(self):\n",
    "        \n",
    "        if self.head is None or self.head.next is None:\n",
    "            return self.head.data\n",
    "        \n",
    "        slow = self.head\n",
    "        fast = self.head\n",
    "        \n",
    "        while fast.next is not None and fast.next.next is not None:\n",
    "            slow= slow.next\n",
    "            fast = fast.next.next\n",
    "        return slow.data\n",
    "\n",
    "\n",
    "    def printLL(self):\n",
    "        \n",
    "        temp = self.head\n",
    "        while temp is not None:\n",
    "            print(temp.data,end=\"->\")\n",
    "            temp = temp.next\n",
    "        print(None,end=\"\")"
   ]
  },
  {
   "cell_type": "code",
   "execution_count": 33,
   "metadata": {},
   "outputs": [
    {
     "name": "stdout",
     "output_type": "stream",
     "text": [
      "1->2->3->4->5->None\n",
      "3\n"
     ]
    }
   ],
   "source": [
    "a = [1,2,3,4,5]\n",
    "linkedlist = LinkedList()\n",
    "linkedlist.createLL(a)\n",
    "linkedlist.printLL()\n",
    "mid = linkedlist.midpoint()\n",
    "print()\n",
    "print(mid)\n"
   ]
  },
  {
   "cell_type": "code",
   "execution_count": null,
   "metadata": {},
   "outputs": [],
   "source": []
  }
 ],
 "metadata": {
  "kernelspec": {
   "display_name": "Python 3",
   "language": "python",
   "name": "python3"
  },
  "language_info": {
   "codemirror_mode": {
    "name": "ipython",
    "version": 3
   },
   "file_extension": ".py",
   "mimetype": "text/x-python",
   "name": "python",
   "nbconvert_exporter": "python",
   "pygments_lexer": "ipython3",
   "version": "3.8.5"
  }
 },
 "nbformat": 4,
 "nbformat_minor": 4
}
