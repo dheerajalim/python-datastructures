{
 "cells": [
  {
   "cell_type": "markdown",
   "metadata": {},
   "source": [
    "### Delete every N nodes\n",
    "\n",
    "You have been given a singly linked list of integers along with two integers, 'M,' and 'N.' Traverse the linked list such that you retain the 'M' nodes, then delete the next 'N' nodes. Continue the same until the end of the linked list.\n",
    "To put it in other words, in the given linked list, you need to delete N nodes after every M nodes."
   ]
  },
  {
   "cell_type": "code",
   "execution_count": 55,
   "metadata": {},
   "outputs": [],
   "source": [
    "class Node(object):\n",
    "    \n",
    "    def __init__(self,data):\n",
    "        self.data = data\n",
    "        self.next = None\n",
    "        \n",
    "class LinkedList(object):\n",
    "    \n",
    "    def __init__(self):\n",
    "        self.head = None\n",
    "        \n",
    "    def createLL(self,arr):\n",
    "        \n",
    "        for item in arr:\n",
    "            new_node = Node(item)\n",
    "            if self.head == None:\n",
    "                self.head = new_node\n",
    "                \n",
    "            else:\n",
    "                current_node = self.head\n",
    "                while current_node.next is not None:\n",
    "                    current_node = current_node.next\n",
    "                    \n",
    "                current_node.next = new_node\n",
    "    \n",
    "    def skipMdeleteN(self,M, N) :\n",
    "        \n",
    "        if self.head is None:\n",
    "            return None\n",
    "        \n",
    "        if M ==0:\n",
    "            return None\n",
    "        if N ==0:\n",
    "            return self.head\n",
    "        \n",
    "        countM = 0\n",
    "        countN = 0\n",
    "        current = self.head\n",
    "        Mhead, Mtail = None, None\n",
    "        \n",
    "        while current is not None:\n",
    "            \n",
    "            if countM < M:\n",
    "                if Mhead is None:\n",
    "                    Mhead = current\n",
    "                    Mtail = current\n",
    "                else:\n",
    "                    Mtail.next = current\n",
    "                    Mtail = current\n",
    "\n",
    "                countM = countM +1\n",
    "                countN = 0\n",
    "\n",
    "            elif countN < N:\n",
    "                \n",
    "                if countN == N-1:\n",
    "                    countM = 0\n",
    "                countN = countN + 1\n",
    "            \n",
    "            current = current.next\n",
    "        \n",
    "        if Mhead is not None and Mtail is not None:\n",
    "            Mtail.next = None\n",
    "        return Mhead\n",
    "        \n",
    "      \n",
    "    def printLL(self):\n",
    "        \n",
    "        temp = self.head\n",
    "        while temp is not None:\n",
    "            print(temp.data,end=\"->\")\n",
    "            temp = temp.next\n",
    "        print(None,end=\"\")"
   ]
  },
  {
   "cell_type": "code",
   "execution_count": 57,
   "metadata": {},
   "outputs": [
    {
     "name": "stdout",
     "output_type": "stream",
     "text": [
      "1->2->3->4->5->6->7->8->None\n",
      "None"
     ]
    }
   ],
   "source": [
    "a = [1,2,3,4,5,6,7,8]\n",
    "linkedlist = LinkedList()\n",
    "linkedlist.createLL(a)\n",
    "linkedlist.printLL()\n",
    "print()\n",
    "new_head =linkedlist.skipMdeleteN(0,3)\n",
    "linkedlist.head = new_head\n",
    "linkedlist.printLL()"
   ]
  },
  {
   "cell_type": "code",
   "execution_count": null,
   "metadata": {},
   "outputs": [],
   "source": []
  }
 ],
 "metadata": {
  "kernelspec": {
   "display_name": "Python 3",
   "language": "python",
   "name": "python3"
  },
  "language_info": {
   "codemirror_mode": {
    "name": "ipython",
    "version": 3
   },
   "file_extension": ".py",
   "mimetype": "text/x-python",
   "name": "python",
   "nbconvert_exporter": "python",
   "pygments_lexer": "ipython3",
   "version": "3.8.5"
  }
 },
 "nbformat": 4,
 "nbformat_minor": 4
}
