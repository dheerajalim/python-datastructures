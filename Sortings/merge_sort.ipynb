{
 "cells": [
  {
   "cell_type": "markdown",
   "metadata": {},
   "source": [
    "#### MERGE SORT"
   ]
  },
  {
   "cell_type": "markdown",
   "metadata": {},
   "source": [
    "#### Merhod 1 : Using the array slicing"
   ]
  },
  {
   "cell_type": "code",
   "execution_count": 10,
   "metadata": {},
   "outputs": [],
   "source": [
    "def merge(a,b,arr):\n",
    "    \n",
    "    i,j,k = 0,0,0\n",
    "    \n",
    "    while i < len(a) and j < len(b):\n",
    "        \n",
    "        if a[i] < b[j]:\n",
    "            arr[k] = a[i]\n",
    "            i = i+1\n",
    "            k = k+1\n",
    "        else:\n",
    "            arr[k] = b[j]\n",
    "            j = j+1\n",
    "            k = k+1\n",
    "    \n",
    "    while i < len(a):\n",
    "        arr[k] = a[i]\n",
    "        i = i+1\n",
    "        k = k+1\n",
    "    \n",
    "    while j < len(b):\n",
    "        arr[k] = b[j]\n",
    "        j = j+1\n",
    "        k = k+1\n",
    "        \n",
    "        "
   ]
  },
  {
   "cell_type": "code",
   "execution_count": 11,
   "metadata": {},
   "outputs": [],
   "source": [
    "def mergesort(arr):\n",
    "    \n",
    "    if len(arr) <=1:\n",
    "        return\n",
    "    \n",
    "    middle = len(arr)//2\n",
    "\n",
    "    a = arr[:middle]\n",
    "    b = arr[middle:]\n",
    "    \n",
    "    mergesort(a)\n",
    "    mergesort(b)\n",
    "    \n",
    "    merge(a,b,arr)\n",
    "    \n",
    "    return arr"
   ]
  },
  {
   "cell_type": "code",
   "execution_count": 12,
   "metadata": {},
   "outputs": [
    {
     "name": "stdout",
     "output_type": "stream",
     "text": [
      "[1, 2, 3, 4, 5, 6, 7]\n"
     ]
    }
   ],
   "source": [
    "a = [7,6,5,4,3,2,1]\n",
    "print(mergesort(a))"
   ]
  },
  {
   "cell_type": "code",
   "execution_count": null,
   "metadata": {},
   "outputs": [],
   "source": []
  }
 ],
 "metadata": {
  "kernelspec": {
   "display_name": "Python 3",
   "language": "python",
   "name": "python3"
  },
  "language_info": {
   "codemirror_mode": {
    "name": "ipython",
    "version": 3
   },
   "file_extension": ".py",
   "mimetype": "text/x-python",
   "name": "python",
   "nbconvert_exporter": "python",
   "pygments_lexer": "ipython3",
   "version": "3.8.5"
  }
 },
 "nbformat": 4,
 "nbformat_minor": 4
}
