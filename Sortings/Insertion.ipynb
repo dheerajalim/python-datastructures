{
 "cells": [
  {
   "cell_type": "markdown",
   "metadata": {},
   "source": [
    "### Insertion Sort\n",
    "\n",
    "Insertion sort is a simple sorting algorithm that works similar to the way you sort playing cards in your hands. The array is virtually split into a sorted and an unsorted part. Values from the unsorted part are picked and placed at the correct position in the sorted part.\n",
    "\n",
    "Algorithm\n",
    "\n",
    "To sort an array of size n in ascending order:\n",
    "\n",
    "1: Iterate from arr[1] to arr[n] over the array.\n",
    "\n",
    "2: Compare the current element (key) to its predecessor.\n",
    "\n",
    "3: If the key element is smaller than its predecessor, compare it to the elements before. Move the greater elements one position up to make space for the swapped element."
   ]
  },
  {
   "cell_type": "code",
   "execution_count": 10,
   "metadata": {},
   "outputs": [],
   "source": [
    "def insertionsort(arr):\n",
    "    \n",
    "    n = len(arr)\n",
    "\n",
    "    for i in range(1,n):\n",
    "        \n",
    "        for j in range(i-1,-1,-1):\n",
    "            if arr[j] > arr[j+1]:\n",
    "                arr[j],arr[j+1] = arr[j+1],arr[j]\n",
    "            else:\n",
    "                break\n",
    "            "
   ]
  },
  {
   "cell_type": "code",
   "execution_count": 11,
   "metadata": {},
   "outputs": [
    {
     "data": {
      "text/plain": [
       "[1, 2, 4, 5, 8, 10]"
      ]
     },
     "execution_count": 11,
     "metadata": {},
     "output_type": "execute_result"
    }
   ],
   "source": [
    "arr = [10,8,2,5,4,1]\n",
    "insertionsort(arr)\n",
    "arr"
   ]
  },
  {
   "cell_type": "markdown",
   "metadata": {},
   "source": [
    "### Recursive Approach"
   ]
  },
  {
   "cell_type": "code",
   "execution_count": 1,
   "metadata": {},
   "outputs": [],
   "source": [
    "def recursion_insertion_sort(arr, i):\n",
    "\n",
    "    if i == 0:\n",
    "        return\n",
    "\n",
    "    if arr[i-1] > arr[i]:\n",
    "        arr[i-1], arr[i] = arr[i], arr[i-1]\n",
    "\n",
    "    recursion_insertion_sort(arr, i-1)\n",
    "\n",
    "\n",
    "def insertion_sort_recursive(arr, i):\n",
    "\n",
    "    if i == len(arr):\n",
    "        return\n",
    "\n",
    "    recursion_insertion_sort(arr, i)\n",
    "\n",
    "    insertion_sort_recursive(arr, i+1)"
   ]
  },
  {
   "cell_type": "code",
   "execution_count": 2,
   "metadata": {},
   "outputs": [
    {
     "data": {
      "text/plain": [
       "[9, 13, 20, 24, 46, 52]"
      ]
     },
     "execution_count": 2,
     "metadata": {},
     "output_type": "execute_result"
    }
   ],
   "source": [
    "arr = [13, 46, 24, 52, 20, 9]\n",
    "insertion_sort_recursive(arr,0)\n",
    "arr"
   ]
  },
  {
   "cell_type": "code",
   "execution_count": null,
   "metadata": {},
   "outputs": [],
   "source": []
  }
 ],
 "metadata": {
  "kernelspec": {
   "display_name": "Python 3 (ipykernel)",
   "language": "python",
   "name": "python3"
  },
  "language_info": {
   "codemirror_mode": {
    "name": "ipython",
    "version": 3
   },
   "file_extension": ".py",
   "mimetype": "text/x-python",
   "name": "python",
   "nbconvert_exporter": "python",
   "pygments_lexer": "ipython3",
   "version": "3.9.6"
  }
 },
 "nbformat": 4,
 "nbformat_minor": 4
}
