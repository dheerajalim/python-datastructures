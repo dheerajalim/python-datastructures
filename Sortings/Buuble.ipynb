{
 "cells": [
  {
   "cell_type": "markdown",
   "metadata": {},
   "source": [
    "### Bubble Sort\n",
    "\n",
    "Time complexity (worst case) : O(n^2)\n",
    "Time complexity (Best case:already sorted) : O(n)\n",
    "\n",
    "In best case that is if the array is already sorted we have to loop through the array once to see if there is no swap"
   ]
  },
  {
   "cell_type": "code",
   "execution_count": 2,
   "metadata": {},
   "outputs": [],
   "source": [
    "def bubble_sort(arr):\n",
    "    \n",
    "    # loop thorugh the array\n",
    "    \n",
    "    for i in range(len(arr)):\n",
    "        \n",
    "        swapped = False # using this to break the loop if array is already sorted\n",
    "        \n",
    "        # we will compare each element with next element, and the last element will become largest on \n",
    "        # continuous swapping, hence this loop will run len(arr)-1-i times\n",
    "        \n",
    "        for j in range(len(arr)-1-i):\n",
    "            \n",
    "            if arr[j] > arr[j+1]:\n",
    "                arr[j],arr[j+1] = arr[j+1], arr[j] # swapping\n",
    "                swapped = True\n",
    "        \n",
    "        if not swapped:\n",
    "            break"
   ]
  },
  {
   "cell_type": "code",
   "execution_count": 4,
   "metadata": {},
   "outputs": [
    {
     "name": "stdout",
     "output_type": "stream",
     "text": [
      "[1, 2, 3, 3, 4, 5, 6, 7]\n"
     ]
    }
   ],
   "source": [
    "a = [7,6,5,4,3,3,2,1]\n",
    "bubble_sort(a)\n",
    "print(a)"
   ]
  },
  {
   "cell_type": "code",
   "execution_count": null,
   "metadata": {},
   "outputs": [],
   "source": []
  },
  {
   "cell_type": "markdown",
   "metadata": {},
   "source": [
    "### Recursive Approach"
   ]
  },
  {
   "cell_type": "code",
   "execution_count": 12,
   "metadata": {},
   "outputs": [
    {
     "name": "stdout",
     "output_type": "stream",
     "text": [
      "[1, 2, 3, 3, 4, 5, 6, 7]\n"
     ]
    }
   ],
   "source": [
    "def bubblesort(arr,i,n):\n",
    "\n",
    "    if i == n:\n",
    "        return arr\n",
    "    if arr[i] > arr[i+1]:\n",
    "        arr[i],arr[i+1] = arr[i+1],arr[i]\n",
    "        \n",
    "    bubblesort(arr,i+1,n)\n",
    "    \n",
    "def bubble(arr,n):\n",
    "    \n",
    "    if n == 0:\n",
    "        return\n",
    "    \n",
    "    bubblesort(arr,0,n-1)\n",
    "\n",
    "    bubble(arr,n-1)\n",
    "    \n",
    "a = [7,6,5,4,3,3,2,1]\n",
    "bubble(a,len(a))\n",
    "print(a)"
   ]
  },
  {
   "cell_type": "code",
   "execution_count": null,
   "metadata": {},
   "outputs": [],
   "source": []
  },
  {
   "cell_type": "code",
   "execution_count": null,
   "metadata": {},
   "outputs": [],
   "source": []
  }
 ],
 "metadata": {
  "kernelspec": {
   "display_name": "Python 3",
   "language": "python",
   "name": "python3"
  },
  "language_info": {
   "codemirror_mode": {
    "name": "ipython",
    "version": 3
   },
   "file_extension": ".py",
   "mimetype": "text/x-python",
   "name": "python",
   "nbconvert_exporter": "python",
   "pygments_lexer": "ipython3",
   "version": "3.8.5"
  }
 },
 "nbformat": 4,
 "nbformat_minor": 4
}
