{
 "cells": [
  {
   "cell_type": "markdown",
   "metadata": {},
   "source": [
    "### Quick Sort\n",
    "\n",
    "Like Merge Sort, QuickSort is a Divide and Conquer algorithm. It picks an element as pivot and partitions the given array around the picked pivot. There are many different versions of quickSort that pick pivot in different ways.\n",
    "\n",
    "Always pick first element as pivot.\n",
    "Always pick last element as pivot (implemented below)\n",
    "Pick a random element as pivot.\n",
    "Pick median as pivot.\n",
    "The key process in quickSort is partition(). Target of partitions is, given an array and an element x of array as pivot, put x at its correct position in sorted array and put all smaller elements (smaller than x) before x, and put all greater elements (greater than x) after x. All this should be done in linear time.\n",
    "\n",
    "\n",
    "\n",
    "  \t  BEST\t AVERAGE\t WORST\t \n",
    "\n",
    "  O(n log(n))\t  O(n log(n))\tO(n^2)\t \n"
   ]
  },
  {
   "cell_type": "code",
   "execution_count": 22,
   "metadata": {},
   "outputs": [],
   "source": [
    "# THIS VERSION IS INCORRECT AS ATER RUNNING IT ON LEETCODE, it did not work.\n",
    "def partition(arr,si,ei):\n",
    "    \n",
    "    pivot = arr[si]\n",
    "    c = 0\n",
    "    \n",
    "    for i in range(si,ei+1):\n",
    "        if arr[i] < pivot:\n",
    "            c = c+1\n",
    "    \n",
    "    arr[si+c], arr[si] = arr[si], arr[si+c]\n",
    "    pivot_index = si+c\n",
    "    i = si\n",
    "    j = ei\n",
    "    \n",
    "    while i < j:\n",
    "        if arr[i] < pivot:\n",
    "            i = i+1\n",
    "        \n",
    "        elif arr[j] > pivot:\n",
    "            j = j-1\n",
    "        else:\n",
    "            arr[i],arr[j] = arr[j],arr[i]\n",
    "            i = i+1\n",
    "            j = j-1\n",
    "            \n",
    "    \n",
    "    return pivot_index\n",
    "\n",
    "def quicksort(arr,si,ei):\n",
    "    \n",
    "    \n",
    "    if si >= ei:\n",
    "        return arr\n",
    "    \n",
    "    pivot = partition(arr,si,ei)\n",
    "    \n",
    "    quicksort(arr,si,pivot-1)\n",
    "    quicksort(arr,pivot+1,ei)\n",
    "    "
   ]
  },
  {
   "cell_type": "code",
   "execution_count": 23,
   "metadata": {},
   "outputs": [],
   "source": [
    "# THE CORRECT QUICKSORT SOLUTION\n",
    "\n",
    "def partition(arr, si, ei):\n",
    "    \n",
    "    # here we take the last element as pivot\n",
    "    pivot = arr[ei]\n",
    "    \n",
    "    i = si - 1 # the index value which will work as pointer to swap\n",
    "    \n",
    "    \n",
    "    for j in range(si, ei):\n",
    "        \n",
    "        if arr[j] <= pivot:\n",
    "            i += 1\n",
    "            # then we need to swap it with the pointer created \n",
    "            arr[i], arr[j]= arr[j], arr[i]\n",
    "            \n",
    "            \n",
    "        \n",
    "        # once all the swapping is done, we need to move the pivot to coirrect position\n",
    "        \n",
    "    arr[i+1], arr[ei] = arr[ei], arr[i+1]\n",
    "        \n",
    "    return i+1\n",
    "\n",
    "def quicksort(arr,si,ei):\n",
    "    \n",
    "    \n",
    "    if si >= ei:\n",
    "        return arr\n",
    "    \n",
    "    pivot = partition(arr,si,ei)\n",
    "    \n",
    "    quicksort(arr,si,pivot-1)\n",
    "    quicksort(arr,pivot+1,ei)"
   ]
  },
  {
   "cell_type": "code",
   "execution_count": 24,
   "metadata": {},
   "outputs": [
    {
     "data": {
      "text/plain": [
       "[1, 2, 4, 5, 8, 10]"
      ]
     },
     "execution_count": 24,
     "metadata": {},
     "output_type": "execute_result"
    }
   ],
   "source": [
    "arr = [10,8,2,5,4,1]\n",
    "quicksort(arr,0,len(arr)-1)\n",
    "arr"
   ]
  },
  {
   "cell_type": "code",
   "execution_count": 25,
   "metadata": {},
   "outputs": [
    {
     "data": {
      "text/plain": [
       "[1, 2, 3, 5, 7]"
      ]
     },
     "execution_count": 25,
     "metadata": {},
     "output_type": "execute_result"
    }
   ],
   "source": [
    "a = [1, 3 , 2 , 5 , 7]\n",
    "quicksort(a, 0, len(a)-1)\n",
    "a"
   ]
  },
  {
   "cell_type": "code",
   "execution_count": 26,
   "metadata": {},
   "outputs": [
    {
     "data": {
      "text/plain": [
       "[1, 1, 5, 5, 7, 8, 10, 100]"
      ]
     },
     "execution_count": 26,
     "metadata": {},
     "output_type": "execute_result"
    }
   ],
   "source": [
    "a = [100,1,5,7,5,8,10,1]\n",
    "quicksort(a, 0, len(a)-1)\n",
    "a"
   ]
  },
  {
   "cell_type": "code",
   "execution_count": null,
   "metadata": {},
   "outputs": [],
   "source": []
  }
 ],
 "metadata": {
  "kernelspec": {
   "display_name": "Python 3 (ipykernel)",
   "language": "python",
   "name": "python3"
  },
  "language_info": {
   "codemirror_mode": {
    "name": "ipython",
    "version": 3
   },
   "file_extension": ".py",
   "mimetype": "text/x-python",
   "name": "python",
   "nbconvert_exporter": "python",
   "pygments_lexer": "ipython3",
   "version": "3.9.6"
  }
 },
 "nbformat": 4,
 "nbformat_minor": 4
}
