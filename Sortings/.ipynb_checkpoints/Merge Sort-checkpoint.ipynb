{
 "cells": [
  {
   "cell_type": "markdown",
   "metadata": {},
   "source": [
    "### Merge Sort\n",
    "\n",
    "Like QuickSort, Merge Sort is a Divide and Conquer algorithm. It divides the input array into two halves, calls itself for the two halves, and then merges the two sorted halves. The merge() function is used for merging two halves. The merge(arr, l, m, r) is a key process that assumes that arr[l..m] and arr[m+1..r] are sorted and merges the two sorted sub-arrays into one. See the following C implementation for details.\n",
    "\n",
    "\n",
    "Merge Sort\t\n",
    "\n",
    "Best : O(n log(n))\n",
    "\n",
    "Average: O(n log(n))\n",
    "\n",
    "Worst : O(n log(n))"
   ]
  },
  {
   "cell_type": "code",
   "execution_count": 9,
   "metadata": {},
   "outputs": [],
   "source": [
    "def merge(a,b,arr):\n",
    "    \n",
    "    i = 0\n",
    "    j = 0\n",
    "    k = 0\n",
    "    \n",
    "    while i < len(a) and j < len(b):\n",
    "        \n",
    "        if a[i] < b[j]:\n",
    "            arr[k] = a[i]\n",
    "            k = k+1\n",
    "            i = i+1\n",
    "        else:\n",
    "            arr[k] = b[j]\n",
    "            k = k+1\n",
    "            j = j+1\n",
    "    \n",
    "    while i < len(a):\n",
    "        arr[k] = a[i]\n",
    "        k = k+1\n",
    "        i = i+1\n",
    "    \n",
    "    while j < len(b):\n",
    "        arr[k] = b[j]\n",
    "        k = k+1\n",
    "        j = j+1\n",
    "    \n",
    "\n",
    "\n",
    "def mergesort(arr):\n",
    "    \n",
    "    if len(arr)<=1:\n",
    "        return\n",
    "    \n",
    "    middle = len(arr)//2\n",
    "    \n",
    "    a = arr[:middle]\n",
    "    b = arr[middle:]\n",
    "    mergesort(a)\n",
    "    mergesort(b)\n",
    "    \n",
    "    merge(a,b,arr)"
   ]
  },
  {
   "cell_type": "code",
   "execution_count": 10,
   "metadata": {},
   "outputs": [
    {
     "data": {
      "text/plain": [
       "[1, 2, 4, 5, 8, 10]"
      ]
     },
     "execution_count": 10,
     "metadata": {},
     "output_type": "execute_result"
    }
   ],
   "source": [
    "arr = [10,8,2,5,4,1]\n",
    "mergesort(arr)\n",
    "arr"
   ]
  },
  {
   "cell_type": "code",
   "execution_count": null,
   "metadata": {},
   "outputs": [],
   "source": []
  },
  {
   "cell_type": "markdown",
   "metadata": {},
   "source": [
    "### Based on Start and End index"
   ]
  },
  {
   "cell_type": "code",
   "execution_count": 95,
   "metadata": {},
   "outputs": [],
   "source": [
    "def merge(start,middle,end,size, arr):\n",
    "    \n",
    "    result = [0] * size\n",
    "    i = start\n",
    "    j = middle\n",
    "    k = 0\n",
    "    \n",
    "    while i < middle and j < end:\n",
    "        if arr[i] < arr[j]:\n",
    "            result[k] = arr[i]\n",
    "            k = k+1\n",
    "            i = i+1\n",
    "        else:\n",
    "            result[k] = arr[j]\n",
    "            k = k+1\n",
    "            j = j+1\n",
    "            \n",
    "    while i < middle:\n",
    "        result[k] = arr[i]\n",
    "        k = k+1\n",
    "        i = i+1\n",
    "        \n",
    "    while j < end:\n",
    "        result[k] = arr[j]\n",
    "        k = k+1\n",
    "        j = j+1\n",
    "    \n",
    "    for i in range(0,size):\n",
    "        arr[start+i] = result[i]\n",
    "    \n",
    "\n",
    "\n",
    "\n",
    "\n",
    "def mergesort(arr,start,end):\n",
    "    \n",
    "    size = end-start\n",
    "    if size <= 1:\n",
    "        return\n",
    "    middle = (start+end)//2\n",
    "    \n",
    "    mergesort(arr,start,middle)\n",
    "    mergesort(arr,middle,end)\n",
    "    \n",
    "    merge(start,middle,end,size,arr)"
   ]
  },
  {
   "cell_type": "code",
   "execution_count": 96,
   "metadata": {},
   "outputs": [
    {
     "data": {
      "text/plain": [
       "[1, 2, 4, 5, 8, 10]"
      ]
     },
     "execution_count": 96,
     "metadata": {},
     "output_type": "execute_result"
    }
   ],
   "source": [
    "arr = [10,8,2,5,4,1]\n",
    "mergesort(arr,0,len(arr))\n",
    "arr"
   ]
  }
 ],
 "metadata": {
  "kernelspec": {
   "display_name": "Python 3",
   "language": "python",
   "name": "python3"
  },
  "language_info": {
   "codemirror_mode": {
    "name": "ipython",
    "version": 3
   },
   "file_extension": ".py",
   "mimetype": "text/x-python",
   "name": "python",
   "nbconvert_exporter": "python",
   "pygments_lexer": "ipython3",
   "version": "3.8.5"
  }
 },
 "nbformat": 4,
 "nbformat_minor": 4
}
