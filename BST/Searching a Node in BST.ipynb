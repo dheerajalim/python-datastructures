{
 "cells": [
  {
   "cell_type": "markdown",
   "metadata": {},
   "source": [
    "### Searching a Node in BST"
   ]
  },
  {
   "cell_type": "markdown",
   "metadata": {},
   "source": [
    "A binary search tree is a tree in which everything on the left of the root is smaller than root and everything on the right of the root is grater than or equal to the root.\n",
    "\n",
    "By this we mean that everythinh on the left including every subtree should have the node value less than root, same applies to thr right side\n",
    "\n",
    "\n",
    "The below code assumes that the tree is Binary Search Tree"
   ]
  },
  {
   "cell_type": "markdown",
   "metadata": {},
   "source": [
    "### Time Complexity: O(H)\n",
    "\n",
    "Here H is the height of the tree. The reason for complexity as O(H) is that we will always compare with one node and in worst case to find we will go to the last (leaf) node. Hence we will always go till H(heigh) of tree"
   ]
  },
  {
   "cell_type": "code",
   "execution_count": 1,
   "metadata": {},
   "outputs": [],
   "source": [
    "class BinaryTree(object):\n",
    "    \n",
    "    def __init__(self,data):\n",
    "        self.data = data\n",
    "        self.left = None\n",
    "        self.right = None\n",
    "\n",
    "def inserttree():\n",
    "    \n",
    "    rootdata = int(input())\n",
    "    \n",
    "    if rootdata == -1:\n",
    "        return\n",
    "    \n",
    "    root = BinaryTree(rootdata)\n",
    "    \n",
    "    root.left = inserttree()\n",
    "    root.right = inserttree()\n",
    "    \n",
    "    return root\n",
    "\n",
    "def printtree(root):\n",
    "    \n",
    "    if root is None:\n",
    "        return None\n",
    "    \n",
    "    print(root.data , end=\": \")\n",
    "    if root.left is not None:\n",
    "        print(\"L \", root.left.data, end = \",\")\n",
    "    \n",
    "    if root.right is not None:\n",
    "        print(\"R \", root.right.data, end=\"\")\n",
    "    \n",
    "    print()\n",
    "    \n",
    "    printtree(root.left)\n",
    "    printtree(root.right)"
   ]
  },
  {
   "cell_type": "code",
   "execution_count": 3,
   "metadata": {},
   "outputs": [],
   "source": [
    "def searchInBST(root,k):\n",
    "    \n",
    "    if root is None:\n",
    "        return False\n",
    "    \n",
    "    if root.data == k:\n",
    "        return True\n",
    "    \n",
    "    if root.data > k:\n",
    "        if searchInBST(root.left,k):\n",
    "            return True\n",
    "    \n",
    "    if root.data <= k:\n",
    "        if searchInBST(root.right,k):\n",
    "            return True\n",
    "        \n",
    "    return False"
   ]
  },
  {
   "cell_type": "code",
   "execution_count": 6,
   "metadata": {},
   "outputs": [
    {
     "name": "stdin",
     "output_type": "stream",
     "text": [
      " 8\n",
      " 5\n",
      " 2\n",
      " -1\n",
      " -1\n",
      " 6\n",
      " -1\n",
      " 7\n",
      " -1\n",
      " -1\n",
      " 10\n",
      " -1\n",
      " -1\n"
     ]
    },
    {
     "name": "stdout",
     "output_type": "stream",
     "text": [
      "8: L  5,R  10\n",
      "5: L  2,R  6\n",
      "2: \n",
      "6: R  7\n",
      "7: \n",
      "10: \n"
     ]
    }
   ],
   "source": [
    "root = inserttree()\n",
    "printtree(root)"
   ]
  },
  {
   "cell_type": "code",
   "execution_count": 7,
   "metadata": {},
   "outputs": [
    {
     "data": {
      "text/plain": [
       "False"
      ]
     },
     "execution_count": 7,
     "metadata": {},
     "output_type": "execute_result"
    }
   ],
   "source": [
    "searchInBST(root,12)"
   ]
  },
  {
   "cell_type": "code",
   "execution_count": 16,
   "metadata": {},
   "outputs": [
    {
     "data": {
      "text/plain": [
       "False"
      ]
     },
     "execution_count": 16,
     "metadata": {},
     "output_type": "execute_result"
    }
   ],
   "source": [
    "searchInBST(root,700)"
   ]
  },
  {
   "cell_type": "code",
   "execution_count": null,
   "metadata": {},
   "outputs": [],
   "source": []
  }
 ],
 "metadata": {
  "kernelspec": {
   "display_name": "Python 3",
   "language": "python",
   "name": "python3"
  },
  "language_info": {
   "codemirror_mode": {
    "name": "ipython",
    "version": 3
   },
   "file_extension": ".py",
   "mimetype": "text/x-python",
   "name": "python",
   "nbconvert_exporter": "python",
   "pygments_lexer": "ipython3",
   "version": "3.8.5"
  }
 },
 "nbformat": 4,
 "nbformat_minor": 4
}
