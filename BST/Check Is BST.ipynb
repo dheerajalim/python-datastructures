{
 "cells": [
  {
   "cell_type": "markdown",
   "metadata": {},
   "source": [
    "### Check Is BST\n",
    "\n",
    "In order for a Binary tree to be BST, every node on the left should be less than root and every node on the right should be greater than or equal to root.\n",
    "\n",
    "The other important thing to keep in mind is that we cannot approach the solution by just comparing the root with left and right node but we also have to see that if the maximum on the left(of all nodes) should be less than root and minimum on right(of all nodes) should be greater than equal to root."
   ]
  },
  {
   "cell_type": "markdown",
   "metadata": {},
   "source": [
    "### Time Complexity: O(nlogn) or O(n^2)\n",
    "In case of balanced tree, it will be O(nlogn) but in case of unbalanced tree it will be O(n^2)\n",
    "\n",
    "The reason being for a non balanced tree we will traverse n nodes for finding the min or max (depending on the left and right side) and then n times to for each node to check if BST.\n",
    "\n",
    "IN case of balanced tree the we will traverse O(n) times to find the Min and Max of the tree and O(logn) times for the isBST as the tree is balanced"
   ]
  },
  {
   "cell_type": "code",
   "execution_count": 21,
   "metadata": {},
   "outputs": [],
   "source": [
    "class BinaryTree(object):\n",
    "    \n",
    "    def __init__(self,data):\n",
    "        self.data = data\n",
    "        self.left = None\n",
    "        self.right = None\n",
    "\n",
    "def inserttree():\n",
    "    \n",
    "    rootdata = int(input())\n",
    "    \n",
    "    if rootdata == -1:\n",
    "        return\n",
    "    \n",
    "    root = BinaryTree(rootdata)\n",
    "    \n",
    "    root.left = inserttree()\n",
    "    root.right = inserttree()\n",
    "    \n",
    "    return root\n",
    "\n",
    "def printtree(root):\n",
    "    \n",
    "    if root is None:\n",
    "        return None\n",
    "    \n",
    "    print(root.data , end=\": \")\n",
    "    if root.left is not None:\n",
    "        print(\"L \", root.left.data, end = \",\")\n",
    "    \n",
    "    if root.right is not None:\n",
    "        print(\"R \", root.right.data, end=\"\")\n",
    "    \n",
    "    print()\n",
    "    \n",
    "    printtree(root.left)\n",
    "    printtree(root.right)"
   ]
  },
  {
   "cell_type": "code",
   "execution_count": 22,
   "metadata": {},
   "outputs": [],
   "source": [
    "def findmin(root):\n",
    "    \n",
    "    if root is None:\n",
    "        return 99999\n",
    "    \n",
    "    leftside = findmin(root.left)\n",
    "    rightside = findmin(root.right)\n",
    "    \n",
    "    return min(leftside, rightside, root.data)\n",
    "\n",
    "def findmax(root):\n",
    "    \n",
    "    if root is None:\n",
    "        return -99999\n",
    "    \n",
    "    leftside = findmax(root.left)\n",
    "    rightside = findmax(root.right)\n",
    "    \n",
    "    \n",
    "    return max(leftside, rightside, root.data)\n",
    "\n",
    "def isBST(root):\n",
    "    \n",
    "    if root is None:\n",
    "        return True\n",
    "    \n",
    "    # this condition checks if the tree si BST or not\n",
    "    if root.data <= findmax(root.left) or root.data > findmin(root.right):\n",
    "        return False\n",
    "    \n",
    "    return isBST(root.left) and isBST(root.right)"
   ]
  },
  {
   "cell_type": "code",
   "execution_count": 4,
   "metadata": {},
   "outputs": [
    {
     "name": "stdin",
     "output_type": "stream",
     "text": [
      " 4\n",
      " 2\n",
      " 1\n",
      " -1\n",
      " -1\n",
      " 3\n",
      " -1\n",
      " -1\n",
      " 6\n",
      " 5\n",
      " -1\n",
      " -1\n",
      " 7\n",
      " -1\n",
      " -1\n"
     ]
    },
    {
     "name": "stdout",
     "output_type": "stream",
     "text": [
      "4: L  2,R  6\n",
      "2: L  1,R  3\n",
      "1: \n",
      "3: \n",
      "6: L  5,R  7\n",
      "5: \n",
      "7: \n"
     ]
    }
   ],
   "source": [
    "root =inserttree()\n",
    "printtree(root)"
   ]
  },
  {
   "cell_type": "code",
   "execution_count": 24,
   "metadata": {},
   "outputs": [
    {
     "data": {
      "text/plain": [
       "True"
      ]
     },
     "execution_count": 24,
     "metadata": {},
     "output_type": "execute_result"
    }
   ],
   "source": [
    "isBST(root)"
   ]
  },
  {
   "cell_type": "code",
   "execution_count": 25,
   "metadata": {},
   "outputs": [
    {
     "name": "stdin",
     "output_type": "stream",
     "text": [
      " 4\n",
      " 2\n",
      " 1\n",
      " -1\n",
      " -1\n",
      " 3\n",
      " -1\n",
      " -1\n",
      " 6\n",
      " 10\n",
      " -1\n",
      " -1\n",
      " 11\n",
      " -1\n",
      " -1\n"
     ]
    },
    {
     "name": "stdout",
     "output_type": "stream",
     "text": [
      "4: L  2,R  6\n",
      "2: L  1,R  3\n",
      "1: \n",
      "3: \n",
      "6: L  10,R  11\n",
      "10: \n",
      "11: \n"
     ]
    }
   ],
   "source": [
    "root1 =inserttree()\n",
    "printtree(root1)"
   ]
  },
  {
   "cell_type": "code",
   "execution_count": 26,
   "metadata": {},
   "outputs": [
    {
     "data": {
      "text/plain": [
       "False"
      ]
     },
     "execution_count": 26,
     "metadata": {},
     "output_type": "execute_result"
    }
   ],
   "source": [
    "isBST(root1)"
   ]
  }
 ],
 "metadata": {
  "kernelspec": {
   "display_name": "Python 3",
   "language": "python",
   "name": "python3"
  },
  "language_info": {
   "codemirror_mode": {
    "name": "ipython",
    "version": 3
   },
   "file_extension": ".py",
   "mimetype": "text/x-python",
   "name": "python",
   "nbconvert_exporter": "python",
   "pygments_lexer": "ipython3",
   "version": "3.8.5"
  }
 },
 "nbformat": 4,
 "nbformat_minor": 4
}
