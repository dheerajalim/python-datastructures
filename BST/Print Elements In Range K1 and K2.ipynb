{
 "cells": [
  {
   "cell_type": "markdown",
   "metadata": {},
   "source": [
    "### Print Elements In Range K1 and K2 of a BST"
   ]
  },
  {
   "cell_type": "code",
   "execution_count": 1,
   "metadata": {},
   "outputs": [],
   "source": [
    "class BinaryTree(object):\n",
    "    \n",
    "    def __init__(self,data):\n",
    "        self.data = data\n",
    "        self.left = None\n",
    "        self.right = None\n",
    "\n",
    "def inserttree():\n",
    "    \n",
    "    rootdata = int(input())\n",
    "    \n",
    "    if rootdata == -1:\n",
    "        return\n",
    "    \n",
    "    root = BinaryTree(rootdata)\n",
    "    \n",
    "    root.left = inserttree()\n",
    "    root.right = inserttree()\n",
    "    \n",
    "    return root\n",
    "\n",
    "def printtree(root):\n",
    "    \n",
    "    if root is None:\n",
    "        return None\n",
    "    \n",
    "    print(root.data , end=\": \")\n",
    "    if root.left is not None:\n",
    "        print(\"L \", root.left.data, end = \",\")\n",
    "    \n",
    "    if root.right is not None:\n",
    "        print(\"R \", root.right.data, end=\"\")\n",
    "    \n",
    "    print()\n",
    "    \n",
    "    printtree(root.left)\n",
    "    printtree(root.right)"
   ]
  },
  {
   "cell_type": "code",
   "execution_count": 20,
   "metadata": {},
   "outputs": [],
   "source": [
    "def elementsInRangeK1K2(root, k1, k2):\n",
    "    if root is None:\n",
    "        return None\n",
    "    \n",
    "    if k1 <= root.data <= k2:\n",
    "        print(root.data)\n",
    "    \n",
    "    if root.data <= k1:\n",
    "        elementsInRangeK1K2(root.right,k1,k2)\n",
    "    elif root.data > k2:\n",
    "        elementsInRangeK1K2(root.left,k1,k2)\n",
    "    else:\n",
    "        elementsInRangeK1K2(root.left,k1,k2)\n",
    "        elementsInRangeK1K2(root.right,k1,k2)"
   ]
  },
  {
   "cell_type": "code",
   "execution_count": 3,
   "metadata": {},
   "outputs": [
    {
     "name": "stdin",
     "output_type": "stream",
     "text": [
      " 8\n",
      " 5\n",
      " 2\n",
      " -1\n",
      " -1\n",
      " 6\n",
      " -1\n",
      " 7\n",
      " -1\n",
      " -1\n",
      " 10\n",
      " 8\n",
      " -1\n",
      " -1\n",
      " -1\n"
     ]
    },
    {
     "name": "stdout",
     "output_type": "stream",
     "text": [
      "8: L  5,R  10\n",
      "5: L  2,R  6\n",
      "2: \n",
      "6: R  7\n",
      "7: \n",
      "10: L  8,\n",
      "8: \n"
     ]
    }
   ],
   "source": [
    "root = inserttree()\n",
    "printtree(root)"
   ]
  },
  {
   "cell_type": "code",
   "execution_count": 21,
   "metadata": {},
   "outputs": [
    {
     "name": "stdout",
     "output_type": "stream",
     "text": [
      "8\n",
      "6\n",
      "7\n",
      "8\n"
     ]
    }
   ],
   "source": [
    "elementsInRangeK1K2(root,6,8)"
   ]
  },
  {
   "cell_type": "markdown",
   "metadata": {},
   "source": [
    "### Ninja Solution \n",
    "\n",
    "Here we will print the result in increasing order.\n",
    "\n",
    "1. Mine: We can use stack and then store elements in it and print sorted stack\n",
    "2. Ninja: Traverse the tree inorder "
   ]
  },
  {
   "cell_type": "code",
   "execution_count": 34,
   "metadata": {},
   "outputs": [],
   "source": [
    "def elementsInRangeK1K2_ninja(root, k1, k2):\n",
    "    if root is None:\n",
    "        return\n",
    "    \n",
    "    if k1 <= root.data <= k2:\n",
    "        elementsInRangeK1K2_ninja(root.left,k1,k2)\n",
    "        print(root.data, end=\" \")\n",
    "        elementsInRangeK1K2_ninja(root.right,k1,k2)\n",
    "\n",
    "        return\n",
    "    if root.data <= k1:\n",
    "        elementsInRangeK1K2_ninja(root.right,k1,k2)\n",
    "    \n",
    "    else:\n",
    "        elementsInRangeK1K2_ninja(root.left,k1,k2)"
   ]
  },
  {
   "cell_type": "code",
   "execution_count": 35,
   "metadata": {},
   "outputs": [
    {
     "name": "stdout",
     "output_type": "stream",
     "text": [
      "6 7 8 8 "
     ]
    }
   ],
   "source": [
    "elementsInRangeK1K2_ninja(root,6,8)"
   ]
  },
  {
   "cell_type": "code",
   "execution_count": null,
   "metadata": {},
   "outputs": [],
   "source": []
  }
 ],
 "metadata": {
  "kernelspec": {
   "display_name": "Python 3",
   "language": "python",
   "name": "python3"
  },
  "language_info": {
   "codemirror_mode": {
    "name": "ipython",
    "version": 3
   },
   "file_extension": ".py",
   "mimetype": "text/x-python",
   "name": "python",
   "nbconvert_exporter": "python",
   "pygments_lexer": "ipython3",
   "version": "3.8.5"
  }
 },
 "nbformat": 4,
 "nbformat_minor": 4
}
