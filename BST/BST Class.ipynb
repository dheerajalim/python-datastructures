{
 "cells": [
  {
   "cell_type": "markdown",
   "metadata": {},
   "source": [
    "### Implementing a BST class\n",
    "\n",
    "This class will have:\n",
    "1. Insert method\n",
    "2. Delete method\n",
    "3. Ispresent method\n",
    "4. count method\n",
    "5. Print method\n",
    "\n",
    "The need of creating helper functions here is that we need recursion and recursion will work on root, hence we need a method that takes root"
   ]
  },
  {
   "cell_type": "markdown",
   "metadata": {},
   "source": [
    "### TIME COMPLEXITY\n",
    "\n",
    "1. Ispresent:\n",
    "\n",
    "The complexity for this method is O(H) , where H is the height of the tree.\n",
    "\n",
    "Reason: We will always go till the height of the tree to find if the node is present\n",
    "\n",
    "2. Insert:\n",
    "\n",
    "The complexity for this method is O(H) , where H is the height of the tree.\n",
    "\n",
    "Reason: We will always go till the height of the tree to find the node with None in either left or right and then insert\n",
    "\n",
    "3. Delete:\n",
    "\n",
    "Here for the nodes with 0 child or 1 child we will do O(H) work as we will only replace the node with either left or right child\n",
    "\n",
    "FOr nodes with two child, we will first find the min on the right side, for which we will work on height (H-K) where K is the height to reach the node to be deleted. The we will again do O(H-K) work to delete the minimum node from right.\n",
    "\n",
    "In total when we sum up O(K) + O(H-K) + O(H-K) = it will be O(H)"
   ]
  },
  {
   "cell_type": "code",
   "execution_count": 208,
   "metadata": {},
   "outputs": [],
   "source": [
    "class BinaryTree(object):\n",
    "    \n",
    "    def __init__(self,data):\n",
    "        \n",
    "        self.data = data\n",
    "        self.left = None\n",
    "        self.right = None"
   ]
  },
  {
   "cell_type": "code",
   "execution_count": 201,
   "metadata": {},
   "outputs": [],
   "source": [
    "class BST(object):\n",
    "    \n",
    "    def __init__(self):\n",
    "        self.root = None\n",
    "        self.Nodenum = 0\n",
    "    \n",
    "    def inserthelper(self,root,data):\n",
    "        \n",
    "        if root is None:\n",
    "            return BinaryTree(data)\n",
    "        \n",
    "        if data < root.data:\n",
    "            node = self.inserthelper(root.left,data)\n",
    "            root.left = node\n",
    "            return root\n",
    "        \n",
    "        else:\n",
    "            node = self.inserthelper(root.right,data)\n",
    "            root.right = node\n",
    "            return root\n",
    "    \n",
    "    def insert(self,data):\n",
    "        self.Nodenum += 1\n",
    "        self.root = self.inserthelper(self.root,data)\n",
    "    \n",
    "    def findmin(self,root):\n",
    "\n",
    "        if root is None:\n",
    "            return 9999\n",
    "        \n",
    "        if root.left is None:\n",
    "            return root.data\n",
    "        \n",
    "        leftside = self.findmin(root.left)\n",
    "        \n",
    "        return leftside\n",
    "    \n",
    "    def deletehelper(self,root,data):\n",
    "        \n",
    "        if root is None:\n",
    "            return False, None\n",
    "        \n",
    "        if root.data == data:\n",
    "            \n",
    "            if root.right is None and root.left is None:\n",
    "                return True, None\n",
    "            \n",
    "            elif root.right is None and root.left is not None:\n",
    "                root = root.left\n",
    "                return True, root\n",
    "            \n",
    "            elif root.left is None and root.right is not None:\n",
    "                root = root.right\n",
    "                return True, root\n",
    "            else:\n",
    "                \n",
    "                minright = self.findmin(root.right)\n",
    "                root.data = minright\n",
    "                isdeletedright, newrightnode = self.deletehelper(root.right,minright)\n",
    "                root.right = newrightnode\n",
    "                return True, root\n",
    "            \n",
    "        if data < root.data:\n",
    "            isdeletedleft, newleftnode = self.deletehelper(root.left,data)\n",
    "            root.left = newleftnode\n",
    "            return isdeletedleft, root\n",
    "        if data > root.data:\n",
    "            isdeletedright, newrightnode = self.deletehelper(root.right,data)\n",
    "            root.right = newrightnode\n",
    "            return isdeletedright, root\n",
    "                \n",
    "    \n",
    "    def delete(self,data):\n",
    "        isdeleted,self.root = self.deletehelper(self.root,data)\n",
    "        if isdeleted:\n",
    "            self.Nodenum -= 1\n",
    "        return isdeleted\n",
    "        \n",
    "    def ispresenthelper(self,root,data):\n",
    "\n",
    "        if root is None:\n",
    "            return False\n",
    "\n",
    "        if root.data == data:\n",
    "            return True\n",
    "\n",
    "        if data < root.data:\n",
    "            return self.ispresenthelper(root.left,data)\n",
    "\n",
    "        else:\n",
    "            return self.ispresenthelper(root.right,data)\n",
    "        \n",
    "        \n",
    "    def ispresent(self,data):\n",
    "        return self.ispresenthelper(self.root,data)\n",
    "    \n",
    "    def printtreehelper(self,root):\n",
    "        \n",
    "        if root is None:\n",
    "            return \n",
    "        \n",
    "        print(root.data,\": \",end=\"\")\n",
    "        \n",
    "        if root.left is not None:\n",
    "            print(\"L\", root.left.data,end=\",\")\n",
    "        \n",
    "        if root.right is not None:\n",
    "            print(\"R\", root.right.data,end=\"\")\n",
    "        \n",
    "        print()\n",
    "        \n",
    "        self.printtreehelper(root.left)\n",
    "        self.printtreehelper(root.right)\n",
    "    \n",
    "    def printtree(self):\n",
    "        self.printtreehelper(self.root)\n",
    "       \n",
    "    def count(self):\n",
    "        print(self.Nodenum)"
   ]
  },
  {
   "cell_type": "code",
   "execution_count": 202,
   "metadata": {},
   "outputs": [
    {
     "name": "stdout",
     "output_type": "stream",
     "text": [
      "4 : L 2,R 6\n",
      "2 : L 1,R 3\n",
      "1 : \n",
      "3 : \n",
      "6 : L 5,R 10\n",
      "5 : \n",
      "10 : L 7,R 13\n",
      "7 : \n",
      "13 : \n"
     ]
    }
   ],
   "source": [
    "bst = BST()\n",
    "bst.insert(4)\n",
    "bst.insert(2)\n",
    "bst.insert(3)\n",
    "bst.insert(6)\n",
    "bst.insert(10)\n",
    "bst.insert(7)\n",
    "bst.insert(13)\n",
    "bst.insert(5)\n",
    "bst.insert(1)\n",
    "bst.printtree()"
   ]
  },
  {
   "cell_type": "code",
   "execution_count": 203,
   "metadata": {},
   "outputs": [
    {
     "data": {
      "text/plain": [
       "True"
      ]
     },
     "execution_count": 203,
     "metadata": {},
     "output_type": "execute_result"
    }
   ],
   "source": [
    "bst.ispresent(5)"
   ]
  },
  {
   "cell_type": "code",
   "execution_count": 204,
   "metadata": {},
   "outputs": [
    {
     "name": "stdout",
     "output_type": "stream",
     "text": [
      "9\n"
     ]
    }
   ],
   "source": [
    "bst.count()"
   ]
  },
  {
   "cell_type": "code",
   "execution_count": 205,
   "metadata": {},
   "outputs": [
    {
     "data": {
      "text/plain": [
       "True"
      ]
     },
     "execution_count": 205,
     "metadata": {},
     "output_type": "execute_result"
    }
   ],
   "source": [
    "bst.delete(6)"
   ]
  },
  {
   "cell_type": "code",
   "execution_count": 206,
   "metadata": {},
   "outputs": [
    {
     "name": "stdout",
     "output_type": "stream",
     "text": [
      "4 : L 2,R 7\n",
      "2 : L 1,R 3\n",
      "1 : \n",
      "3 : \n",
      "7 : L 5,R 10\n",
      "5 : \n",
      "10 : R 13\n",
      "13 : \n"
     ]
    }
   ],
   "source": [
    "bst.printtree()"
   ]
  },
  {
   "cell_type": "code",
   "execution_count": 207,
   "metadata": {},
   "outputs": [
    {
     "name": "stdout",
     "output_type": "stream",
     "text": [
      "8\n"
     ]
    }
   ],
   "source": [
    "bst.count()"
   ]
  },
  {
   "cell_type": "code",
   "execution_count": null,
   "metadata": {},
   "outputs": [],
   "source": []
  }
 ],
 "metadata": {
  "kernelspec": {
   "display_name": "Python 3",
   "language": "python",
   "name": "python3"
  },
  "language_info": {
   "codemirror_mode": {
    "name": "ipython",
    "version": 3
   },
   "file_extension": ".py",
   "mimetype": "text/x-python",
   "name": "python",
   "nbconvert_exporter": "python",
   "pygments_lexer": "ipython3",
   "version": "3.8.5"
  }
 },
 "nbformat": 4,
 "nbformat_minor": 4
}
