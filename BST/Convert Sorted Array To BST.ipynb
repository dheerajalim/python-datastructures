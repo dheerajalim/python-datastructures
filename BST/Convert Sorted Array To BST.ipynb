{
 "cells": [
  {
   "cell_type": "markdown",
   "metadata": {},
   "source": [
    "### Convert Sorted Array To BST\n",
    "\n",
    "1. The given array is sorted\n",
    "2. We will find the middle of the array and then make the lefta nd right side attached to the left and right side of the root respective;y\n"
   ]
  },
  {
   "cell_type": "markdown",
   "metadata": {},
   "source": [
    "#### Time Complexity : O(N)\n",
    "#### Space Complexity  : O(N)\n",
    "\n",
    "where N is the number of Nodes"
   ]
  },
  {
   "cell_type": "code",
   "execution_count": 29,
   "metadata": {},
   "outputs": [],
   "source": [
    "class BinaryTree(object):\n",
    "    \n",
    "    def __init__(self,data):\n",
    "        \n",
    "        self.data = data\n",
    "        self.left = None\n",
    "        self.right = None\n",
    "        \n",
    "\n",
    "def printtree(root):\n",
    "    \n",
    "    if root is None:\n",
    "        return\n",
    "    \n",
    "    print(root.data, end=\": \")\n",
    "    \n",
    "    if root.left is not None:\n",
    "        print(\"L \", root.left.data, end=\",\")\n",
    "    if root.right is not None:\n",
    "        print(\"R \", root.right.data,end=\"\")\n",
    "    print()\n",
    "    printtree(root.left)\n",
    "    printtree(root.right)\n",
    "    \n",
    "def preorder(root):\n",
    "    \n",
    "    if root is None:\n",
    "        return\n",
    "    \n",
    "    print(root.data, end=\" \")\n",
    "    preorder(root.left)\n",
    "    preorder(root.right)\n",
    "    \n",
    "def inorder(root):\n",
    "    if root is None:\n",
    "        return\n",
    "    inorder(root.left)\n",
    "    print(root.data, end = \" \")\n",
    "    inorder(root.right)\n",
    "\n",
    "def postorder(root):\n",
    "    if root is None:\n",
    "        return\n",
    "    postorder(root.left)\n",
    "    postorder(root.right)\n",
    "    print(root.data, end = \" \")"
   ]
  },
  {
   "cell_type": "code",
   "execution_count": 52,
   "metadata": {},
   "outputs": [],
   "source": [
    "def constructBST(arr):\n",
    "    \n",
    "    if len(arr) <= 0:\n",
    "        return\n",
    "    \n",
    "#     if len(arr) ==1:\n",
    "#         return BinaryTree(arr[0])\n",
    "    \n",
    "    #finding the miiddle element of the array which will be root\n",
    "    \n",
    "    if len(arr) % 2 == 0:\n",
    "        middle_index = (len(arr)-1)//2\n",
    "    else:\n",
    "        middle_index = len(arr)//2\n",
    "        \n",
    "    root = BinaryTree(arr[middle_index])\n",
    "    leftside = constructBST(arr[:middle_index])\n",
    "    rightside = constructBST(arr[middle_index+1:])\n",
    "    \n",
    "    root.left = leftside\n",
    "    root.right = rightside\n",
    "    \n",
    "    return root\n",
    "    "
   ]
  },
  {
   "cell_type": "code",
   "execution_count": 22,
   "metadata": {},
   "outputs": [
    {
     "name": "stdout",
     "output_type": "stream",
     "text": [
      "4: L  2,R  6\n",
      "2: L  1,R  3\n",
      "1: \n",
      "3: \n",
      "6: L  5,R  7\n",
      "5: \n",
      "7: \n"
     ]
    }
   ],
   "source": [
    "tree = [1,2,3,4,5,6,7]\n",
    "root = constructBST(tree)\n",
    "printtree(root)"
   ]
  },
  {
   "cell_type": "code",
   "execution_count": 53,
   "metadata": {},
   "outputs": [
    {
     "name": "stdout",
     "output_type": "stream",
     "text": [
      "4 2 1 3 6 5 7 "
     ]
    }
   ],
   "source": [
    "preorder(root)"
   ]
  },
  {
   "cell_type": "code",
   "execution_count": 54,
   "metadata": {},
   "outputs": [
    {
     "name": "stdout",
     "output_type": "stream",
     "text": [
      "1 2 3 4 5 6 7 "
     ]
    }
   ],
   "source": [
    "inorder(root)"
   ]
  },
  {
   "cell_type": "code",
   "execution_count": 55,
   "metadata": {},
   "outputs": [
    {
     "name": "stdout",
     "output_type": "stream",
     "text": [
      "1 3 2 5 7 6 4 "
     ]
    }
   ],
   "source": [
    "postorder(root)"
   ]
  },
  {
   "cell_type": "code",
   "execution_count": 56,
   "metadata": {},
   "outputs": [],
   "source": [
    "tree1 = []\n",
    "root1 = constructBST(tree1)\n",
    "printtree(root1)"
   ]
  },
  {
   "cell_type": "code",
   "execution_count": 57,
   "metadata": {},
   "outputs": [],
   "source": [
    "preorder(root1)"
   ]
  },
  {
   "cell_type": "code",
   "execution_count": null,
   "metadata": {},
   "outputs": [],
   "source": []
  }
 ],
 "metadata": {
  "kernelspec": {
   "display_name": "Python 3",
   "language": "python",
   "name": "python3"
  },
  "language_info": {
   "codemirror_mode": {
    "name": "ipython",
    "version": 3
   },
   "file_extension": ".py",
   "mimetype": "text/x-python",
   "name": "python",
   "nbconvert_exporter": "python",
   "pygments_lexer": "ipython3",
   "version": "3.8.5"
  }
 },
 "nbformat": 4,
 "nbformat_minor": 4
}
