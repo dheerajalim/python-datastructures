{
 "cells": [
  {
   "cell_type": "markdown",
   "metadata": {},
   "source": [
    "### Find path in BST\n",
    "\n",
    "Given a BST and an integer k. Find and return the path from the node with data k till root (if a node with data k is present in given BST) in a list. Return empty list otherwise."
   ]
  },
  {
   "cell_type": "code",
   "execution_count": null,
   "metadata": {},
   "outputs": [],
   "source": [
    "class BinaryTree(object):\n",
    "    \n",
    "    def __init__(self,data):\n",
    "        self.data = data\n",
    "        self.left = None\n",
    "        self.right = None\n",
    "\n",
    "def inserttree():\n",
    "    \n",
    "    rootdata = int(input())\n",
    "    \n",
    "    if rootdata == -1:\n",
    "        return\n",
    "    \n",
    "    root = BinaryTree(rootdata)\n",
    "    \n",
    "    root.left = inserttree()\n",
    "    root.right = inserttree()\n",
    "    \n",
    "    return root\n",
    "\n",
    "def printtree(root):\n",
    "    \n",
    "    if root is None:\n",
    "        return None\n",
    "    \n",
    "    print(root.data , end=\": \")\n",
    "    if root.left is not None:\n",
    "        print(\"L \", root.left.data, end = \",\")\n",
    "    \n",
    "    if root.right is not None:\n",
    "        print(\"R \", root.right.data, end=\"\")\n",
    "    \n",
    "    print()\n",
    "    \n",
    "    printtree(root.left)\n",
    "    printtree(root.right)"
   ]
  },
  {
   "cell_type": "code",
   "execution_count": 14,
   "metadata": {},
   "outputs": [],
   "source": [
    "def nodetorootpathBST(root,data):\n",
    "    \n",
    "    if root is None:\n",
    "        return None\n",
    "    \n",
    "    if root.data == data:\n",
    "        path = []\n",
    "        path.append(root.data)\n",
    "        return path\n",
    "    \n",
    "    if data < root.data:\n",
    "        leftside = nodetorootpathBST(root.left,data)\n",
    "        if leftside:\n",
    "            leftside.append(root.data)\n",
    "            return leftside\n",
    "        \n",
    "    elif data >= root.data:\n",
    "        rightside = nodetorootpathBST(root.right,data)\n",
    "        if rightside:\n",
    "            rightside.append(root.data)\n",
    "            return rightside\n",
    "  "
   ]
  },
  {
   "cell_type": "code",
   "execution_count": 7,
   "metadata": {},
   "outputs": [
    {
     "name": "stdin",
     "output_type": "stream",
     "text": [
      " 8\n",
      " 5\n",
      " 2\n",
      " -1\n",
      " -1\n",
      " 6\n",
      " -1\n",
      " 7\n",
      " -1\n",
      " -1\n",
      " 10\n",
      " -1\n",
      " -1\n"
     ]
    },
    {
     "name": "stdout",
     "output_type": "stream",
     "text": [
      "8: L  5,R  10\n",
      "5: L  2,R  6\n",
      "2: \n",
      "6: R  7\n",
      "7: \n",
      "10: \n"
     ]
    }
   ],
   "source": [
    "root = inserttree()\n",
    "printtree(root)"
   ]
  },
  {
   "cell_type": "code",
   "execution_count": 15,
   "metadata": {},
   "outputs": [
    {
     "data": {
      "text/plain": [
       "[2, 5, 8]"
      ]
     },
     "execution_count": 15,
     "metadata": {},
     "output_type": "execute_result"
    }
   ],
   "source": [
    "nodetorootpathBST(root,2)"
   ]
  },
  {
   "cell_type": "code",
   "execution_count": 16,
   "metadata": {},
   "outputs": [],
   "source": [
    "nodetorootpathBST(root,11)"
   ]
  }
 ],
 "metadata": {
  "kernelspec": {
   "display_name": "Python 3",
   "language": "python",
   "name": "python3"
  },
  "language_info": {
   "codemirror_mode": {
    "name": "ipython",
    "version": 3
   },
   "file_extension": ".py",
   "mimetype": "text/x-python",
   "name": "python",
   "nbconvert_exporter": "python",
   "pygments_lexer": "ipython3",
   "version": "3.8.5"
  }
 },
 "nbformat": 4,
 "nbformat_minor": 4
}
